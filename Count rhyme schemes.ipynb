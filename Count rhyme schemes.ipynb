{
 "cells": [
  {
   "cell_type": "markdown",
   "metadata": {},
   "source": [
    "## Count stanzas and lines"
   ]
  },
  {
   "cell_type": "code",
   "execution_count": 1,
   "metadata": {},
   "outputs": [],
   "source": [
    "from collections import Counter, defaultdict\n",
    "import itertools\n",
    "from pathlib import Path\n",
    "import string\n",
    "\n",
    "import matplotlib.pyplot as plt\n",
    "import nltk\n",
    "import pandas as pd"
   ]
  },
  {
   "cell_type": "code",
   "execution_count": 2,
   "metadata": {
    "scrolled": true
   },
   "outputs": [
    {
     "data": {
      "text/html": [
       "<div>\n",
       "<style scoped>\n",
       "    .dataframe tbody tr th:only-of-type {\n",
       "        vertical-align: middle;\n",
       "    }\n",
       "\n",
       "    .dataframe tbody tr th {\n",
       "        vertical-align: top;\n",
       "    }\n",
       "\n",
       "    .dataframe thead th {\n",
       "        text-align: right;\n",
       "    }\n",
       "</style>\n",
       "<table border=\"1\" class=\"dataframe\">\n",
       "  <thead>\n",
       "    <tr style=\"text-align: right;\">\n",
       "      <th></th>\n",
       "      <th>rhyme scheme</th>\n",
       "      <th>stanza</th>\n",
       "      <th>filename</th>\n",
       "      <th>stanza number (in file)</th>\n",
       "    </tr>\n",
       "  </thead>\n",
       "  <tbody>\n",
       "    <tr>\n",
       "      <th>0</th>\n",
       "      <td>AABCCBI</td>\n",
       "      <td>Gud, la oss i din kunnskap fremmes,\\nså det vi...</td>\n",
       "      <td>2009013000065_1_annotated.txt</td>\n",
       "      <td>0</td>\n",
       "    </tr>\n",
       "    <tr>\n",
       "      <th>1</th>\n",
       "      <td>TAABCCB</td>\n",
       "      <td>ANNEN SANG\\nFra Landego seiles mot Skrova i no...</td>\n",
       "      <td>2007011001018_11_annotated.txt</td>\n",
       "      <td>0</td>\n",
       "    </tr>\n",
       "    <tr>\n",
       "      <th>2</th>\n",
       "      <td>AABCCB</td>\n",
       "      <td>Og er det en høstkveld når mørket står på\\nså ...</td>\n",
       "      <td>2007011001018_11_annotated.txt</td>\n",
       "      <td>1</td>\n",
       "    </tr>\n",
       "    <tr>\n",
       "      <th>3</th>\n",
       "      <td>AABCCB</td>\n",
       "      <td>Snart ligger og kaien der dyngvåt av regn,\\nog...</td>\n",
       "      <td>2007011001018_11_annotated.txt</td>\n",
       "      <td>2</td>\n",
       "    </tr>\n",
       "    <tr>\n",
       "      <th>4</th>\n",
       "      <td>AABCCB</td>\n",
       "      <td>Og rett bort i øst ligger Svinøya gård\\nhvor B...</td>\n",
       "      <td>2007011001018_11_annotated.txt</td>\n",
       "      <td>3</td>\n",
       "    </tr>\n",
       "    <tr>\n",
       "      <th>...</th>\n",
       "      <td>...</td>\n",
       "      <td>...</td>\n",
       "      <td>...</td>\n",
       "      <td>...</td>\n",
       "    </tr>\n",
       "    <tr>\n",
       "      <th>5153</th>\n",
       "      <td>AABB</td>\n",
       "      <td>Lukket! Lukket! Øde veier! Gledens vinger brut...</td>\n",
       "      <td>2011041408091_18_annotated.txt</td>\n",
       "      <td>5</td>\n",
       "    </tr>\n",
       "    <tr>\n",
       "      <th>5154</th>\n",
       "      <td>AABB</td>\n",
       "      <td>Og nå stod han her som fremmed i et fremmed la...</td>\n",
       "      <td>2011041408091_18_annotated.txt</td>\n",
       "      <td>6</td>\n",
       "    </tr>\n",
       "    <tr>\n",
       "      <th>5155</th>\n",
       "      <td>AABB</td>\n",
       "      <td>Opp av havets blanke bølger, som en vårfrisk m...</td>\n",
       "      <td>2011041408091_18_annotated.txt</td>\n",
       "      <td>7</td>\n",
       "    </tr>\n",
       "    <tr>\n",
       "      <th>5156</th>\n",
       "      <td>AABB</td>\n",
       "      <td>Til Europa! Tanken slår ham plutselig som lyn,...</td>\n",
       "      <td>2011041408091_18_annotated.txt</td>\n",
       "      <td>8</td>\n",
       "    </tr>\n",
       "    <tr>\n",
       "      <th>5157</th>\n",
       "      <td>AABB</td>\n",
       "      <td>Ei han nøler med å følge veiens nye spor.\\nI d...</td>\n",
       "      <td>2011041408091_18_annotated.txt</td>\n",
       "      <td>9</td>\n",
       "    </tr>\n",
       "  </tbody>\n",
       "</table>\n",
       "<p>5158 rows × 4 columns</p>\n",
       "</div>"
      ],
      "text/plain": [
       "     rhyme scheme                                             stanza  \\\n",
       "0         AABCCBI  Gud, la oss i din kunnskap fremmes,\\nså det vi...   \n",
       "1         TAABCCB  ANNEN SANG\\nFra Landego seiles mot Skrova i no...   \n",
       "2          AABCCB  Og er det en høstkveld når mørket står på\\nså ...   \n",
       "3          AABCCB  Snart ligger og kaien der dyngvåt av regn,\\nog...   \n",
       "4          AABCCB  Og rett bort i øst ligger Svinøya gård\\nhvor B...   \n",
       "...           ...                                                ...   \n",
       "5153         AABB  Lukket! Lukket! Øde veier! Gledens vinger brut...   \n",
       "5154         AABB  Og nå stod han her som fremmed i et fremmed la...   \n",
       "5155         AABB  Opp av havets blanke bølger, som en vårfrisk m...   \n",
       "5156         AABB  Til Europa! Tanken slår ham plutselig som lyn,...   \n",
       "5157         AABB  Ei han nøler med å følge veiens nye spor.\\nI d...   \n",
       "\n",
       "                            filename  stanza number (in file)  \n",
       "0      2009013000065_1_annotated.txt                        0  \n",
       "1     2007011001018_11_annotated.txt                        0  \n",
       "2     2007011001018_11_annotated.txt                        1  \n",
       "3     2007011001018_11_annotated.txt                        2  \n",
       "4     2007011001018_11_annotated.txt                        3  \n",
       "...                              ...                      ...  \n",
       "5153  2011041408091_18_annotated.txt                        5  \n",
       "5154  2011041408091_18_annotated.txt                        6  \n",
       "5155  2011041408091_18_annotated.txt                        7  \n",
       "5156  2011041408091_18_annotated.txt                        8  \n",
       "5157  2011041408091_18_annotated.txt                        9  \n",
       "\n",
       "[5158 rows x 4 columns]"
      ]
     },
     "execution_count": 2,
     "metadata": {},
     "output_type": "execute_result"
    }
   ],
   "source": [
    "name = \"tita\"\n",
    "\n",
    "poem_df = pd.read_csv(f\"tsvs/{name}_rhymes_poems.tsv\", sep=\"\\t\")\n",
    "poem_df"
   ]
  },
  {
   "cell_type": "code",
   "execution_count": 3,
   "metadata": {},
   "outputs": [
    {
     "name": "stdout",
     "output_type": "stream",
     "text": [
      "Poems: 508\n",
      "Stanzas: 5158\n",
      "Lines: 26198\n"
     ]
    }
   ],
   "source": [
    "lines = sum(len(stanza.split(\"\\n\")) for stanza in poem_df.stanza)\n",
    "poems = len(set(poem_df.filename))\n",
    "print(f\"Poems: {poems}\\nStanzas: {len(poem_df)}\\nLines: {lines}\")"
   ]
  },
  {
   "cell_type": "markdown",
   "metadata": {},
   "source": [
    "## Count rhyme schemes"
   ]
  },
  {
   "cell_type": "code",
   "execution_count": 4,
   "metadata": {
    "scrolled": false
   },
   "outputs": [
    {
     "name": "stdout",
     "output_type": "stream",
     "text": [
      "Schemes with title: 349\n",
      "schemes with info: 80\n",
      "schemes with noise: 2\n"
     ]
    },
    {
     "data": {
      "text/html": [
       "<div>\n",
       "<style scoped>\n",
       "    .dataframe tbody tr th:only-of-type {\n",
       "        vertical-align: middle;\n",
       "    }\n",
       "\n",
       "    .dataframe tbody tr th {\n",
       "        vertical-align: top;\n",
       "    }\n",
       "\n",
       "    .dataframe thead th {\n",
       "        text-align: right;\n",
       "    }\n",
       "</style>\n",
       "<table border=\"1\" class=\"dataframe\">\n",
       "  <thead>\n",
       "    <tr style=\"text-align: right;\">\n",
       "      <th></th>\n",
       "      <th>scheme</th>\n",
       "      <th>count</th>\n",
       "    </tr>\n",
       "  </thead>\n",
       "  <tbody>\n",
       "    <tr>\n",
       "      <th>0</th>\n",
       "      <td>ABAB</td>\n",
       "      <td>1059</td>\n",
       "    </tr>\n",
       "    <tr>\n",
       "      <th>1</th>\n",
       "      <td>ABCB</td>\n",
       "      <td>699</td>\n",
       "    </tr>\n",
       "    <tr>\n",
       "      <th>2</th>\n",
       "      <td>AABB</td>\n",
       "      <td>571</td>\n",
       "    </tr>\n",
       "    <tr>\n",
       "      <th>3</th>\n",
       "      <td>AABCCB</td>\n",
       "      <td>336</td>\n",
       "    </tr>\n",
       "    <tr>\n",
       "      <th>4</th>\n",
       "      <td>ABBA</td>\n",
       "      <td>170</td>\n",
       "    </tr>\n",
       "    <tr>\n",
       "      <th>...</th>\n",
       "      <td>...</td>\n",
       "      <td>...</td>\n",
       "    </tr>\n",
       "    <tr>\n",
       "      <th>593</th>\n",
       "      <td>ABCDBEC</td>\n",
       "      <td>1</td>\n",
       "    </tr>\n",
       "    <tr>\n",
       "      <th>594</th>\n",
       "      <td>ABAAC</td>\n",
       "      <td>1</td>\n",
       "    </tr>\n",
       "    <tr>\n",
       "      <th>595</th>\n",
       "      <td>TABBACC</td>\n",
       "      <td>1</td>\n",
       "    </tr>\n",
       "    <tr>\n",
       "      <th>596</th>\n",
       "      <td>TIABAC</td>\n",
       "      <td>1</td>\n",
       "    </tr>\n",
       "    <tr>\n",
       "      <th>597</th>\n",
       "      <td>ABABCDEDC</td>\n",
       "      <td>1</td>\n",
       "    </tr>\n",
       "  </tbody>\n",
       "</table>\n",
       "<p>598 rows × 2 columns</p>\n",
       "</div>"
      ],
      "text/plain": [
       "        scheme  count\n",
       "0         ABAB   1059\n",
       "1         ABCB    699\n",
       "2         AABB    571\n",
       "3       AABCCB    336\n",
       "4         ABBA    170\n",
       "..         ...    ...\n",
       "593    ABCDBEC      1\n",
       "594      ABAAC      1\n",
       "595    TABBACC      1\n",
       "596     TIABAC      1\n",
       "597  ABABCDEDC      1\n",
       "\n",
       "[598 rows x 2 columns]"
      ]
     },
     "execution_count": 4,
     "metadata": {},
     "output_type": "execute_result"
    }
   ],
   "source": [
    "rhyme_schemes = list(poem_df[\"rhyme scheme\"])\n",
    "\n",
    "c = Counter(rhyme_schemes)\n",
    "l = list(c.items())\n",
    "l.sort(key = lambda x: x[1], reverse = True)\n",
    "\n",
    "title_schemes = [s for s in rhyme_schemes if \"T\" in s]\n",
    "info_schemes = [s for s in rhyme_schemes if \"I\" in s]\n",
    "noise_schemes = [s for s in rhyme_schemes if \"N\" in s]\n",
    "\n",
    "print(f\"Schemes with title: {len(title_schemes)}\\nschemes with info: {len(info_schemes)}\\nschemes with noise: {len(noise_schemes)}\")\n",
    "df = pd.DataFrame(l, columns = [\"scheme\", \"count\"])\n",
    "df"
   ]
  },
  {
   "cell_type": "markdown",
   "metadata": {},
   "source": [
    "## Remove title, info and noise code for rhyme scheme statistics"
   ]
  },
  {
   "cell_type": "code",
   "execution_count": 5,
   "metadata": {
    "scrolled": true
   },
   "outputs": [
    {
     "data": {
      "text/html": [
       "<div>\n",
       "<style scoped>\n",
       "    .dataframe tbody tr th:only-of-type {\n",
       "        vertical-align: middle;\n",
       "    }\n",
       "\n",
       "    .dataframe tbody tr th {\n",
       "        vertical-align: top;\n",
       "    }\n",
       "\n",
       "    .dataframe thead th {\n",
       "        text-align: right;\n",
       "    }\n",
       "</style>\n",
       "<table border=\"1\" class=\"dataframe\">\n",
       "  <thead>\n",
       "    <tr style=\"text-align: right;\">\n",
       "      <th></th>\n",
       "      <th>scheme</th>\n",
       "      <th>count</th>\n",
       "    </tr>\n",
       "  </thead>\n",
       "  <tbody>\n",
       "    <tr>\n",
       "      <th>0</th>\n",
       "      <td>ABAB</td>\n",
       "      <td>1142</td>\n",
       "    </tr>\n",
       "    <tr>\n",
       "      <th>1</th>\n",
       "      <td>ABCB</td>\n",
       "      <td>749</td>\n",
       "    </tr>\n",
       "    <tr>\n",
       "      <th>2</th>\n",
       "      <td>AABB</td>\n",
       "      <td>611</td>\n",
       "    </tr>\n",
       "    <tr>\n",
       "      <th>3</th>\n",
       "      <td>AABCCB</td>\n",
       "      <td>360</td>\n",
       "    </tr>\n",
       "    <tr>\n",
       "      <th>4</th>\n",
       "      <td>ABBA</td>\n",
       "      <td>181</td>\n",
       "    </tr>\n",
       "    <tr>\n",
       "      <th>...</th>\n",
       "      <td>...</td>\n",
       "      <td>...</td>\n",
       "    </tr>\n",
       "    <tr>\n",
       "      <th>485</th>\n",
       "      <td>ABCDEFGHG</td>\n",
       "      <td>1</td>\n",
       "    </tr>\n",
       "    <tr>\n",
       "      <th>486</th>\n",
       "      <td>ABCDCEA</td>\n",
       "      <td>1</td>\n",
       "    </tr>\n",
       "    <tr>\n",
       "      <th>487</th>\n",
       "      <td>ABCDBEC</td>\n",
       "      <td>1</td>\n",
       "    </tr>\n",
       "    <tr>\n",
       "      <th>488</th>\n",
       "      <td>ABAAC</td>\n",
       "      <td>1</td>\n",
       "    </tr>\n",
       "    <tr>\n",
       "      <th>489</th>\n",
       "      <td>ABABCDEDC</td>\n",
       "      <td>1</td>\n",
       "    </tr>\n",
       "  </tbody>\n",
       "</table>\n",
       "<p>490 rows × 2 columns</p>\n",
       "</div>"
      ],
      "text/plain": [
       "        scheme  count\n",
       "0         ABAB   1142\n",
       "1         ABCB    749\n",
       "2         AABB    611\n",
       "3       AABCCB    360\n",
       "4         ABBA    181\n",
       "..         ...    ...\n",
       "485  ABCDEFGHG      1\n",
       "486    ABCDCEA      1\n",
       "487    ABCDBEC      1\n",
       "488      ABAAC      1\n",
       "489  ABABCDEDC      1\n",
       "\n",
       "[490 rows x 2 columns]"
      ]
     },
     "execution_count": 5,
     "metadata": {},
     "output_type": "execute_result"
    }
   ],
   "source": [
    "new_rhyme_schemes = [scheme.replace(\"T\", \"\").replace(\"I\", \"\").replace(\"N\", \"\") for scheme in rhyme_schemes]\n",
    "c2 = Counter(new_rhyme_schemes)\n",
    "l2 = list(c2.items())\n",
    "l2.sort(key = lambda x: x[1], reverse = True)\n",
    "df2 = pd.DataFrame(l2, columns = [\"scheme\", \"count\"])\n",
    "df2"
   ]
  },
  {
   "cell_type": "code",
   "execution_count": 6,
   "metadata": {},
   "outputs": [],
   "source": [
    "df2.to_csv(\"tsvs/rhyme_scheme_counts_clean.tsv\", sep=\"\\t\", index=False)"
   ]
  },
  {
   "cell_type": "code",
   "execution_count": 7,
   "metadata": {
    "scrolled": true
   },
   "outputs": [
    {
     "data": {
      "text/html": [
       "<div>\n",
       "<style scoped>\n",
       "    .dataframe tbody tr th:only-of-type {\n",
       "        vertical-align: middle;\n",
       "    }\n",
       "\n",
       "    .dataframe tbody tr th {\n",
       "        vertical-align: top;\n",
       "    }\n",
       "\n",
       "    .dataframe thead th {\n",
       "        text-align: right;\n",
       "    }\n",
       "</style>\n",
       "<table border=\"1\" class=\"dataframe\">\n",
       "  <thead>\n",
       "    <tr style=\"text-align: right;\">\n",
       "      <th></th>\n",
       "      <th>scheme</th>\n",
       "      <th>count</th>\n",
       "    </tr>\n",
       "  </thead>\n",
       "  <tbody>\n",
       "    <tr>\n",
       "      <th>187</th>\n",
       "      <td>AABCDEFD</td>\n",
       "      <td>1</td>\n",
       "    </tr>\n",
       "    <tr>\n",
       "      <th>188</th>\n",
       "      <td>ABACBDCD</td>\n",
       "      <td>1</td>\n",
       "    </tr>\n",
       "    <tr>\n",
       "      <th>189</th>\n",
       "      <td>ABABBB</td>\n",
       "      <td>1</td>\n",
       "    </tr>\n",
       "    <tr>\n",
       "      <th>190</th>\n",
       "      <td>ABBBA</td>\n",
       "      <td>1</td>\n",
       "    </tr>\n",
       "    <tr>\n",
       "      <th>191</th>\n",
       "      <td>AABCCDDA</td>\n",
       "      <td>1</td>\n",
       "    </tr>\n",
       "    <tr>\n",
       "      <th>...</th>\n",
       "      <td>...</td>\n",
       "      <td>...</td>\n",
       "    </tr>\n",
       "    <tr>\n",
       "      <th>485</th>\n",
       "      <td>ABCDEFGHG</td>\n",
       "      <td>1</td>\n",
       "    </tr>\n",
       "    <tr>\n",
       "      <th>486</th>\n",
       "      <td>ABCDCEA</td>\n",
       "      <td>1</td>\n",
       "    </tr>\n",
       "    <tr>\n",
       "      <th>487</th>\n",
       "      <td>ABCDBEC</td>\n",
       "      <td>1</td>\n",
       "    </tr>\n",
       "    <tr>\n",
       "      <th>488</th>\n",
       "      <td>ABAAC</td>\n",
       "      <td>1</td>\n",
       "    </tr>\n",
       "    <tr>\n",
       "      <th>489</th>\n",
       "      <td>ABABCDEDC</td>\n",
       "      <td>1</td>\n",
       "    </tr>\n",
       "  </tbody>\n",
       "</table>\n",
       "<p>303 rows × 2 columns</p>\n",
       "</div>"
      ],
      "text/plain": [
       "        scheme  count\n",
       "187   AABCDEFD      1\n",
       "188   ABACBDCD      1\n",
       "189     ABABBB      1\n",
       "190      ABBBA      1\n",
       "191   AABCCDDA      1\n",
       "..         ...    ...\n",
       "485  ABCDEFGHG      1\n",
       "486    ABCDCEA      1\n",
       "487    ABCDBEC      1\n",
       "488      ABAAC      1\n",
       "489  ABABCDEDC      1\n",
       "\n",
       "[303 rows x 2 columns]"
      ]
     },
     "execution_count": 7,
     "metadata": {},
     "output_type": "execute_result"
    }
   ],
   "source": [
    "one_occurence = df2.loc[df2[\"count\"]==1]\n",
    "one_occurence"
   ]
  },
  {
   "cell_type": "code",
   "execution_count": 8,
   "metadata": {},
   "outputs": [
    {
     "data": {
      "image/png": "[encoded data removed]",
      "text/plain": [
       "<Figure size 1080x360 with 1 Axes>"
      ]
     },
     "metadata": {
      "needs_background": "light"
     },
     "output_type": "display_data"
    }
   ],
   "source": [
    "x = df2[\"scheme\"]\n",
    "x_i = df2.index\n",
    "y = df2[\"count\"]\n",
    "\n",
    "fig, ax = plt.subplots(figsize=(15, 5))\n",
    "ax.scatter(x_i, y)\n",
    "\n",
    "for i in range(5):\n",
    "    ax.annotate(f\" {x[i]}, count: {y[i]}\", (x_i[i], y[i]))\n",
    "\n",
    "plt.setp(ax.get_xticklabels(), visible=False)\n",
    "plt.xlabel(f\"Rhyme schemes\")\n",
    "plt.ylabel(\"Count\")\n",
    "\n",
    "plt.show()"
   ]
  },
  {
   "cell_type": "code",
   "execution_count": 9,
   "metadata": {},
   "outputs": [
    {
     "data": {
      "text/plain": [
       "87"
      ]
     },
     "execution_count": 9,
     "metadata": {},
     "output_type": "execute_result"
    }
   ],
   "source": [
    "more_than_five = df2.loc[df2[\"count\"]>=5]\n",
    "x = more_than_five[\"scheme\"]\n",
    "y = more_than_five[\"count\"]\n",
    "len(more_than_five)"
   ]
  },
  {
   "cell_type": "code",
   "execution_count": 10,
   "metadata": {},
   "outputs": [
    {
     "data": {
      "image/png": "[encoded data removed]",
      "text/plain": [
       "<Figure size 1080x1224 with 1 Axes>"
      ]
     },
     "metadata": {
      "needs_background": "light"
     },
     "output_type": "display_data"
    }
   ],
   "source": [
    "fig, ax = plt.subplots(figsize=(15, 17))\n",
    "ax.scatter(x, y)\n",
    "\n",
    "for i in range(7):\n",
    "    ax.annotate(x[i], (x[i], y[i]))\n",
    "\n",
    "plt.setp(ax.get_xticklabels(), visible=False)\n",
    "plt.xlabel(\"Rhyme scheme\")\n",
    "plt.ylabel(\"Count\")\n",
    "plt.grid(axis=\"y\")\n",
    "\n",
    "plt.show()"
   ]
  },
  {
   "cell_type": "code",
   "execution_count": 11,
   "metadata": {},
   "outputs": [
    {
     "data": {
      "text/html": [
       "<div>\n",
       "<style scoped>\n",
       "    .dataframe tbody tr th:only-of-type {\n",
       "        vertical-align: middle;\n",
       "    }\n",
       "\n",
       "    .dataframe tbody tr th {\n",
       "        vertical-align: top;\n",
       "    }\n",
       "\n",
       "    .dataframe thead th {\n",
       "        text-align: right;\n",
       "    }\n",
       "</style>\n",
       "<table border=\"1\" class=\"dataframe\">\n",
       "  <thead>\n",
       "    <tr style=\"text-align: right;\">\n",
       "      <th></th>\n",
       "      <th>scheme</th>\n",
       "      <th>count</th>\n",
       "    </tr>\n",
       "  </thead>\n",
       "  <tbody>\n",
       "    <tr>\n",
       "      <th>0</th>\n",
       "      <td>ABAB</td>\n",
       "      <td>1142</td>\n",
       "    </tr>\n",
       "    <tr>\n",
       "      <th>1</th>\n",
       "      <td>ABCB</td>\n",
       "      <td>749</td>\n",
       "    </tr>\n",
       "    <tr>\n",
       "      <th>2</th>\n",
       "      <td>AABB</td>\n",
       "      <td>611</td>\n",
       "    </tr>\n",
       "    <tr>\n",
       "      <th>3</th>\n",
       "      <td>AABCCB</td>\n",
       "      <td>360</td>\n",
       "    </tr>\n",
       "    <tr>\n",
       "      <th>4</th>\n",
       "      <td>ABBA</td>\n",
       "      <td>181</td>\n",
       "    </tr>\n",
       "    <tr>\n",
       "      <th>5</th>\n",
       "      <td>AABBCC</td>\n",
       "      <td>162</td>\n",
       "    </tr>\n",
       "    <tr>\n",
       "      <th>6</th>\n",
       "      <td>AAA</td>\n",
       "      <td>152</td>\n",
       "    </tr>\n",
       "    <tr>\n",
       "      <th>7</th>\n",
       "      <td>ABAAB</td>\n",
       "      <td>73</td>\n",
       "    </tr>\n",
       "    <tr>\n",
       "      <th>8</th>\n",
       "      <td>AABCBC</td>\n",
       "      <td>70</td>\n",
       "    </tr>\n",
       "    <tr>\n",
       "      <th>9</th>\n",
       "      <td>ABABCC</td>\n",
       "      <td>58</td>\n",
       "    </tr>\n",
       "  </tbody>\n",
       "</table>\n",
       "</div>"
      ],
      "text/plain": [
       "   scheme  count\n",
       "0    ABAB   1142\n",
       "1    ABCB    749\n",
       "2    AABB    611\n",
       "3  AABCCB    360\n",
       "4    ABBA    181\n",
       "5  AABBCC    162\n",
       "6     AAA    152\n",
       "7   ABAAB     73\n",
       "8  AABCBC     70\n",
       "9  ABABCC     58"
      ]
     },
     "execution_count": 11,
     "metadata": {},
     "output_type": "execute_result"
    }
   ],
   "source": [
    "top_ten = df2[:10]\n",
    "top_ten"
   ]
  },
  {
   "cell_type": "markdown",
   "metadata": {},
   "source": [
    "## Count unique line ending words"
   ]
  },
  {
   "cell_type": "code",
   "execution_count": 12,
   "metadata": {},
   "outputs": [],
   "source": [
    "punctuation = string.punctuation + \"«»—\"\n",
    "\n",
    "def tokenize_and_line_ending_word(line): \n",
    "    tokens = [t for t in nltk.tokenize.word_tokenize(line, language='norwegian', preserve_line=False) if t not in punctuation]\n",
    "    return tokens[-1]\n",
    "\n",
    "unique_line_ending_words = set()\n",
    "line_ending_words = 0\n",
    "not_part_of_rhyme = 0\n",
    "for e in poem_df.itertuples():\n",
    "    lines = e.stanza.split(\"\\n\")\n",
    "    code = e._1\n",
    "    for c, line in zip(code, lines):\n",
    "        if c in (\"I\", \"N\", \"T\"):\n",
    "            not_part_of_rhyme += 1\n",
    "            continue\n",
    "        token = tokenize_and_line_ending_word(line)\n",
    "        unique_line_ending_words.add(token)\n",
    "        line_ending_words+=1"
   ]
  },
  {
   "cell_type": "code",
   "execution_count": 13,
   "metadata": {},
   "outputs": [
    {
     "name": "stdout",
     "output_type": "stream",
     "text": [
      "\n",
      "The number of unique line ending words in the annotated data set is 7069, \n",
      "or 27.45242718446602% of the number of potentially rhyming lines.\n",
      "448 lines are not part of the rhyme scheme (aka title, info or noise)\n",
      "\n"
     ]
    }
   ],
   "source": [
    "print(f\"\"\"\n",
    "The number of unique line ending words in the annotated data set is {len(unique_line_ending_words)}, \n",
    "or {(len(unique_line_ending_words)/line_ending_words)*100}% of the number of potentially rhyming lines.\n",
    "{not_part_of_rhyme} lines are not part of the rhyme scheme (aka title, info or noise)\n",
    "\"\"\")"
   ]
  }
 ],
 "metadata": {
  "kernelspec": {
   "display_name": "Python 3",
   "language": "python",
   "name": "python3"
  },
  "language_info": {
   "codemirror_mode": {
    "name": "ipython",
    "version": 3
   },
   "file_extension": ".py",
   "mimetype": "text/x-python",
   "name": "python",
   "nbconvert_exporter": "python",
   "pygments_lexer": "ipython3",
   "version": "3.9.7"
  }
 },
 "nbformat": 4,
 "nbformat_minor": 4
}
