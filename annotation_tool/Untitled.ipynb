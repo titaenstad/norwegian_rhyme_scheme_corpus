{
 "cells": [
  {
   "cell_type": "markdown",
   "metadata": {},
   "source": [
    "## Measure progress during annotation"
   ]
  },
  {
   "cell_type": "code",
   "execution_count": 36,
   "metadata": {},
   "outputs": [
    {
     "name": "stdout",
     "output_type": "stream",
     "text": [
      "Annotated 508 of 508, aka 100.0%\n"
     ]
    }
   ],
   "source": [
    "from pathlib import Path\n",
    "\n",
    "sc = Path(\"poems/bokmål\")\n",
    "dst = Path(\"tita\")\n",
    "\n",
    "tot = len(list(sc.iterdir()))\n",
    "done = len(list(dst.iterdir()))\n",
    "\n",
    "print(f\"Annotated {done} of {tot}, aka {(done/tot)*100}%\")"
   ]
  },
  {
   "cell_type": "markdown",
   "metadata": {},
   "source": [
    "## Compare source and annotation\n",
    "I made some mistakes during substitution of danish words, script to check/repair"
   ]
  },
  {
   "cell_type": "code",
   "execution_count": 17,
   "metadata": {
    "scrolled": true
   },
   "outputs": [
    {
     "name": "stdout",
     "output_type": "stream",
     "text": [
      "508 508\n"
     ]
    }
   ],
   "source": [
    "# from pathlib import Path\n",
    "\n",
    "# sc = Path(\"poems/bokmål\")\n",
    "# dst = Path(\"tita\")\n",
    "\n",
    "\n",
    "# sc_list = sorted(sc.iterdir(), key = lambda x: x.name[:-4])\n",
    "# dst_list = sorted(dst.iterdir(), key = lambda x: x.name[:-14])\n",
    "\n",
    "# print(len(dst2_list), len(dst_list))\n",
    "\n",
    "# for sc_file, dst_file in zip(sc_list, dst2_list):\n",
    "#     sc_stanzas = sc_file.read_text().split(\"\\n\\n\")\n",
    "#     dst_stanzas = dst_file.read_text().split(\"\\n\\n\")\n",
    "#     for sc_s, dst_s in zip(sc_stanzas, dst_stanzas):\n",
    "#         dst_lines = dst_s.split(\"\\n\")\n",
    "#         rhyme_code = dst_lines[0]\n",
    "#         dst_lines = dst_lines[1:]\n",
    "#         sc_lines = sc_s.split(\"\\n\")[:-1]\n",
    "\n",
    "#         for i, (l1, l2) in enumerate(zip(sc_lines, dst_lines)):\n",
    "#             if l1 != l2:\n",
    "#                 print(f\"{l1}\\n{l2}\\n\\n\")\n",
    "\n"
   ]
  },
  {
   "cell_type": "markdown",
   "metadata": {},
   "source": [
    "## Count stanzas and lines"
   ]
  },
  {
   "cell_type": "code",
   "execution_count": 137,
   "metadata": {},
   "outputs": [],
   "source": [
    "dst = Path(\"tita\")\n",
    "\n",
    "poems = len(list(dst.iterdir()))\n",
    "\n",
    "stanzas = 0\n",
    "lines = 0\n",
    "for e in dst.iterdir():\n",
    "    st = e.read_text().split(\"\\n\\n\")[:-1]\n",
    "    stanzas += len(st)\n",
    "    for s in st:\n",
    "        lines += len(s.split(\"\\n\"))    \n"
   ]
  },
  {
   "cell_type": "code",
   "execution_count": 138,
   "metadata": {},
   "outputs": [
    {
     "data": {
      "text/plain": [
       "(5158, 31356)"
      ]
     },
     "execution_count": 138,
     "metadata": {},
     "output_type": "execute_result"
    }
   ],
   "source": [
    "stanzas, lines"
   ]
  },
  {
   "cell_type": "markdown",
   "metadata": {},
   "source": [
    "## Count rhyme schemes"
   ]
  },
  {
   "cell_type": "code",
   "execution_count": 73,
   "metadata": {},
   "outputs": [
    {
     "data": {
      "text/plain": [
       "set()"
      ]
     },
     "execution_count": 73,
     "metadata": {},
     "output_type": "execute_result"
    }
   ],
   "source": [
    "set(\"ABABABA\") - {\"A\", \"B\"}"
   ]
  },
  {
   "cell_type": "code",
   "execution_count": 129,
   "metadata": {},
   "outputs": [
    {
     "data": {
      "text/plain": [
       "'BJBJBJ'"
      ]
     },
     "execution_count": 129,
     "metadata": {},
     "output_type": "execute_result"
    }
   ],
   "source": [
    "a = \"BABABA\"\n",
    "a = a.replace(\"A\", \"J\")\n",
    "a"
   ]
  },
  {
   "cell_type": "code",
   "execution_count": 141,
   "metadata": {},
   "outputs": [],
   "source": [
    "from collections import Counter\n",
    "\n",
    "dst = Path(\"tita\")\n",
    "\n",
    "def get_schemes(pathlib_file):\n",
    "    stanzas = pathlib_file.read_text().split(\"\\n\\n\")\n",
    "    schemes = [stanza.split(\"\\n\")[0] for stanza in stanzas if stanza.split(\"\\n\")[0]]\n",
    "    return schemes\n",
    "\n",
    "rhyme_schemes = [scheme for e in dst.iterdir() for scheme in get_schemes(e)]"
   ]
  },
  {
   "cell_type": "code",
   "execution_count": 200,
   "metadata": {},
   "outputs": [],
   "source": [
    "def get_line_ending_words(pathlib_file):\n",
    "    stanzas = pathlib_file.read_text().split(\"\\n\\n\")[:-1]\n",
    "    #schemes = [stanza.split(\"\\n\")[0] for stanza in stanzas]\n",
    "    line_ending_words = [line.split(\" \")[-1] for stanza in stanzas for line in stanza.split(\"\\n\")[1:]] \n",
    "    return line_ending_words\n",
    "    #flatten_matrix = [val for sublist in matrix for val in sublist]\n",
    "\n",
    "line_ending_words = []    \n",
    "    \n",
    "for e in dst.iterdir():\n",
    "    line_ending_words += get_line_ending_words(e)"
   ]
  },
  {
   "cell_type": "code",
   "execution_count": 204,
   "metadata": {},
   "outputs": [
    {
     "data": {
      "text/plain": [
       "(26198, 12524)"
      ]
     },
     "execution_count": 204,
     "metadata": {},
     "output_type": "execute_result"
    }
   ],
   "source": [
    "len(line_ending_words), len(set(line_ending_words))"
   ]
  },
  {
   "cell_type": "code",
   "execution_count": 178,
   "metadata": {},
   "outputs": [
    {
     "name": "stdout",
     "output_type": "stream",
     "text": [
      "---ABCDEFGHJKLMOPQRSUVWXYZ\n"
     ]
    }
   ],
   "source": [
    "import string \n",
    "\n",
    "letters = \"---\"+string.ascii_uppercase.replace(\"T\", \"\").replace(\"I\",\"\").replace(\"N\",\"\")\n",
    "print(letters)\n",
    "\n",
    "def scheme_to_numeric(scheme):\n",
    "    scheme = scheme.replace(\"T\", \"0\")\n",
    "    scheme = scheme.replace(\"I\", \"1\")\n",
    "    scheme = scheme.replace(\"N\", \"2\")\n",
    "    unique_chars = sorted(list(set(scheme) - {\"0\", \"1\", \"2\"}))\n",
    "    scheme = \"-\".join(scheme)\n",
    "    for i, c in enumerate(unique_chars, start=3):\n",
    "        scheme = scheme.replace(c, str(i))\n",
    "    return scheme\n",
    "\n",
    "def numeric_to_scheme(scheme):\n",
    "    unique_chars = sorted(list(set(scheme.split(\"-\")) - {\"0\", \"1\", \"2\"}))\n",
    "    for i, c in enumerate(unique_chars, start=3):\n",
    "        scheme = scheme.replace(c, letters[i])\n",
    "    scheme = scheme.replace(\"-\", \"\")\n",
    "    scheme = scheme.replace(\"0\", \"T\")\n",
    "    scheme = scheme.replace(\"1\", \"I\")\n",
    "    scheme = scheme.replace(\"2\", \"N\")\n",
    "    return scheme"
   ]
  },
  {
   "cell_type": "code",
   "execution_count": 173,
   "metadata": {},
   "outputs": [
    {
     "data": {
      "text/plain": [
       "'A'"
      ]
     },
     "execution_count": 173,
     "metadata": {},
     "output_type": "execute_result"
    }
   ],
   "source": [
    "letters[3]"
   ]
  },
  {
   "cell_type": "code",
   "execution_count": 179,
   "metadata": {},
   "outputs": [
    {
     "name": "stdout",
     "output_type": "stream",
     "text": [
      "[('ABAB', 1059), ('ABCB', 699), ('AABB', 570), ('AABCCB', 336), ('ABBA', 169), ('AABBCC', 149), ('AAA', 141), ('AABCBC', 68), ('TABAB', 67), ('ABAAB', 67), ('AABC', 54), ('ABCC', 52), ('ABABAB', 50), ('ABABCC', 49), ('TABCB', 42), ('ABAC', 42), ('ABCD', 33), ('AABBCCDD', 32), ('ABCABC', 30), ('AAB', 29), ('ABABCDCD', 27), ('ABBAABBA', 26), ('TAABB', 24), ('ABA', 23), ('AABBCDCD', 18), ('TAABCCB', 17), ('ABCDDC', 16), ('ABBACC', 16), ('AABBCDDC', 15), ('ABCBDD', 15), ('AABCC', 14), ('ABBC', 14), ('ABCA', 14), ('ABBCC', 14), ('AABCDD', 14), ('ABCBDEFE', 14), ('ABB', 13), ('ABAACC', 13), ('AABBB', 12), ('ABCCB', 11), ('TABBA', 11), ('ABCDCD', 11), ('ABCCBA', 11), ('TIABAB', 10), ('AB', 10), ('ABC', 10), ('TAABBCC', 10), ('ABACBC', 9), ('AABBCD', 9), ('AABCB', 9), ('TAAA', 9), ('AABCDB', 9), ('AABBC', 9), ('TABABAB', 8), ('ABCDBC', 8), ('AABCCDD', 8), ('ABABCCDD', 8), ('ABCCAB', 8), ('AABCCD', 8), ('AABCD', 8), ('ABBACDCD', 8), ('ABCBC', 8), ('ABCDC', 7), ('TIAABB', 7), ('ABBACCDD', 7), ('ABCCDD', 7), ('ABCBDB', 7), ('ABCBDDEE', 7), ('ABCBAC', 7), ('AABCCBDD', 6), ('ABCAB', 6), ('AA', 6), ('ABABCD', 6), ('AABBI', 6), ('TABCBDD', 6), ('AABBA', 6), ('TABABCC', 6), ('ABACB', 6), ('ABCDEFGD', 6), ('ABCBD', 6), ('ABBCAC', 6), ('AAAB', 5), ('AABCDC', 5), ('ABABC', 5), ('AABBCCD', 5), ('TABAC', 5), ('AABCBCDD', 5), ('ABBCCDD', 5), ('ABCADD', 5), ('ABCDB', 5), ('ABCACB', 5), ('AABBCCDEED', 5), ('ABABCBC', 5), ('AAAA', 5), ('ABACDC', 4), ('ABCDEC', 4), ('AABBCCDDEE', 4), ('ABACC', 4), ('AABCBDDC', 4), ('ABBACDDC', 4), ('TABAAB', 4), ('ABABABAB', 4), ('AABBCCA', 4), ('ABABI', 4), ('ABABCDDC', 4), ('AAABB', 4), ('ABBCCA', 4), ('AABBCDD', 4), ('AABCDCEEFF', 4), ('ABCABD', 4), ('ABBCABBA', 4), ('ABBACBBA', 4), ('ABCAACCA', 4), ('ABCADC', 4), ('AAAABB', 4), ('ABACDED', 4), ('ABABCCDDB', 4), ('AABCDCD', 3), ('ABABCCI', 3), ('AABCBCDDEE', 3), ('TIAABCCB', 3), ('AABBCCDE', 3), ('TIABCB', 3), ('TTAABCCB', 3), ('ABBCDCD', 3), ('AABCCBB', 3), ('ABACA', 3), ('ABABA', 3), ('ABABCCD', 3), ('ABCDEE', 3), ('AABCDE', 3), ('AABBCCDDEEFF', 3), ('ABBAC', 3), ('TABABCDCD', 3), ('ABBAABCA', 3), ('ABCDCB', 3), ('ABBAAB', 3), ('ABBACCA', 3), ('AABBACDCD', 3), ('AABCCBDDEE', 3), ('ABCDED', 2), ('ABCDD', 2), ('ABBCCDDEE', 2), ('AABCCDDB', 2), ('AABCBDCD', 2), ('ABBCDED', 2), ('TAABCBC', 2), ('ABCDCE', 2), ('AAAAAAAA', 2), ('IAABB', 2), ('TABCABC', 2), ('TAAB', 2), ('ABACDDEE', 2), ('AABCDDB', 2), ('AABBCCDEFFE', 2), ('TABCD', 2), ('ABABCDCED', 2), ('ABABCDCCD', 2), ('AABCBDC', 2), ('TAABCD', 2), ('ABCCDDEE', 2), ('TIAAA', 2), ('TTABCB', 2), ('TABA', 2), ('AABCBD', 2), ('TAABCCD', 2), ('ABCBBC', 2), ('TIABAAB', 2), ('TAABBCCDD', 2), ('AABBBB', 2), ('ABCBDC', 2), ('AABCCBDE', 2), ('ABCBI', 2), ('ABCADDEE', 2), ('TABCADC', 2), ('ABCDEFGF', 2), ('AABBDD', 2), ('AABA', 2), ('TABCCDD', 2), ('ABCDEA', 2), ('ABCDEFE', 2), ('AABCDDEE', 2), ('ABBB', 2), ('ABACDCD', 2), ('ABBAACCA', 2), ('ABCAABCA', 2), ('ABCBCA', 2), ('ABCAACBA', 2), ('AABCAAC', 2), ('ABCADE', 2), ('AABACB', 2), ('ABCCDB', 2), ('ABBACBBC', 2), ('ABBCCBBA', 2), ('ABCCBD', 2), ('ABAABBA', 2), ('ABCAABBA', 2), ('ABBACDECED', 2), ('AABACDDC', 2), ('ABBCDC', 2), ('AABBCCDDEFEF', 2), ('ABABCDED', 2), ('ABACDE', 2), ('ABAACDCDD', 2), ('ABABABCC', 2), ('ABCDEDF', 2), ('ABABCCDEDE', 2), ('ABABCCDEB', 2), ('AABCBBC', 2), ('ABCBCDD', 2), ('ABAACCBBDDB', 2), ('ABBCDE', 2), ('ABAA', 2), ('ABABCCC', 2), ('AABCCBI', 1), ('TABCCA', 1), ('AABCDEFD', 1), ('ABCDEGD', 1), ('ABACBDCD', 1), ('AVVA', 1), ('ABABBB', 1), ('ABBBA', 1), ('AABCCDDA', 1), ('ABBCDCEDE', 1), ('AABBCDC', 1), ('ABCDAB', 1), ('ABBCCD', 1), ('ABCCBC', 1), ('ABABCCDEED', 1), ('ABABCDDEE', 1), ('ABBCADCD', 1), ('ABACCB', 1), ('AABCBCDEFEFGDGC', 1), ('ABCCA', 1), ('ABCDEFFG', 1), ('ABCBACDDEFEFE', 1), ('ABCDCDABEEBFFGG', 1), ('AABCBDDEFEGC', 1), ('ABACDCEEFF', 1), ('ABCBDED', 1), ('ABCADDEEFI', 1), ('ABABCCA', 1), ('AABBCDDCEEFFC', 1), ('ABABACCDDEFEF', 1), ('AABCCDDEFGH', 1), ('TAABBBCCC', 1), ('AABBBCCC', 1), ('TIAABBCCDDEE', 1), ('ABCBB', 1), ('ABABCDCDE', 1), ('ABCACDC', 1), ('TIABBACC', 1), ('TIIAABB', 1), ('ABCDBEFC', 1), ('AABACC', 1), ('TABBACD', 1), ('AABCCDEE', 1), ('AABCCBDDBE', 1), ('TABCADDEA', 1), ('AABBCBDCEFGF', 1), ('ABCCDEFGG', 1), ('ABCCC', 1), ('ABCDDBEEFF', 1), ('AABCDEFDF', 1), ('ABBCD', 1), ('TABAACC', 1), ('ABAACCDEDDCC', 1), ('TAABCC', 1), ('AABBCB', 1), ('AABBCDDCB', 1), ('ABABCCDDC', 1), ('TABACDEDDE', 1), ('AABCBDE', 1), ('AABCBDEFGH', 1), ('ABCBDEDE', 1), ('ABCDAAB', 1), ('ABABCB', 1), ('ABABCCCDD', 1), ('ABCBCDDEE', 1), ('ABCCDEED', 1), ('TABCC', 1), ('ABACAADB', 1), ('ABCDCDEEFFG', 1), ('TABABC', 1), ('AABCDEDC', 1), ('IABCCB', 1), ('TABCBDBEB', 1), ('ABACADA', 1), ('TIABA', 1), ('TABBC', 1), ('ABCBDDEEI', 1), ('TABCBDEDA', 1), ('TABCBDDEEFF', 1), ('AABBACD', 1), ('TABCDB', 1), ('AABAB', 1), ('AABCCDII', 1), ('AABACCCCCC', 1), ('ABABCDEC', 1), ('ABCDCC', 1), ('ABBCDEECD', 1), ('TABCDEFGBI', 1), ('TABABCDDC', 1), ('TAABBBBCC', 1), ('TAAABCCB', 1), ('AABCDEFF', 1), ('ABCCI', 1), ('TAABBCCDE', 1), ('AABBCCCC', 1), ('TAABBCCDDEE', 1), ('TAABC', 1), ('AABBBCCB', 1), ('ABCCDDEEFF', 1), ('AABCCBDFDF', 1), ('AABCDDEEFFGG', 1), ('ABBACCDDEE', 1), ('aabbccdd', 1), ('ABCABCDEED', 1), ('TAABBCCA', 1), ('AABCBCDE', 1), ('AABCCBDEED', 1), ('AABBCDDCEFEF', 1), ('ABCDEDE', 1), ('TABCBDB', 1), ('TABCADB', 1), ('ABCDBEFGE', 1), ('ABCDEFDGHDJKD', 1), ('ABCDEFGE', 1), ('ABCDEFD', 1), ('ABCDE', 1), ('ABBCDEFD', 1), ('TIABABCDCD', 1), ('AABCDDEEFF', 1), ('AABBCDEEFGHJ', 1), ('TABABA', 1), ('ABCCAA', 1), ('AABCCDBD', 1), ('AABBCDEEC', 1), ('AABCBCDEE', 1), ('TABBB', 1), ('TAB', 1), ('ABBCDDC', 1), ('ABCDEFFDE', 1), ('ABBCCB', 1), ('ABBABC', 1), ('ABACBBDDEED', 1), ('TITABABCDCE', 1), ('TABCBDDEE', 1), ('ABCDEEF', 1), ('ABCBDEFF', 1), ('ABCCDEDE', 1), ('AABCCBDEEF', 1), ('ABCBDDEEFFGG', 1), ('AAVV', 1), ('ABBCDDCEE', 1), ('AABBCCDDEFFE', 1), ('AABBCDEEFF', 1), ('ABCCDDEFF', 1), ('ABBCDEEFFGHH', 1), ('ABCBDCD', 1), ('AABCAD', 1), ('AABCCDEFG', 1), ('ABACCDDEE', 1), ('AABCDEFFE', 1), ('TAABBA', 1), ('TIABABACBCDD', 1), ('ABACDEDEDD', 1), ('ABABCDCDEE', 1), ('ABABCDEDFF', 1), ('ABBCCDEDE', 1), ('ABBAABBAACAACA', 1), ('AABBCAB', 1), ('ABBAABBAAAC', 1), ('AABCDDCCDDC', 1), ('ABCCBAC', 1), ('ABCDAC', 1), ('ACBABC', 1), ('ABACBBC', 1), ('ABBAABBC', 1), ('AABBAAB', 1), ('ABAABA', 1), ('ABCAAB', 1), ('ABCCBBCCX', 1), ('NNABBCCB', 1), ('ABBBAC', 1), ('ABCAACCD', 1), ('ABCAADDA', 1), ('ABBACBBD', 1), ('ABCCDA', 1), ('ABCDCA', 1), ('ABCBDEFG', 1), ('TABABABAB', 1), ('AABCBCDED', 1), ('AABCCDEEF', 1), ('ABCCDAD', 1), ('AABBDE', 1), ('TIABAACC', 1), ('TABCACBC', 1), ('ABACACDD', 1), ('AABBCDCDEE', 1), ('ABCCAAB', 1), ('AABBCBC', 1), ('ABCABCDEDE', 1), ('TABACDCE', 1), ('ABBACDD', 1), ('ABBACDCDEAEA', 1), ('ABABBCDCEECD', 1), ('AABBCDDCE', 1), ('AABCBBDD', 1), ('AABCBCDDEFFGEG', 1), ('ABABBCC', 1), ('AABCDCEEFFGG', 1), ('ABBCACDEC', 1), ('AABCBDEFEFGH', 1), ('TABCCBA', 1), ('AABBCCEE', 1), ('TIABABCD', 1), ('AABCBDEE', 1), ('AABCCABDD', 1), ('ABCDBE', 1), ('ABBACDCED', 1), ('ABCDBEE', 1), ('ABCDDCEE', 1), ('ABCCD', 1), ('ABACCDEED', 1), ('ABBAAC', 1), ('TTABBACDDC', 1), ('ABCABI', 1), ('TAABCCBDDB', 1), ('AABCCBDDB', 1), ('AABCBDECDE', 1), ('TAABCCBB', 1), ('ABCBCB', 1), ('TIABACBC', 1), ('ABCCDE', 1), ('TIABAACDCDD', 1), ('ABABB', 1), ('ABAACDCED', 1), ('ABAACACAA', 1), ('TABCAB', 1), ('ABABCBDD', 1), ('AABCCBDC', 1), ('TABABCBC', 1), ('AABCBCDDB', 1), ('ABBACCDE', 1), ('AABCCBDEDFGGFE', 1), ('TABCADD', 1), ('AABCDEFE', 1), ('ABCDDEC', 1), ('ABCDEFGG', 1), ('AABCCBDDEFFG', 1), ('TIAAABCBC', 1), ('ABCBADCD', 1), ('ABACBDDC', 1), ('ABABCCB', 1), ('ABCCBAB', 1), ('AABCDCEE', 1), ('TABCDA', 1), ('ITABABCCDDB', 1), ('ABABCDEEB', 1), ('ABCBDDEEB', 1), ('ABACDEC', 1), ('ABABCDCEED', 1), ('AABBCDCEDE', 1), ('AABBCCDEFE', 1), ('AABBCDA', 1), ('AABCBCDEDE', 1), ('TABBACCA', 1), ('ABBCDDE', 1), ('ABCDCDEDEFGGF', 1), ('ABCADDA', 1), ('ABBACCB', 1), ('ABBACDA', 1), ('AABCDEDFFE', 1), ('AABCBCD', 1), ('AABCDEE', 1), ('ABBAACCDEEF', 1), ('AABCDEFGHFHJKJLL', 1), ('AABCCCBDD', 1), ('AABBCCDEDE', 1), ('ABBACDCDEE', 1), ('ABACCBDDB', 1), ('TIABBCDEFC', 1), ('ABBCDEEC', 1), ('ABBCDEEG', 1), ('ABACCBDD', 1), ('ABBACCDEEFFDGHH', 1), ('AABCDEDEFF', 1), ('AABCADDEE', 1), ('ABCDDEFFE', 1), ('AABCDCE', 1), ('ABDBE', 1), ('TABACB', 1), ('AABBCCB', 1), ('AABBCDE', 1), ('ABCADDBEE', 1), ('ABCCBADE', 1), ('TIABCADEDE', 1), ('AABBCI', 1), ('ABCBDEDEFGFG', 1), ('AABBCDCEFFGGDE', 1), ('TAABCBI', 1), ('TABABACAC', 1), ('AABCCBDDE', 1), ('ABCBDDCEFFE', 1), ('ABBAB', 1), ('ABACBDEEFGGFHH', 1), ('AABBCCDEFDFE', 1), ('AABBCDCDEFFE', 1), ('AABCDCBDEFEGGF', 1), ('ABCBDBEB', 1), ('TABCDDC', 1), ('ABCDEFGH', 1), ('TTABABCDDC', 1), ('ABCDDEEFFGG', 1), ('ABCCDEFD', 1), ('AABCBCBC', 1), ('AABCBCDC', 1), ('AABCBDBE', 1), ('AABBACDDC', 1), ('ABBCDD', 1), ('AABCCDDC', 1), ('ABBCACDD', 1), ('ABACDCDC', 1), ('ABCCDBD', 1), ('ABCDEEFF', 1), ('TABCDABCD', 1), ('ABCDABCD', 1), ('TAABBB', 1), ('AABBBCC', 1), ('AIABBA', 1), ('TIAAAA', 1), ('AAABBCDDEEF', 1), ('ABABBCDCD', 1), ('AABBCDCDEEF', 1), ('AABBCAC', 1), ('AABBCBI', 1), ('TABAACCBBDD', 1), ('ABCBBDD', 1), ('TIABCC', 1), ('TABCDCA', 1), ('ABCBCDEEFGGC', 1), ('ABABCDDEFFB', 1), ('AABBAC', 1), ('ABBACCDEEDFF', 1), ('AABCDBD', 1), ('NNANNA', 1), ('ABACDDCEEC', 1), ('ABABCCDEEF', 1), ('ABCDEDBFGH', 1), ('TABCCB', 1), ('TABACECE', 1), ('ABCDCEFC', 1), ('ABACCD', 1), ('TIAABCCD', 1), ('TAAABCDDDCB', 1), ('AABBYY', 1), ('ABACCDE', 1), ('ABBEE', 1), ('TIAABCCDDD', 1), ('AABBBC', 1), ('IABAB', 1), ('TIIIABAB', 1), ('AAABBCC', 1), ('TABCCDEFG', 1), ('AABAAB', 1), ('TABB', 1), ('TABCCAB', 1), ('TABABCCC', 1), ('AABBCDEFFG', 1), ('AABCCDEEC', 1), ('ABBACCDEDE', 1), ('ABACDEFGCHJHJ', 1), ('ABABCDDEEF', 1), ('AABACBDEFD', 1), ('AABCBCC', 1), ('AABBCCDEE', 1), ('ABCCDEE', 1), ('ABCCDDEEFFC', 1), ('ABCDDEE', 1), ('ABABCDD', 1), ('ABCDCDEEFFGG', 1), ('TIIABCB', 1), ('ABCBDACA', 1), ('ABCDCCEDC', 1), ('AABBCDBEFGB', 1), ('ABACCDD', 1), ('ABABACDCEFGFH', 1), ('ABABCCBD', 1), ('AABCDDCCEED', 1), ('AABCCBEFFE', 1), ('AABCDEDE', 1), ('TABCBAB', 1), ('ABCACA', 1), ('TIABBCCDD', 1), ('AABABBCBDDEC', 1), ('AABACD', 1), ('TAABBCCDDE', 1), ('AABBCCDEFGGE', 1), ('TABCBDE', 1), ('AABBACCDD', 1), ('ABBCCDED', 1), ('ABCDEFGHG', 1), ('TABCDEFGD', 1), ('ABCDCEA', 1), ('ABCDBEC', 1), ('ABAAC', 1), ('TABBACC', 1), ('TIABAC', 1), ('ABABCDEDC', 1)]\n",
      "Schemes with title: 349\n",
      "schemes with info: 80\n",
      "schemes with noise: 2\n",
      "[('ABAB', 1059), ('ABCB', 699), ('AABB', 571), ('AABCCB', 336), ('ABBA', 170), ('AABBCC', 152), ('AAA', 141), ('AABCBC', 68), ('TABAB', 67), ('ABAAB', 67), ('AABC', 54), ('ABCC', 52), ('ABABAB', 50), ('ABABCC', 49), ('TABCB', 42), ('ABAC', 42), ('AABBCCDD', 34), ('ABCD', 33), ('ABCABC', 30), ('AAB', 29), ('ABABCDCD', 27), ('ABBAABBA', 26), ('TAABB', 24), ('ABA', 23), ('AABBCDCD', 18), ('TAABCCB', 17), ('ABCDDC', 16), ('ABBACC', 16), ('AABBCDDC', 15), ('ABBCC', 15), ('ABCBDD', 15), ('AABCC', 14), ('ABBC', 14), ('ABCA', 14), ('AABCDD', 14), ('ABCBDEFE', 14), ('ABB', 13), ('ABAACC', 13), ('AABBB', 12), ('ABCCB', 11), ('TABBA', 11), ('ABCDCD', 11), ('ABCCBA', 11), ('AABBCD', 10), ('TIABAB', 10), ('AB', 10), ('ABC', 10), ('TAABBCC', 10), ('ABACBC', 9), ('AABCB', 9), ('TAAA', 9), ('AABCDB', 9), ('AABBC', 9), ('TABABAB', 8), ('ABCDBC', 8), ('AABCCDD', 8), ('ABABCCDD', 8), ('ABCCAB', 8), ('AABCCD', 8), ('AABCD', 8), ('ABBACDCD', 8), ('ABCBC', 8), ('ABCDC', 7), ('TIAABB', 7), ('ABBACCDD', 7), ('ABCCDD', 7), ('ABCBDB', 7), ('ABCBD', 7), ('ABCBDDEE', 7), ('ABCBAC', 7), ('AABCCBDD', 6), ('ABCAB', 6), ('AA', 6), ('ABABCD', 6), ('AABBI', 6), ('TABCBDD', 6), ('AABBA', 6), ('TABABCC', 6), ('ABACB', 6), ('ABCDEFGD', 6), ('ABBCAC', 6), ('AAAB', 5), ('AABCDC', 5), ('ABABC', 5), ('AABBCCD', 5), ('TABAC', 5), ('AABCBCDD', 5), ('ABBCCDD', 5), ('ABCADD', 5), ('ABCDB', 5), ('ABCACB', 5), ('AABBCCDEED', 5), ('ABABCBC', 5), ('AAAA', 5), ('ABACDC', 4), ('ABCDEC', 4), ('AABBCCDDEE', 4), ('ABACC', 4), ('AABCBDDC', 4), ('ABBACDDC', 4), ('TABAAB', 4), ('ABABABAB', 4), ('AABBCCA', 4), ('ABABI', 4), ('ABABCDDC', 4), ('AAABB', 4), ('ABBCCA', 4), ('AABBCDD', 4), ('AABCDCEEFF', 4), ('ABCABD', 4), ('ABBCABBA', 4), ('ABBACBBA', 4), ('ABCAACCA', 4), ('ABCADC', 4), ('AAAABB', 4), ('ABACDED', 4), ('ABABCCDDB', 4), ('AABCDCD', 3), ('ABABCCI', 3), ('AABCBCDDEE', 3), ('TIAABCCB', 3), ('AABBCCDE', 3), ('TIABCB', 3), ('TTAABCCB', 3), ('ABBCDCD', 3), ('AABCCBB', 3), ('ABACA', 3), ('ABABA', 3), ('ABABCCD', 3), ('ABCDEE', 3), ('AABCDE', 3), ('AABBCCDDEEFF', 3), ('ABBAC', 3), ('TABABCDCD', 3), ('ABBAABCA', 3), ('ABCDCB', 3), ('ABBAAB', 3), ('ABBACCA', 3), ('AABBACDCD', 3), ('AABCCBDDEE', 3), ('ABCDEFD', 2), ('ABCDED', 2), ('ABCDD', 2), ('ABBCCDDEE', 2), ('AABCCDDB', 2), ('AABCBDCD', 2), ('ABBCDED', 2), ('TAABCBC', 2), ('ABCDCE', 2), ('AAAAAAAA', 2), ('IAABB', 2), ('TABCABC', 2), ('TAAB', 2), ('ABACDDEE', 2), ('AABCDDB', 2), ('AABBCCDEFFE', 2), ('TABCD', 2), ('ABABCDCED', 2), ('ABABCDCCD', 2), ('AABCBDC', 2), ('TAABCD', 2), ('ABCCDDEE', 2), ('TIAAA', 2), ('TTABCB', 2), ('TABA', 2), ('AABCBD', 2), ('TAABCCD', 2), ('ABCBBC', 2), ('TIABAAB', 2), ('TAABBCCDD', 2), ('AABBBB', 2), ('ABCBDC', 2), ('AABCCBDE', 2), ('ABCBI', 2), ('ABCADDEE', 2), ('TABCADC', 2), ('ABCDEFGF', 2), ('AABCCBDEED', 2), ('AABA', 2), ('TABCCDD', 2), ('ABCDEA', 2), ('ABCDEFE', 2), ('AABCDDEE', 2), ('ABBB', 2), ('ABACDCD', 2), ('ABBAACCA', 2), ('ABCAABCA', 2), ('ABCBCA', 2), ('ABCAACBA', 2), ('AABCAAC', 2), ('ABCADE', 2), ('AABACB', 2), ('ABCCDB', 2), ('ABBACBBC', 2), ('ABBCCBBA', 2), ('ABCCBD', 2), ('ABAABBA', 2), ('ABCAABBA', 2), ('ABBACDECED', 2), ('AABACDDC', 2), ('ABBCDC', 2), ('AABBCCDDEFEF', 2), ('ABABCDED', 2), ('ABACDE', 2), ('ABAACDCDD', 2), ('ABABABCC', 2), ('ABCDEDF', 2), ('ABABCCDEDE', 2), ('ABABCCDEB', 2), ('AABCBBC', 2), ('ABCBCDD', 2), ('ABAACCBBDDB', 2), ('ABBCDE', 2), ('ABAA', 2), ('ABABCCC', 2), ('AABCCBI', 1), ('TABCCA', 1), ('AABCDEFD', 1), ('ABACBDCD', 1), ('ABABBB', 1), ('ABBBA', 1), ('AABCCDDA', 1), ('ABBCDCEDE', 1), ('AABBCDC', 1), ('ABCDAB', 1), ('ABBCCD', 1), ('ABCCBC', 1), ('ABABCCDEED', 1), ('ABABCDDEE', 1), ('ABBCADCD', 1), ('ABACCB', 1), ('AABCBCDEFEFGDGC', 1), ('ABCCA', 1), ('ABCDEFFG', 1), ('ABCBACDDEFEFE', 1), ('ABCDCDABEEBFFGG', 1), ('AABCBDDEFEGC', 1), ('ABACDCEEFF', 1), ('ABCBDED', 1), ('ABCADDEEFI', 1), ('ABABCCA', 1), ('AABBCDDCEEFFC', 1), ('ABABACCDDEFEF', 1), ('BBCDDEEFGHA', 1), ('TAABBBCCC', 1), ('AABBBCCC', 1), ('TIAABBCCDDEE', 1), ('ABCBB', 1), ('ABABCDCDE', 1), ('ABCACDC', 1), ('TIABBACC', 1), ('TIIAABB', 1), ('ABCDBEFC', 1), ('AABACC', 1), ('TABBACD', 1), ('AABCCDEE', 1), ('AABCCBDDBE', 1), ('TABCADDEA', 1), ('AABBCBDCEFGF', 1), ('ABCCDEFGG', 1), ('ABCCC', 1), ('ABCDDBEEFF', 1), ('AABCDEFDF', 1), ('ABBCD', 1), ('TABAACC', 1), ('ABAACCDEDDCC', 1), ('TAABCC', 1), ('AABBCB', 1), ('AABBCDDCB', 1), ('ABABCCDDC', 1), ('TABACDEDDE', 1), ('AABCBDE', 1), ('BBCDCEFGHA', 1), ('ABCBDEDE', 1), ('ABCDAAB', 1), ('ABABCB', 1), ('ABABCCCDD', 1), ('ABCBCDDEE', 1), ('ABCCDEED', 1), ('TABCC', 1), ('ABACAADB', 1), ('ABCDCDEEFFG', 1), ('TABABC', 1), ('AABCDEDC', 1), ('IABCCB', 1), ('TABCBDBEB', 1), ('ABACADA', 1), ('TIABA', 1), ('TABBC', 1), ('ABCBDDEEI', 1), ('TABCBDEDA', 1), ('TABCBDDEEFF', 1), ('AABBACD', 1), ('TABCDB', 1), ('AABAB', 1), ('AABCCDII', 1), ('AABACCCCCC', 1), ('ABABCDEC', 1), ('ABCDCC', 1), ('ABBCDEECD', 1), ('TABCDEFGBI', 1), ('TABABCDDC', 1), ('TAABBBBCC', 1), ('TAAABCCB', 1), ('AABCDEFF', 1), ('ABCCI', 1), ('TAABBCCDE', 1), ('AABBCCCC', 1), ('TAABBCCDDEE', 1), ('TAABC', 1), ('AABBBCCB', 1), ('ABCCDDEEFF', 1), ('AABCCBDEDE', 1), ('AABCDDEEFFGG', 1), ('ABBACCDDEE', 1), ('ABCABCDEED', 1), ('TAABBCCA', 1), ('AABCBCDE', 1), ('AABBCDDCEFEF', 1), ('ABCDEDE', 1), ('TABCBDB', 1), ('TABCADB', 1), ('ABCDBEFGE', 1), ('DEFGHJGKAGBCG', 1), ('ABCDEFGE', 1), ('ABCDE', 1), ('ABBCDEFD', 1), ('TIABABCDCD', 1), ('AABCDDEEFF', 1), ('CCDDEFGGHJAB', 1), ('TABABA', 1), ('ABCCAA', 1), ('AABCCDBD', 1), ('AABBCDEEC', 1), ('AABCBCDEE', 1), ('TABBB', 1), ('TAB', 1), ('ABBCDDC', 1), ('ABCDEFFDE', 1), ('ABBCCB', 1), ('ABBABC', 1), ('ABACBBDDEED', 1), ('TITABABCDCE', 1), ('TABCBDDEE', 1), ('ABCDEEF', 1), ('ABCBDEFF', 1), ('ABCCDEDE', 1), ('AABCCBDEEF', 1), ('ABCBDDEEFFGG', 1), ('ABBCDDCEE', 1), ('AABBCCDDEFFE', 1), ('AABBCDEEFF', 1), ('ABCCDDEFF', 1), ('BCCDEFFGGHAA', 1), ('ABCBDCD', 1), ('AABCAD', 1), ('AABCCDEFG', 1), ('ABACCDDEE', 1), ('AABCDEFFE', 1), ('TAABBA', 1), ('TIABABACBCDD', 1), ('ABACDEDEDD', 1), ('ABABCDCDEE', 1), ('ABABCDEDFF', 1), ('ABBCCDEDE', 1), ('ABBAABBAACAACA', 1), ('AABBCAB', 1), ('ABBAABBAAAC', 1), ('AABCDDCCDDC', 1), ('ABCCBAC', 1), ('ABCDAC', 1), ('ACBABC', 1), ('ABACBBC', 1), ('ABBAABBC', 1), ('AABBAAB', 1), ('ABAABA', 1), ('ABCAAB', 1), ('ABCCBBCCD', 1), ('NNABBCCB', 1), ('ABBBAC', 1), ('ABCAACCD', 1), ('ABCAADDA', 1), ('ABBACBBD', 1), ('ABCCDA', 1), ('ABCDCA', 1), ('ABCBDEFG', 1), ('TABABABAB', 1), ('AABCBCDED', 1), ('AABCCDEEF', 1), ('ABCCDAD', 1), ('TIABAACC', 1), ('TABCACBC', 1), ('ABACACDD', 1), ('AABBCDCDEE', 1), ('ABCCAAB', 1), ('AABBCBC', 1), ('ABCABCDEDE', 1), ('TABACDCE', 1), ('ABBACDD', 1), ('ABBACDCDEAEA', 1), ('ABABBCDCEECD', 1), ('AABBCDDCE', 1), ('AABCBBDD', 1), ('AABCBCDDEFFGEG', 1), ('ABABBCC', 1), ('AABCDCEEFFGG', 1), ('ABBCACDEC', 1), ('BBCDCEFGFGHA', 1), ('TABCCBA', 1), ('TIABABCD', 1), ('AABCBDEE', 1), ('AABCCABDD', 1), ('ABCDBE', 1), ('ABBACDCED', 1), ('ABCDBEE', 1), ('ABCDDCEE', 1), ('ABCCD', 1), ('ABACCDEED', 1), ('ABBAAC', 1), ('TTABBACDDC', 1), ('ABCABI', 1), ('TAABCCBDDB', 1), ('AABCCBDDB', 1), ('AABCBDECDE', 1), ('TAABCCBB', 1), ('ABCBCB', 1), ('TIABACBC', 1), ('ABCCDE', 1), ('TIABAACDCDD', 1), ('ABABB', 1), ('ABAACDCED', 1), ('ABAACACAA', 1), ('TABCAB', 1), ('ABABCBDD', 1), ('AABCCBDC', 1), ('TABABCBC', 1), ('AABCBCDDB', 1), ('ABBACCDE', 1), ('AABCCBDEDFGGFE', 1), ('TABCADD', 1), ('AABCDEFE', 1), ('ABCDDEC', 1), ('ABCDEFGG', 1), ('AABCCBDDEFFG', 1), ('TIAAABCBC', 1), ('ABCBADCD', 1), ('ABACBDDC', 1), ('ABABCCB', 1), ('ABCCBAB', 1), ('AABCDCEE', 1), ('TABCDA', 1), ('ITABABCCDDB', 1), ('ABABCDEEB', 1), ('ABCBDDEEB', 1), ('ABACDEC', 1), ('ABABCDCEED', 1), ('AABBCDCEDE', 1), ('AABBCCDEFE', 1), ('AABBCDA', 1), ('AABCBCDEDE', 1), ('TABBACCA', 1), ('ABBCDDE', 1), ('ABCDCDEDEFGGF', 1), ('ABCADDA', 1), ('ABBACCB', 1), ('ABBACDA', 1), ('AABCDEDFFE', 1), ('AABCBCD', 1), ('AABCDEE', 1), ('ABBAACCDEEF', 1), ('EEFGHJKLAKABCBDD', 1), ('AABCCCBDD', 1), ('AABBCCDEDE', 1), ('ABBACDCDEE', 1), ('ABACCBDDB', 1), ('TIABBCDEFC', 1), ('ABBCDEEC', 1), ('ABBCDEEF', 1), ('ABACCBDD', 1), ('BCCBDDEFFGGEHAA', 1), ('AABCDEDEFF', 1), ('AABCADDEE', 1), ('ABCDDEFFE', 1), ('AABCDCE', 1), ('TABACB', 1), ('AABBCCB', 1), ('AABBCDE', 1), ('ABCADDBEE', 1), ('ABCCBADE', 1), ('TIABCADEDE', 1), ('AABBCI', 1), ('ABCBDEDEFGFG', 1), ('AABBCDCEFFGGDE', 1), ('TAABCBI', 1), ('TABABACAC', 1), ('AABCCBDDE', 1), ('ABCBDDCEFFE', 1), ('ABBAB', 1), ('BCBDCEFFGHHGAA', 1), ('AABBCCDEFDFE', 1), ('AABBCDCDEFFE', 1), ('AABCDCBDEFEGGF', 1), ('ABCBDBEB', 1), ('TABCDDC', 1), ('BCDEFGHA', 1), ('TTABABCDDC', 1), ('ABCDDEEFFGG', 1), ('ABCCDEFD', 1), ('AABCBCBC', 1), ('AABCBCDC', 1), ('AABCBDBE', 1), ('AABBACDDC', 1), ('ABBCDD', 1), ('AABCCDDC', 1), ('ABBCACDD', 1), ('ABACDCDC', 1), ('ABCCDBD', 1), ('ABCDEEFF', 1), ('TABCDABCD', 1), ('ABCDABCD', 1), ('TAABBB', 1), ('AABBBCC', 1), ('AIABBA', 1), ('TIAAAA', 1), ('AAABBCDDEEF', 1), ('ABABBCDCD', 1), ('AABBCDCDEEF', 1), ('AABBCAC', 1), ('AABBCBI', 1), ('TABAACCBBDD', 1), ('ABCBBDD', 1), ('TIABCC', 1), ('TABCDCA', 1), ('ABCBCDEEFGGC', 1), ('ABABCDDEFFB', 1), ('AABBAC', 1), ('ABBACCDEEDFF', 1), ('AABCDBD', 1), ('NNANNA', 1), ('ABACDDCEEC', 1), ('ABABCCDEEF', 1), ('BCDEFECGHA', 1), ('TABCCB', 1), ('TABACDCD', 1), ('ABCDCEFC', 1), ('ABACCD', 1), ('TIAABCCD', 1), ('TAAABCDDDCB', 1), ('ABACCDE', 1), ('TIAABCCDDD', 1), ('AABBBC', 1), ('IABAB', 1), ('TIIIABAB', 1), ('AAABBCC', 1), ('TABCCDEFG', 1), ('AABAAB', 1), ('TABB', 1), ('TABCCAB', 1), ('TABABCCC', 1), ('AABBCDEFFG', 1), ('AABCCDEEC', 1), ('ABBACCDEDE', 1), ('CDCEFGHJEABAB', 1), ('ABABCDDEEF', 1), ('AABACBDEFD', 1), ('AABCBCC', 1), ('AABBCCDEE', 1), ('ABCCDEE', 1), ('ABCCDDEEFFC', 1), ('ABCDDEE', 1), ('ABABCDD', 1), ('ABCDCDEEFFGG', 1), ('TIIABCB', 1), ('ABCBDACA', 1), ('ABCDCCEDC', 1), ('AABBCDBEFGB', 1), ('ABACCDD', 1), ('BCBCBDEDFGHGA', 1), ('ABABCCBD', 1), ('AABCDDCCEED', 1), ('AABCDEDE', 1), ('TABCBAB', 1), ('ABCACA', 1), ('TIABBCCDD', 1), ('AABABBCBDDEC', 1), ('AABACD', 1), ('TAABBCCDDE', 1), ('AABBCCDEFGGE', 1), ('TABCBDE', 1), ('AABBACCDD', 1), ('ABBCCDED', 1), ('BCDEFGHAH', 1), ('TABCDEFGD', 1), ('ABCDCEA', 1), ('ABCDBEC', 1), ('ABAAC', 1), ('TABBACC', 1), ('TIABAC', 1), ('ABABCDEDC', 1)]\n",
      "Schemes with title: 349\n",
      "schemes with info: 80\n",
      "schemes with noise: 2\n"
     ]
    },
    {
     "data": {
      "text/plain": [
       "(610, 599)"
      ]
     },
     "execution_count": 179,
     "metadata": {},
     "output_type": "execute_result"
    }
   ],
   "source": [
    "rhyme_schemes = [scheme for e in dst.iterdir() for scheme in get_schemes(e)]\n",
    "c = Counter(rhyme_schemes)\n",
    "l1 = list(c.items())\n",
    "l1.sort(key = lambda x: x[1], reverse = True)\n",
    "print(l1)\n",
    "title_schemes = [s for s in rhyme_schemes if \"T\" in s]\n",
    "info_schemes = [s for s in rhyme_schemes if \"I\" in s]\n",
    "noise_schemes = [s for s in rhyme_schemes if \"N\" in s]\n",
    "\n",
    "print(f\"Schemes with title: {len(title_schemes)}\\nschemes with info: {len(info_schemes)}\\nschemes with noise: {len(noise_schemes)}\")\n",
    "\n",
    "rhyme_schemes = [scheme_to_numeric(scheme) for e in dst.iterdir() for scheme in get_schemes(e)]\n",
    "\n",
    "rhyme_schemes = [numeric_to_scheme(scheme) for scheme in rhyme_schemes]\n",
    "\n",
    "\n",
    "c = Counter(rhyme_schemes)\n",
    "l = list(c.items())\n",
    "l.sort(key = lambda x: x[1], reverse = True)\n",
    "print(l)\n",
    "title_schemes = [s for s in rhyme_schemes if \"T\" in s]\n",
    "info_schemes = [s for s in rhyme_schemes if \"I\" in s]\n",
    "noise_schemes = [s for s in rhyme_schemes if \"N\" in s]\n",
    "\n",
    "print(f\"Schemes with title: {len(title_schemes)}\\nschemes with info: {len(info_schemes)}\\nschemes with noise: {len(noise_schemes)}\")\n",
    "\n",
    "c = Counter(rhyme_schemes)\n",
    "l2 = list(c.items())\n",
    "l2.sort(key = lambda x: x[1], reverse = True)\n",
    "\n",
    "\n",
    "len(l1), len(l2)"
   ]
  },
  {
   "cell_type": "code",
   "execution_count": 205,
   "metadata": {},
   "outputs": [
    {
     "data": {
      "text/plain": [
       "491"
      ]
     },
     "execution_count": 205,
     "metadata": {},
     "output_type": "execute_result"
    }
   ],
   "source": [
    "#remove title and info for rhyme scheme statistics\n",
    "rhyme_schemes = [scheme.replace(\"T\", \"\").replace(\"I\", \"\").replace(\"N\", \"\") for scheme in rhyme_schemes]\n",
    "c = Counter(rhyme_schemes)\n",
    "l3 = list(c.items())\n",
    "l3.sort(key = lambda x: x[1], reverse = True)\n",
    "len(l3)"
   ]
  },
  {
   "cell_type": "code",
   "execution_count": 184,
   "metadata": {},
   "outputs": [
    {
     "name": "stdout",
     "output_type": "stream",
     "text": [
      "304\n"
     ]
    }
   ],
   "source": [
    "i = 0\n",
    "for s, c in l3:\n",
    "    if c == 1:\n",
    "        i+=1\n",
    "print(i)"
   ]
  },
  {
   "cell_type": "code",
   "execution_count": 186,
   "metadata": {},
   "outputs": [
    {
     "data": {
      "text/plain": [
       "Counter({'A': 4, 'B': 4})"
      ]
     },
     "execution_count": 186,
     "metadata": {},
     "output_type": "execute_result"
    }
   ],
   "source": [
    "Counter(\"ABABABAB\")"
   ]
  },
  {
   "cell_type": "code",
   "execution_count": 191,
   "metadata": {},
   "outputs": [
    {
     "data": {
      "text/plain": [
       "12627.0"
      ]
     },
     "execution_count": 191,
     "metadata": {},
     "output_type": "execute_result"
    }
   ],
   "source": [
    "def no_rhyme(scheme):\n",
    "    return len(scheme) == len(set(scheme))\n",
    "\n",
    "sum(no_rhyme(s) for s, _ in l3)\n",
    "\n",
    "\n",
    "def get_edges(vertices):\n",
    "    return (vertices*(vertices-1))/2\n",
    "\n",
    "tot_word_pairs = 0\n",
    "for scheme, count in l3:\n",
    "    c = Counter(scheme)\n",
    "    tot_word_pairs += sum(get_edges(v) for v in c.values())*count\n",
    "    \n",
    "tot_word_pairs  "
   ]
  },
  {
   "cell_type": "markdown",
   "metadata": {},
   "source": [
    "## Telle linjer annotert materiale"
   ]
  },
  {
   "cell_type": "code",
   "execution_count": 139,
   "metadata": {},
   "outputs": [
    {
     "name": "stdout",
     "output_type": "stream",
     "text": [
      "26705\n"
     ]
    }
   ],
   "source": [
    "from pathlib import Path\n",
    "\n",
    "sc = Path(\"poems/bokmål\")\n",
    "#flatten_matrix = [val for sublist in matrix for val in sublist]\n",
    "\n",
    "poem_lines = [stanza.split(\"\\n\") for p in sc.iterdir() for stanza in p.read_text().split(\"\\n\\n\")]\n",
    "lines = sum([len(poem) for poem in poem_lines])\n",
    "print(lines)"
   ]
  },
  {
   "cell_type": "markdown",
   "metadata": {},
   "source": [
    "ord som byttes ut  \n",
    "t -> d  \n",
    "k -> g  \n",
    "æ -> e  \n",
    "nd -> nn (brann, kunne)   \n",
    "dt -> tt ()  \n",
    "ld -> ll (skulle, ville, hylle)  \n",
    "\n",
    "dig mig sig -> i->e  \n",
    "blev, hvad  \n",
    "op -> opp  \n",
    "nu -> nå  \n",
    "trin -> trinn  \n",
    "gjennem -> gjennom   \n",
    "mellem -> mellom  \n",
    "I, jer, eder -> deres\n",
    "våben, håb, dåb: åb -> åp  \n",
    "leber -> lepper  \n",
    "Måskje, måske -> kanskje  \n",
    "drog -> dro  \n",
    "mellem -> mellom  \n",
    "bjerg -> berg  \n",
    "\n",
    "COMMON MISTAKES:  \n",
    "y -> v  \n",
    "å -> aå  \n",
    "a -> au  \n",
    "! -> l  "
   ]
  }
 ],
 "metadata": {
  "kernelspec": {
   "display_name": "Python 3",
   "language": "python",
   "name": "python3"
  },
  "language_info": {
   "codemirror_mode": {
    "name": "ipython",
    "version": 3
   },
   "file_extension": ".py",
   "mimetype": "text/x-python",
   "name": "python",
   "nbconvert_exporter": "python",
   "pygments_lexer": "ipython3",
   "version": "3.8.10"
  }
 },
 "nbformat": 4,
 "nbformat_minor": 4
}
