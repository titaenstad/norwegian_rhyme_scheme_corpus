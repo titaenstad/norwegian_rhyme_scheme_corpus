{
 "cells": [
  {
   "cell_type": "markdown",
   "metadata": {},
   "source": [
    "## Measure progress during annotation"
   ]
  },
  {
   "cell_type": "code",
   "execution_count": 36,
   "metadata": {},
   "outputs": [
    {
     "name": "stdout",
     "output_type": "stream",
     "text": [
      "Annotated 508 of 508, aka 100.0%\n"
     ]
    }
   ],
   "source": [
    "from pathlib import Path\n",
    "\n",
    "sc = Path(\"poems/bokmål\")\n",
    "dst = Path(\"tita\")\n",
    "\n",
    "tot = len(list(sc.iterdir()))\n",
    "done = len(list(dst.iterdir()))\n",
    "\n",
    "print(f\"Annotated {done} of {tot}, aka {(done/tot)*100}%\")"
   ]
  },
  {
   "cell_type": "markdown",
   "metadata": {},
   "source": [
    "## Compare source and annotation\n",
    "I made some mistakes during substitution of danish words, script to check/repair"
   ]
  },
  {
   "cell_type": "code",
   "execution_count": 17,
   "metadata": {
    "scrolled": true
   },
   "outputs": [
    {
     "name": "stdout",
     "output_type": "stream",
     "text": [
      "508 508\n"
     ]
    }
   ],
   "source": [
    "# from pathlib import Path\n",
    "\n",
    "# sc = Path(\"poems/bokmål\")\n",
    "# dst = Path(\"tita\")\n",
    "\n",
    "\n",
    "# sc_list = sorted(sc.iterdir(), key = lambda x: x.name[:-4])\n",
    "# dst_list = sorted(dst.iterdir(), key = lambda x: x.name[:-14])\n",
    "\n",
    "# print(len(dst2_list), len(dst_list))\n",
    "\n",
    "# for sc_file, dst_file in zip(sc_list, dst2_list):\n",
    "#     sc_stanzas = sc_file.read_text().split(\"\\n\\n\")\n",
    "#     dst_stanzas = dst_file.read_text().split(\"\\n\\n\")\n",
    "#     for sc_s, dst_s in zip(sc_stanzas, dst_stanzas):\n",
    "#         dst_lines = dst_s.split(\"\\n\")\n",
    "#         rhyme_code = dst_lines[0]\n",
    "#         dst_lines = dst_lines[1:]\n",
    "#         sc_lines = sc_s.split(\"\\n\")[:-1]\n",
    "\n",
    "#         for i, (l1, l2) in enumerate(zip(sc_lines, dst_lines)):\n",
    "#             if l1 != l2:\n",
    "#                 print(f\"{l1}\\n{l2}\\n\\n\")\n",
    "\n"
   ]
  },
  {
   "cell_type": "markdown",
   "metadata": {},
   "source": [
    "## Remove author name from files"
   ]
  },
  {
   "cell_type": "code",
   "execution_count": 31,
   "metadata": {},
   "outputs": [],
   "source": [
    "from pathlib import Path\n",
    "\n",
    "sc = Path(\"poems/bokmål\")\n",
    "sc2 = Path(\"poems/nynorsk\")\n",
    "dst = Path(\"tita\")\n",
    "\n",
    "ex1 = \"2012102608111-bjørnstjerne-bjørnson-8_19.txt\"\n",
    "ex2 = \"2013012806125_12.txt\"\n",
    "ex3 = \"2006081000055-bjørnstjerne-bjørnson_2_annotated.txt\"\n",
    "\n",
    "def remove_author_name(filename):\n",
    "    num = filename.split(\"_\")[1].split(\".\")[0]\n",
    "    code = filename.split(\"-\")[0].split(\"_\")[0]\n",
    "    if \"annotated\" in filename:\n",
    "        return f\"{code}_{num}_annotated.txt\"\n",
    "    return f\"{code}_{num}.txt\"\n",
    "\n",
    "for path in sc, sc2, dst:\n",
    "    for e in path.iterdir():\n",
    "        new_name = remove_author_name(e.name)\n",
    "        e.rename(path / new_name)"
   ]
  },
  {
   "cell_type": "code",
   "execution_count": 41,
   "metadata": {},
   "outputs": [
    {
     "name": "stdout",
     "output_type": "stream",
     "text": [
      "428\n"
     ]
    }
   ],
   "source": [
    "p = Path(\".\")\n",
    "for e in p.iterdir():\n",
    "    if \"annotated\" in e.name:\n",
    "        e.rename(f\"tita/{e.name}\")\n",
    "\n",
    "def get_numcode(filename):\n",
    "    num = filename.split(\"_\")[1].split(\".\")[0]\n",
    "    code = filename.split(\"-\")[0].split(\"_\")[0]\n",
    "    return num, code\n",
    "\n",
    "ann_numcodes = [get_numcode(e.name) for e in dst.iterdir()]\n",
    "\n",
    "i = 0\n",
    "for e in p.iterdir():\n",
    "    if e.suffix == \".txt\":\n",
    "        i+=1\n",
    "        num, code = get_numcode(e.name)\n",
    "        if (num, code) in ann_numcodes:\n",
    "            e.rename(sc / e.name)\n",
    "print(i)"
   ]
  },
  {
   "cell_type": "code",
   "execution_count": 42,
   "metadata": {
    "scrolled": true
   },
   "outputs": [
    {
     "name": "stdout",
     "output_type": "stream",
     "text": [
      "508\n",
      "508\n",
      "508\n"
     ]
    }
   ],
   "source": [
    "print(len(list(dst.iterdir())))\n",
    "print(len(list(sc.iterdir())))\n",
    "print(len(ann_numcodes))"
   ]
  },
  {
   "cell_type": "code",
   "execution_count": 7,
   "metadata": {},
   "outputs": [
    {
     "data": {
      "text/plain": [
       "0"
      ]
     },
     "execution_count": 7,
     "metadata": {},
     "output_type": "execute_result"
    }
   ],
   "source": [
    "p = Path(\"h\")\n",
    "p.open('w').write('')\n"
   ]
  },
  {
   "cell_type": "code",
   "execution_count": null,
   "metadata": {},
   "outputs": [],
   "source": []
  },
  {
   "cell_type": "markdown",
   "metadata": {},
   "source": [
    "## Telle linjer annotert materiale"
   ]
  },
  {
   "cell_type": "code",
   "execution_count": 26,
   "metadata": {},
   "outputs": [
    {
     "name": "stdout",
     "output_type": "stream",
     "text": [
      "26710\n"
     ]
    }
   ],
   "source": [
    "from pathlib import Path\n",
    "\n",
    "sc = Path(\"poems/bokmål\")\n",
    "#flatten_matrix = [val for sublist in matrix for val in sublist]\n",
    "\n",
    "poem_lines = [stanza.split(\"\\n\") for p in sc.iterdir() for stanza in p.read_text().split(\"\\n\\n\")]\n",
    "lines = sum([len(poem) for poem in poem_lines])\n",
    "print(lines)"
   ]
  },
  {
   "cell_type": "markdown",
   "metadata": {},
   "source": [
    "ord som byttes ut  \n",
    "t -> d  \n",
    "k -> g  \n",
    "æ -> e  \n",
    "nd -> nn (brann, kunne)   \n",
    "dt -> tt ()  \n",
    "ld -> ll (skulle, ville, hylle)  \n",
    "\n",
    "dig mig sig -> i->e  \n",
    "blev, hvad  \n",
    "op -> opp  \n",
    "nu -> nå  \n",
    "trin -> trinn  \n",
    "gjennem -> gjennom   \n",
    "mellem -> mellom  \n",
    "I, jer, eder -> deres\n",
    "våben, håb, dåb: åb -> åp  \n",
    "leber -> lepper  \n",
    "Måskje, måske -> kanskje  \n",
    "drog -> dro  \n",
    "mellem -> mellom  \n",
    "bjerg -> berg  \n",
    "\n",
    "COMMON MISTAKES:  \n",
    "y -> v  \n",
    "å -> aå  \n",
    "a -> au  \n",
    "! -> l  "
   ]
  }
 ],
 "metadata": {
  "kernelspec": {
   "display_name": "Python 3",
   "language": "python",
   "name": "python3"
  },
  "language_info": {
   "codemirror_mode": {
    "name": "ipython",
    "version": 3
   },
   "file_extension": ".py",
   "mimetype": "text/x-python",
   "name": "python",
   "nbconvert_exporter": "python",
   "pygments_lexer": "ipython3",
   "version": "3.8.10"
  }
 },
 "nbformat": 4,
 "nbformat_minor": 4
}
