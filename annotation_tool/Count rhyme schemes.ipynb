{
 "cells": [
  {
   "cell_type": "markdown",
   "metadata": {},
   "source": [
    "## Measure progress during annotation"
   ]
  },
  {
   "cell_type": "code",
   "execution_count": 1,
   "metadata": {},
   "outputs": [
    {
     "name": "stdout",
     "output_type": "stream",
     "text": [
      "Annotated 508 of 508, aka 100.0%\n"
     ]
    }
   ],
   "source": [
    "from pathlib import Path\n",
    "\n",
    "sc = Path(\"poems/bokmål\")\n",
    "dst = Path(\"tita\")\n",
    "\n",
    "tot = len(list(sc.iterdir()))\n",
    "done = len(list(dst.iterdir()))\n",
    "\n",
    "print(f\"Annotated {done} of {tot}, aka {(done/tot)*100}%\")"
   ]
  },
  {
   "cell_type": "markdown",
   "metadata": {},
   "source": [
    "## Compare source and annotation\n",
    "I made some mistakes during substitution of danish words, script to check/repair"
   ]
  },
  {
   "cell_type": "code",
   "execution_count": 29,
   "metadata": {
    "scrolled": true
   },
   "outputs": [],
   "source": [
    "# from pathlib import Path\n",
    "\n",
    "# sc = Path(\"poems/bokmål\")\n",
    "# dst = Path(\"tita\")\n",
    "\n",
    "\n",
    "# sc_list = sorted(sc.iterdir(), key = lambda x: x.name[:-4])\n",
    "# dst_list = sorted(dst.iterdir(), key = lambda x: x.name[:-14])\n",
    "\n",
    "\n",
    "# for sc_file, dst_file in zip(sc_list, dst_list):\n",
    "#     sc_stanzas = sc_file.read_text().split(\"\\n\\n\")\n",
    "#     dst_stanzas = dst_file.read_text().split(\"\\n\\n\")\n",
    "#     for sc_s, dst_s in zip(sc_stanzas, dst_stanzas):\n",
    "#         dst_lines = dst_s.split(\"\\n\")\n",
    "#         rhyme_code = dst_lines[0]\n",
    "#         dst_lines = dst_lines[1:]\n",
    "#         sc_lines = sc_s.split(\"\\n\")[:-1]\n",
    "\n",
    "#         for i, (l1, l2) in enumerate(zip(sc_lines, dst_lines)):\n",
    "#             if l1 != l2:\n",
    "#                 print(f\"{l1}\\n{l2}\\n\\n\")\n"
   ]
  },
  {
   "cell_type": "markdown",
   "metadata": {},
   "source": [
    "## Count stanzas and lines"
   ]
  },
  {
   "cell_type": "code",
   "execution_count": 18,
   "metadata": {},
   "outputs": [],
   "source": [
    "from pathlib import Path\n",
    "\n",
    "dst = Path(\"tita\")\n",
    "\n",
    "poems = len(list(dst.iterdir()))\n",
    "\n",
    "stanzas = 0\n",
    "lines = 0\n",
    "for e in dst.iterdir():\n",
    "    st = e.read_text().split(\"\\n\\n\")[:-1]\n",
    "    stanzas += len(st)\n",
    "    for s in st:\n",
    "        #-1 because the first line is the rhyme code\n",
    "        lines += (len(s.split(\"\\n\"))-1)    \n"
   ]
  },
  {
   "cell_type": "code",
   "execution_count": 7,
   "metadata": {
    "scrolled": false
   },
   "outputs": [
    {
     "data": {
      "text/plain": [
       "(5158, 26198, 508)"
      ]
     },
     "execution_count": 7,
     "metadata": {},
     "output_type": "execute_result"
    }
   ],
   "source": [
    "stanzas, lines, poems"
   ]
  },
  {
   "cell_type": "code",
   "execution_count": 63,
   "metadata": {
    "scrolled": false
   },
   "outputs": [
    {
     "data": {
      "text/html": [
       "<div>\n",
       "<style scoped>\n",
       "    .dataframe tbody tr th:only-of-type {\n",
       "        vertical-align: middle;\n",
       "    }\n",
       "\n",
       "    .dataframe tbody tr th {\n",
       "        vertical-align: top;\n",
       "    }\n",
       "\n",
       "    .dataframe thead th {\n",
       "        text-align: right;\n",
       "    }\n",
       "</style>\n",
       "<table border=\"1\" class=\"dataframe\">\n",
       "  <thead>\n",
       "    <tr style=\"text-align: right;\">\n",
       "      <th></th>\n",
       "      <th>rhyme scheme</th>\n",
       "      <th>stanza</th>\n",
       "      <th>filename</th>\n",
       "      <th>stanza number (in file)</th>\n",
       "    </tr>\n",
       "  </thead>\n",
       "  <tbody>\n",
       "    <tr>\n",
       "      <th>0</th>\n",
       "      <td>AABCCBI</td>\n",
       "      <td>Gud, la oss i din kunnskap fremmes,\\nså det vi...</td>\n",
       "      <td>2009013000065_1_annotated.txt</td>\n",
       "      <td>0</td>\n",
       "    </tr>\n",
       "    <tr>\n",
       "      <th>1</th>\n",
       "      <td>TAABCCB</td>\n",
       "      <td>ANNEN SANG\\nFra Landego seiles mot Skrova i no...</td>\n",
       "      <td>2007011001018_11_annotated.txt</td>\n",
       "      <td>0</td>\n",
       "    </tr>\n",
       "    <tr>\n",
       "      <th>2</th>\n",
       "      <td>AABCCB</td>\n",
       "      <td>Og er det en høstkveld når mørket står på\\nså ...</td>\n",
       "      <td>2007011001018_11_annotated.txt</td>\n",
       "      <td>1</td>\n",
       "    </tr>\n",
       "    <tr>\n",
       "      <th>3</th>\n",
       "      <td>AABCCB</td>\n",
       "      <td>Snart ligger og kaien der dyngvåt av regn,\\nog...</td>\n",
       "      <td>2007011001018_11_annotated.txt</td>\n",
       "      <td>2</td>\n",
       "    </tr>\n",
       "    <tr>\n",
       "      <th>4</th>\n",
       "      <td>AABCCB</td>\n",
       "      <td>Og rett bort i øst ligger Svinøya gård\\nhvor B...</td>\n",
       "      <td>2007011001018_11_annotated.txt</td>\n",
       "      <td>3</td>\n",
       "    </tr>\n",
       "    <tr>\n",
       "      <th>...</th>\n",
       "      <td>...</td>\n",
       "      <td>...</td>\n",
       "      <td>...</td>\n",
       "      <td>...</td>\n",
       "    </tr>\n",
       "    <tr>\n",
       "      <th>5153</th>\n",
       "      <td>AABB</td>\n",
       "      <td>Lukket! Lukket! Øde veier! Gledens vinger brut...</td>\n",
       "      <td>2011041408091_18_annotated.txt</td>\n",
       "      <td>5</td>\n",
       "    </tr>\n",
       "    <tr>\n",
       "      <th>5154</th>\n",
       "      <td>AABB</td>\n",
       "      <td>Og nå stod han her som fremmed i et fremmed la...</td>\n",
       "      <td>2011041408091_18_annotated.txt</td>\n",
       "      <td>6</td>\n",
       "    </tr>\n",
       "    <tr>\n",
       "      <th>5155</th>\n",
       "      <td>AABB</td>\n",
       "      <td>Opp av havets blanke bølger, som en vårfrisk m...</td>\n",
       "      <td>2011041408091_18_annotated.txt</td>\n",
       "      <td>7</td>\n",
       "    </tr>\n",
       "    <tr>\n",
       "      <th>5156</th>\n",
       "      <td>AABB</td>\n",
       "      <td>Til Europa! Tanken slår ham plutselig som lyn,...</td>\n",
       "      <td>2011041408091_18_annotated.txt</td>\n",
       "      <td>8</td>\n",
       "    </tr>\n",
       "    <tr>\n",
       "      <th>5157</th>\n",
       "      <td>AABB</td>\n",
       "      <td>Ei han nøler med å følge veiens nye spor.\\nI d...</td>\n",
       "      <td>2011041408091_18_annotated.txt</td>\n",
       "      <td>9</td>\n",
       "    </tr>\n",
       "  </tbody>\n",
       "</table>\n",
       "<p>5158 rows × 4 columns</p>\n",
       "</div>"
      ],
      "text/plain": [
       "     rhyme scheme                                             stanza  \\\n",
       "0         AABCCBI  Gud, la oss i din kunnskap fremmes,\\nså det vi...   \n",
       "1         TAABCCB  ANNEN SANG\\nFra Landego seiles mot Skrova i no...   \n",
       "2          AABCCB  Og er det en høstkveld når mørket står på\\nså ...   \n",
       "3          AABCCB  Snart ligger og kaien der dyngvåt av regn,\\nog...   \n",
       "4          AABCCB  Og rett bort i øst ligger Svinøya gård\\nhvor B...   \n",
       "...           ...                                                ...   \n",
       "5153         AABB  Lukket! Lukket! Øde veier! Gledens vinger brut...   \n",
       "5154         AABB  Og nå stod han her som fremmed i et fremmed la...   \n",
       "5155         AABB  Opp av havets blanke bølger, som en vårfrisk m...   \n",
       "5156         AABB  Til Europa! Tanken slår ham plutselig som lyn,...   \n",
       "5157         AABB  Ei han nøler med å følge veiens nye spor.\\nI d...   \n",
       "\n",
       "                            filename  stanza number (in file)  \n",
       "0      2009013000065_1_annotated.txt                        0  \n",
       "1     2007011001018_11_annotated.txt                        0  \n",
       "2     2007011001018_11_annotated.txt                        1  \n",
       "3     2007011001018_11_annotated.txt                        2  \n",
       "4     2007011001018_11_annotated.txt                        3  \n",
       "...                              ...                      ...  \n",
       "5153  2011041408091_18_annotated.txt                        5  \n",
       "5154  2011041408091_18_annotated.txt                        6  \n",
       "5155  2011041408091_18_annotated.txt                        7  \n",
       "5156  2011041408091_18_annotated.txt                        8  \n",
       "5157  2011041408091_18_annotated.txt                        9  \n",
       "\n",
       "[5158 rows x 4 columns]"
      ]
     },
     "execution_count": 63,
     "metadata": {},
     "output_type": "execute_result"
    }
   ],
   "source": [
    "import pandas as pd\n",
    "\n",
    "dst = Path(\"tita\")\n",
    "\n",
    "poem_df = pd.read_csv(f\"tsvs/{dst.name}_rhymes_poems.tsv\", sep=\"\\t\")\n",
    "poem_df"
   ]
  },
  {
   "cell_type": "markdown",
   "metadata": {},
   "source": [
    "## Count rhyme schemes"
   ]
  },
  {
   "cell_type": "code",
   "execution_count": 64,
   "metadata": {
    "scrolled": false
   },
   "outputs": [
    {
     "name": "stdout",
     "output_type": "stream",
     "text": [
      "Schemes with title: 349\n",
      "schemes with info: 81\n",
      "schemes with noise: 2\n"
     ]
    },
    {
     "data": {
      "text/html": [
       "<div>\n",
       "<style scoped>\n",
       "    .dataframe tbody tr th:only-of-type {\n",
       "        vertical-align: middle;\n",
       "    }\n",
       "\n",
       "    .dataframe tbody tr th {\n",
       "        vertical-align: top;\n",
       "    }\n",
       "\n",
       "    .dataframe thead th {\n",
       "        text-align: right;\n",
       "    }\n",
       "</style>\n",
       "<table border=\"1\" class=\"dataframe\">\n",
       "  <thead>\n",
       "    <tr style=\"text-align: right;\">\n",
       "      <th></th>\n",
       "      <th>scheme</th>\n",
       "      <th>count</th>\n",
       "    </tr>\n",
       "  </thead>\n",
       "  <tbody>\n",
       "    <tr>\n",
       "      <th>0</th>\n",
       "      <td>ABAB</td>\n",
       "      <td>1059</td>\n",
       "    </tr>\n",
       "    <tr>\n",
       "      <th>1</th>\n",
       "      <td>ABCB</td>\n",
       "      <td>699</td>\n",
       "    </tr>\n",
       "    <tr>\n",
       "      <th>2</th>\n",
       "      <td>AABB</td>\n",
       "      <td>571</td>\n",
       "    </tr>\n",
       "    <tr>\n",
       "      <th>3</th>\n",
       "      <td>AABCCB</td>\n",
       "      <td>336</td>\n",
       "    </tr>\n",
       "    <tr>\n",
       "      <th>4</th>\n",
       "      <td>ABBA</td>\n",
       "      <td>170</td>\n",
       "    </tr>\n",
       "    <tr>\n",
       "      <th>...</th>\n",
       "      <td>...</td>\n",
       "      <td>...</td>\n",
       "    </tr>\n",
       "    <tr>\n",
       "      <th>593</th>\n",
       "      <td>ABCDBEC</td>\n",
       "      <td>1</td>\n",
       "    </tr>\n",
       "    <tr>\n",
       "      <th>594</th>\n",
       "      <td>ABAAC</td>\n",
       "      <td>1</td>\n",
       "    </tr>\n",
       "    <tr>\n",
       "      <th>595</th>\n",
       "      <td>TABBACC</td>\n",
       "      <td>1</td>\n",
       "    </tr>\n",
       "    <tr>\n",
       "      <th>596</th>\n",
       "      <td>TIABAC</td>\n",
       "      <td>1</td>\n",
       "    </tr>\n",
       "    <tr>\n",
       "      <th>597</th>\n",
       "      <td>ABABCDEDC</td>\n",
       "      <td>1</td>\n",
       "    </tr>\n",
       "  </tbody>\n",
       "</table>\n",
       "<p>598 rows × 2 columns</p>\n",
       "</div>"
      ],
      "text/plain": [
       "        scheme  count\n",
       "0         ABAB   1059\n",
       "1         ABCB    699\n",
       "2         AABB    571\n",
       "3       AABCCB    336\n",
       "4         ABBA    170\n",
       "..         ...    ...\n",
       "593    ABCDBEC      1\n",
       "594      ABAAC      1\n",
       "595    TABBACC      1\n",
       "596     TIABAC      1\n",
       "597  ABABCDEDC      1\n",
       "\n",
       "[598 rows x 2 columns]"
      ]
     },
     "execution_count": 64,
     "metadata": {},
     "output_type": "execute_result"
    }
   ],
   "source": [
    "from pathlib import Path\n",
    "from collections import Counter\n",
    "import pandas as pd\n",
    "\n",
    "rhyme_schemes = list(poem_df[\"rhyme scheme\"])\n",
    "\n",
    "c = Counter(rhyme_schemes)\n",
    "l = list(c.items())\n",
    "l.sort(key = lambda x: x[1], reverse = True)\n",
    "\n",
    "title_schemes = [s for s in rhyme_schemes if \"T\" in s]\n",
    "info_schemes = [s for s in rhyme_schemes if \"I\" in s]\n",
    "noise_schemes = [s for s in rhyme_schemes if \"N\" in s]\n",
    "\n",
    "print(f\"Schemes with title: {len(title_schemes)}\\nschemes with info: {len(info_schemes)}\\nschemes with noise: {len(noise_schemes)}\")\n",
    "df = pd.DataFrame(l, columns = [\"scheme\", \"count\"])\n",
    "df"
   ]
  },
  {
   "cell_type": "markdown",
   "metadata": {},
   "source": [
    "## Remove title, info and noise code for rhyme scheme statistics"
   ]
  },
  {
   "cell_type": "code",
   "execution_count": 25,
   "metadata": {
    "scrolled": true
   },
   "outputs": [
    {
     "data": {
      "text/html": [
       "<div>\n",
       "<style scoped>\n",
       "    .dataframe tbody tr th:only-of-type {\n",
       "        vertical-align: middle;\n",
       "    }\n",
       "\n",
       "    .dataframe tbody tr th {\n",
       "        vertical-align: top;\n",
       "    }\n",
       "\n",
       "    .dataframe thead th {\n",
       "        text-align: right;\n",
       "    }\n",
       "</style>\n",
       "<table border=\"1\" class=\"dataframe\">\n",
       "  <thead>\n",
       "    <tr style=\"text-align: right;\">\n",
       "      <th></th>\n",
       "      <th>scheme</th>\n",
       "      <th>count</th>\n",
       "    </tr>\n",
       "  </thead>\n",
       "  <tbody>\n",
       "    <tr>\n",
       "      <th>0</th>\n",
       "      <td>ABAB</td>\n",
       "      <td>1142</td>\n",
       "    </tr>\n",
       "    <tr>\n",
       "      <th>1</th>\n",
       "      <td>ABCB</td>\n",
       "      <td>749</td>\n",
       "    </tr>\n",
       "    <tr>\n",
       "      <th>2</th>\n",
       "      <td>AABB</td>\n",
       "      <td>611</td>\n",
       "    </tr>\n",
       "    <tr>\n",
       "      <th>3</th>\n",
       "      <td>AABCCB</td>\n",
       "      <td>360</td>\n",
       "    </tr>\n",
       "    <tr>\n",
       "      <th>4</th>\n",
       "      <td>ABBA</td>\n",
       "      <td>181</td>\n",
       "    </tr>\n",
       "    <tr>\n",
       "      <th>...</th>\n",
       "      <td>...</td>\n",
       "      <td>...</td>\n",
       "    </tr>\n",
       "    <tr>\n",
       "      <th>485</th>\n",
       "      <td>ABCDEFGHG</td>\n",
       "      <td>1</td>\n",
       "    </tr>\n",
       "    <tr>\n",
       "      <th>486</th>\n",
       "      <td>ABCDCEA</td>\n",
       "      <td>1</td>\n",
       "    </tr>\n",
       "    <tr>\n",
       "      <th>487</th>\n",
       "      <td>ABCDBEC</td>\n",
       "      <td>1</td>\n",
       "    </tr>\n",
       "    <tr>\n",
       "      <th>488</th>\n",
       "      <td>ABAAC</td>\n",
       "      <td>1</td>\n",
       "    </tr>\n",
       "    <tr>\n",
       "      <th>489</th>\n",
       "      <td>ABABCDEDC</td>\n",
       "      <td>1</td>\n",
       "    </tr>\n",
       "  </tbody>\n",
       "</table>\n",
       "<p>490 rows × 2 columns</p>\n",
       "</div>"
      ],
      "text/plain": [
       "        scheme  count\n",
       "0         ABAB   1142\n",
       "1         ABCB    749\n",
       "2         AABB    611\n",
       "3       AABCCB    360\n",
       "4         ABBA    181\n",
       "..         ...    ...\n",
       "485  ABCDEFGHG      1\n",
       "486    ABCDCEA      1\n",
       "487    ABCDBEC      1\n",
       "488      ABAAC      1\n",
       "489  ABABCDEDC      1\n",
       "\n",
       "[490 rows x 2 columns]"
      ]
     },
     "execution_count": 25,
     "metadata": {},
     "output_type": "execute_result"
    }
   ],
   "source": [
    "new_rhyme_schemes = [scheme.replace(\"T\", \"\").replace(\"I\", \"\").replace(\"N\", \"\") for scheme in rhyme_schemes]\n",
    "c2 = Counter(new_rhyme_schemes)\n",
    "l2 = list(c2.items())\n",
    "l2.sort(key = lambda x: x[1], reverse = True)\n",
    "df2 = pd.DataFrame(l2, columns = [\"scheme\", \"count\"])\n",
    "df2"
   ]
  },
  {
   "cell_type": "code",
   "execution_count": 26,
   "metadata": {
    "scrolled": true
   },
   "outputs": [
    {
     "data": {
      "text/html": [
       "<div>\n",
       "<style scoped>\n",
       "    .dataframe tbody tr th:only-of-type {\n",
       "        vertical-align: middle;\n",
       "    }\n",
       "\n",
       "    .dataframe tbody tr th {\n",
       "        vertical-align: top;\n",
       "    }\n",
       "\n",
       "    .dataframe thead th {\n",
       "        text-align: right;\n",
       "    }\n",
       "</style>\n",
       "<table border=\"1\" class=\"dataframe\">\n",
       "  <thead>\n",
       "    <tr style=\"text-align: right;\">\n",
       "      <th></th>\n",
       "      <th>scheme</th>\n",
       "      <th>count</th>\n",
       "    </tr>\n",
       "  </thead>\n",
       "  <tbody>\n",
       "    <tr>\n",
       "      <th>187</th>\n",
       "      <td>AABCDEFD</td>\n",
       "      <td>1</td>\n",
       "    </tr>\n",
       "    <tr>\n",
       "      <th>188</th>\n",
       "      <td>ABACBDCD</td>\n",
       "      <td>1</td>\n",
       "    </tr>\n",
       "    <tr>\n",
       "      <th>189</th>\n",
       "      <td>ABABBB</td>\n",
       "      <td>1</td>\n",
       "    </tr>\n",
       "    <tr>\n",
       "      <th>190</th>\n",
       "      <td>ABBBA</td>\n",
       "      <td>1</td>\n",
       "    </tr>\n",
       "    <tr>\n",
       "      <th>191</th>\n",
       "      <td>AABCCDDA</td>\n",
       "      <td>1</td>\n",
       "    </tr>\n",
       "    <tr>\n",
       "      <th>...</th>\n",
       "      <td>...</td>\n",
       "      <td>...</td>\n",
       "    </tr>\n",
       "    <tr>\n",
       "      <th>485</th>\n",
       "      <td>ABCDEFGHG</td>\n",
       "      <td>1</td>\n",
       "    </tr>\n",
       "    <tr>\n",
       "      <th>486</th>\n",
       "      <td>ABCDCEA</td>\n",
       "      <td>1</td>\n",
       "    </tr>\n",
       "    <tr>\n",
       "      <th>487</th>\n",
       "      <td>ABCDBEC</td>\n",
       "      <td>1</td>\n",
       "    </tr>\n",
       "    <tr>\n",
       "      <th>488</th>\n",
       "      <td>ABAAC</td>\n",
       "      <td>1</td>\n",
       "    </tr>\n",
       "    <tr>\n",
       "      <th>489</th>\n",
       "      <td>ABABCDEDC</td>\n",
       "      <td>1</td>\n",
       "    </tr>\n",
       "  </tbody>\n",
       "</table>\n",
       "<p>303 rows × 2 columns</p>\n",
       "</div>"
      ],
      "text/plain": [
       "        scheme  count\n",
       "187   AABCDEFD      1\n",
       "188   ABACBDCD      1\n",
       "189     ABABBB      1\n",
       "190      ABBBA      1\n",
       "191   AABCCDDA      1\n",
       "..         ...    ...\n",
       "485  ABCDEFGHG      1\n",
       "486    ABCDCEA      1\n",
       "487    ABCDBEC      1\n",
       "488      ABAAC      1\n",
       "489  ABABCDEDC      1\n",
       "\n",
       "[303 rows x 2 columns]"
      ]
     },
     "execution_count": 26,
     "metadata": {},
     "output_type": "execute_result"
    }
   ],
   "source": [
    "one_occurence = df2.loc[df2[\"count\"]==1]\n",
    "one_occurence"
   ]
  },
  {
   "cell_type": "markdown",
   "metadata": {},
   "source": [
    "## Create subset for inter-annotator agreement"
   ]
  },
  {
   "cell_type": "code",
   "execution_count": 103,
   "metadata": {
    "scrolled": true
   },
   "outputs": [
    {
     "name": "stdout",
     "output_type": "stream",
     "text": [
      "100\n"
     ]
    },
    {
     "name": "stderr",
     "output_type": "stream",
     "text": [
      "<ipython-input-103-5efb3c772007>:3: SettingWithCopyWarning: \n",
      "A value is trying to be set on a copy of a slice from a DataFrame.\n",
      "Try using .loc[row_indexer,col_indexer] = value instead\n",
      "\n",
      "See the caveats in the documentation: https://pandas.pydata.org/pandas-docs/stable/user_guide/indexing.html#returning-a-view-versus-a-copy\n",
      "  top_ten[\"selection\"] = top_ten[\"count\"]/100*2.8\n",
      "<ipython-input-103-5efb3c772007>:4: SettingWithCopyWarning: \n",
      "A value is trying to be set on a copy of a slice from a DataFrame.\n",
      "Try using .loc[row_indexer,col_indexer] = value instead\n",
      "\n",
      "See the caveats in the documentation: https://pandas.pydata.org/pandas-docs/stable/user_guide/indexing.html#returning-a-view-versus-a-copy\n",
      "  top_ten[\"selection\"] = top_ten[\"selection\"].apply(round)\n"
     ]
    }
   ],
   "source": [
    "# Find how many stanzas from each rhyme scheme\n",
    "top_ten = df2[:10]\n",
    "top_ten[\"selection\"] = top_ten[\"count\"]/100*2.8\n",
    "top_ten[\"selection\"] = top_ten[\"selection\"].apply(round)\n",
    "print(sum(top_ten[\"selection\"]))\n",
    "#top_ten"
   ]
  },
  {
   "cell_type": "code",
   "execution_count": 109,
   "metadata": {
    "scrolled": false
   },
   "outputs": [
    {
     "name": "stdout",
     "output_type": "stream",
     "text": [
      "32\n",
      "21\n",
      "17\n",
      "10\n",
      "5\n",
      "5\n",
      "4\n",
      "2\n",
      "2\n",
      "2\n"
     ]
    }
   ],
   "source": [
    "seed = 420\n",
    "\n",
    "subset = poem_df.loc[poem_df[\"rhyme scheme\"] == \"\"]\n",
    "\n",
    "for e in top_ten.itertuples():\n",
    "    _df = poem_df.loc[poem_df[\"rhyme scheme\"] == e.scheme]\n",
    "    selection = _df.sample(n=e.selection, random_state=seed)\n",
    "    print(len(selection))\n",
    "    subset = pd.concat((subset, selection))"
   ]
  },
  {
   "cell_type": "code",
   "execution_count": 98,
   "metadata": {
    "scrolled": false
   },
   "outputs": [
    {
     "data": {
      "text/html": [
       "<div>\n",
       "<style scoped>\n",
       "    .dataframe tbody tr th:only-of-type {\n",
       "        vertical-align: middle;\n",
       "    }\n",
       "\n",
       "    .dataframe tbody tr th {\n",
       "        vertical-align: top;\n",
       "    }\n",
       "\n",
       "    .dataframe thead th {\n",
       "        text-align: right;\n",
       "    }\n",
       "</style>\n",
       "<table border=\"1\" class=\"dataframe\">\n",
       "  <thead>\n",
       "    <tr style=\"text-align: right;\">\n",
       "      <th></th>\n",
       "      <th>rhyme scheme</th>\n",
       "      <th>stanza</th>\n",
       "      <th>filename</th>\n",
       "      <th>stanza number (in file)</th>\n",
       "    </tr>\n",
       "  </thead>\n",
       "  <tbody>\n",
       "    <tr>\n",
       "      <th>2249</th>\n",
       "      <td>ABAB</td>\n",
       "      <td>Å, så ramme også meg din vrede.\\nLa meg dø! Ta...</td>\n",
       "      <td>2011042608056_9_annotated.txt</td>\n",
       "      <td>12</td>\n",
       "    </tr>\n",
       "    <tr>\n",
       "      <th>4752</th>\n",
       "      <td>ABAB</td>\n",
       "      <td>I jubel flyr toget avsted.\\nSe grensen! En lin...</td>\n",
       "      <td>2011102708082_46_annotated.txt</td>\n",
       "      <td>1</td>\n",
       "    </tr>\n",
       "    <tr>\n",
       "      <th>2471</th>\n",
       "      <td>ABAB</td>\n",
       "      <td>Sangen har evighet, derfor den skyter\\nfortid ...</td>\n",
       "      <td>2006081000055_38_annotated.txt</td>\n",
       "      <td>1</td>\n",
       "    </tr>\n",
       "    <tr>\n",
       "      <th>3042</th>\n",
       "      <td>ABAB</td>\n",
       "      <td>Har jeg ikke sett dem de hellige trær\\nher i s...</td>\n",
       "      <td>2014102306006_38_annotated.txt</td>\n",
       "      <td>16</td>\n",
       "    </tr>\n",
       "    <tr>\n",
       "      <th>2138</th>\n",
       "      <td>ABAB</td>\n",
       "      <td>Jeg ser hans dag. Jeg ser ham komme,\\nden seir...</td>\n",
       "      <td>2011041408047_30_annotated.txt</td>\n",
       "      <td>19</td>\n",
       "    </tr>\n",
       "    <tr>\n",
       "      <th>...</th>\n",
       "      <td>...</td>\n",
       "      <td>...</td>\n",
       "      <td>...</td>\n",
       "      <td>...</td>\n",
       "    </tr>\n",
       "    <tr>\n",
       "      <th>1082</th>\n",
       "      <td>ABAAB</td>\n",
       "      <td>Dog — nå er hans time inne.\\nLyset er til jord...</td>\n",
       "      <td>2011041408091_22_annotated.txt</td>\n",
       "      <td>19</td>\n",
       "    </tr>\n",
       "    <tr>\n",
       "      <th>4064</th>\n",
       "      <td>AABCBC</td>\n",
       "      <td>Det har Paiulus ikke glemt.\\nDerfor er hans ne...</td>\n",
       "      <td>2011041408091_17_annotated.txt</td>\n",
       "      <td>24</td>\n",
       "    </tr>\n",
       "    <tr>\n",
       "      <th>4950</th>\n",
       "      <td>AABCBC</td>\n",
       "      <td>Så til Rom! Det er hans håb forvisst\\nalt tilt...</td>\n",
       "      <td>2011041408091_27_annotated.txt</td>\n",
       "      <td>29</td>\n",
       "    </tr>\n",
       "    <tr>\n",
       "      <th>4478</th>\n",
       "      <td>ABABCC</td>\n",
       "      <td>Uskyldig! Uskyldig! Jeg gjorde ille!\\nTa sølve...</td>\n",
       "      <td>2011042608056_38_annotated.txt</td>\n",
       "      <td>42</td>\n",
       "    </tr>\n",
       "    <tr>\n",
       "      <th>810</th>\n",
       "      <td>ABABCC</td>\n",
       "      <td>Vover han?\\nI selve templet?\\nAv de lærde er h...</td>\n",
       "      <td>2011042608056_32_annotated.txt</td>\n",
       "      <td>9</td>\n",
       "    </tr>\n",
       "  </tbody>\n",
       "</table>\n",
       "<p>100 rows × 4 columns</p>\n",
       "</div>"
      ],
      "text/plain": [
       "     rhyme scheme                                             stanza  \\\n",
       "2249         ABAB  Å, så ramme også meg din vrede.\\nLa meg dø! Ta...   \n",
       "4752         ABAB  I jubel flyr toget avsted.\\nSe grensen! En lin...   \n",
       "2471         ABAB  Sangen har evighet, derfor den skyter\\nfortid ...   \n",
       "3042         ABAB  Har jeg ikke sett dem de hellige trær\\nher i s...   \n",
       "2138         ABAB  Jeg ser hans dag. Jeg ser ham komme,\\nden seir...   \n",
       "...           ...                                                ...   \n",
       "1082        ABAAB  Dog — nå er hans time inne.\\nLyset er til jord...   \n",
       "4064       AABCBC  Det har Paiulus ikke glemt.\\nDerfor er hans ne...   \n",
       "4950       AABCBC  Så til Rom! Det er hans håb forvisst\\nalt tilt...   \n",
       "4478       ABABCC  Uskyldig! Uskyldig! Jeg gjorde ille!\\nTa sølve...   \n",
       "810        ABABCC  Vover han?\\nI selve templet?\\nAv de lærde er h...   \n",
       "\n",
       "                            filename  stanza number (in file)  \n",
       "2249   2011042608056_9_annotated.txt                       12  \n",
       "4752  2011102708082_46_annotated.txt                        1  \n",
       "2471  2006081000055_38_annotated.txt                        1  \n",
       "3042  2014102306006_38_annotated.txt                       16  \n",
       "2138  2011041408047_30_annotated.txt                       19  \n",
       "...                              ...                      ...  \n",
       "1082  2011041408091_22_annotated.txt                       19  \n",
       "4064  2011041408091_17_annotated.txt                       24  \n",
       "4950  2011041408091_27_annotated.txt                       29  \n",
       "4478  2011042608056_38_annotated.txt                       42  \n",
       "810   2011042608056_32_annotated.txt                        9  \n",
       "\n",
       "[100 rows x 4 columns]"
      ]
     },
     "execution_count": 98,
     "metadata": {},
     "output_type": "execute_result"
    }
   ],
   "source": [
    "subset"
   ]
  },
  {
   "cell_type": "markdown",
   "metadata": {},
   "source": [
    "## Shuffle subset so not all stanzas with the same scheme come after each other"
   ]
  },
  {
   "cell_type": "code",
   "execution_count": 110,
   "metadata": {},
   "outputs": [
    {
     "data": {
      "text/html": [
       "<div>\n",
       "<style scoped>\n",
       "    .dataframe tbody tr th:only-of-type {\n",
       "        vertical-align: middle;\n",
       "    }\n",
       "\n",
       "    .dataframe tbody tr th {\n",
       "        vertical-align: top;\n",
       "    }\n",
       "\n",
       "    .dataframe thead th {\n",
       "        text-align: right;\n",
       "    }\n",
       "</style>\n",
       "<table border=\"1\" class=\"dataframe\">\n",
       "  <thead>\n",
       "    <tr style=\"text-align: right;\">\n",
       "      <th></th>\n",
       "      <th>rhyme scheme</th>\n",
       "      <th>stanza</th>\n",
       "      <th>filename</th>\n",
       "      <th>stanza number (in file)</th>\n",
       "    </tr>\n",
       "  </thead>\n",
       "  <tbody>\n",
       "    <tr>\n",
       "      <th>0</th>\n",
       "      <td>ABAB</td>\n",
       "      <td>Regn, regn!\\nropte skog og mark,\\nregn, regn!\\...</td>\n",
       "      <td>2006081000055_59_annotated.txt</td>\n",
       "      <td>5</td>\n",
       "    </tr>\n",
       "    <tr>\n",
       "      <th>1</th>\n",
       "      <td>ABCB</td>\n",
       "      <td>Vel klager det trette hjerte\\ni mismot så mang...</td>\n",
       "      <td>2011041408047_20_annotated.txt</td>\n",
       "      <td>4</td>\n",
       "    </tr>\n",
       "    <tr>\n",
       "      <th>2</th>\n",
       "      <td>ABCB</td>\n",
       "      <td>Evig står nå striden\\nom den usle grav\\nmellom...</td>\n",
       "      <td>2014102306006_110_annotated.txt</td>\n",
       "      <td>5</td>\n",
       "    </tr>\n",
       "    <tr>\n",
       "      <th>3</th>\n",
       "      <td>ABAB</td>\n",
       "      <td>Overalt han har spioner —\\nkongen lytter, lure...</td>\n",
       "      <td>2011041408047_21_annotated.txt</td>\n",
       "      <td>1</td>\n",
       "    </tr>\n",
       "    <tr>\n",
       "      <th>4</th>\n",
       "      <td>ABCB</td>\n",
       "      <td>Hva nevnes dog den smerte,\\nden sorgens bitre ...</td>\n",
       "      <td>2011042608056_1_annotated.txt</td>\n",
       "      <td>4</td>\n",
       "    </tr>\n",
       "    <tr>\n",
       "      <th>...</th>\n",
       "      <td>...</td>\n",
       "      <td>...</td>\n",
       "      <td>...</td>\n",
       "      <td>...</td>\n",
       "    </tr>\n",
       "    <tr>\n",
       "      <th>95</th>\n",
       "      <td>ABAB</td>\n",
       "      <td>I fjellets ly der stein har mæle,\\nog dalen åp...</td>\n",
       "      <td>2012032024065_5_annotated.txt</td>\n",
       "      <td>3</td>\n",
       "    </tr>\n",
       "    <tr>\n",
       "      <th>96</th>\n",
       "      <td>AABB</td>\n",
       "      <td>Til slutning svevde over vang\\nde klare kirkek...</td>\n",
       "      <td>2012032024065_11_annotated.txt</td>\n",
       "      <td>57</td>\n",
       "    </tr>\n",
       "    <tr>\n",
       "      <th>97</th>\n",
       "      <td>ABAB</td>\n",
       "      <td>Eller vanens sløve makt\\nsom den beste vilje l...</td>\n",
       "      <td>2011041408091_22_annotated.txt</td>\n",
       "      <td>7</td>\n",
       "    </tr>\n",
       "    <tr>\n",
       "      <th>98</th>\n",
       "      <td>AABCCB</td>\n",
       "      <td>Eller båter med lina mens leken går vill\\nsom ...</td>\n",
       "      <td>2007011001018_7_annotated.txt</td>\n",
       "      <td>6</td>\n",
       "    </tr>\n",
       "    <tr>\n",
       "      <th>99</th>\n",
       "      <td>ABCB</td>\n",
       "      <td>Han går hvor Herren kaller,\\nsinVei, sitt mål ...</td>\n",
       "      <td>2011041408091_27_annotated.txt</td>\n",
       "      <td>23</td>\n",
       "    </tr>\n",
       "  </tbody>\n",
       "</table>\n",
       "<p>100 rows × 4 columns</p>\n",
       "</div>"
      ],
      "text/plain": [
       "   rhyme scheme                                             stanza  \\\n",
       "0          ABAB  Regn, regn!\\nropte skog og mark,\\nregn, regn!\\...   \n",
       "1          ABCB  Vel klager det trette hjerte\\ni mismot så mang...   \n",
       "2          ABCB  Evig står nå striden\\nom den usle grav\\nmellom...   \n",
       "3          ABAB  Overalt han har spioner —\\nkongen lytter, lure...   \n",
       "4          ABCB  Hva nevnes dog den smerte,\\nden sorgens bitre ...   \n",
       "..          ...                                                ...   \n",
       "95         ABAB  I fjellets ly der stein har mæle,\\nog dalen åp...   \n",
       "96         AABB  Til slutning svevde over vang\\nde klare kirkek...   \n",
       "97         ABAB  Eller vanens sløve makt\\nsom den beste vilje l...   \n",
       "98       AABCCB  Eller båter med lina mens leken går vill\\nsom ...   \n",
       "99         ABCB  Han går hvor Herren kaller,\\nsinVei, sitt mål ...   \n",
       "\n",
       "                           filename  stanza number (in file)  \n",
       "0    2006081000055_59_annotated.txt                        5  \n",
       "1    2011041408047_20_annotated.txt                        4  \n",
       "2   2014102306006_110_annotated.txt                        5  \n",
       "3    2011041408047_21_annotated.txt                        1  \n",
       "4     2011042608056_1_annotated.txt                        4  \n",
       "..                              ...                      ...  \n",
       "95    2012032024065_5_annotated.txt                        3  \n",
       "96   2012032024065_11_annotated.txt                       57  \n",
       "97   2011041408091_22_annotated.txt                        7  \n",
       "98    2007011001018_7_annotated.txt                        6  \n",
       "99   2011041408091_27_annotated.txt                       23  \n",
       "\n",
       "[100 rows x 4 columns]"
      ]
     },
     "execution_count": 110,
     "metadata": {},
     "output_type": "execute_result"
    }
   ],
   "source": [
    "subset = subset.sample(frac=1, random_state=seed).reset_index(drop=True)\n",
    "subset"
   ]
  },
  {
   "cell_type": "markdown",
   "metadata": {},
   "source": [
    "## Write subset to file"
   ]
  },
  {
   "cell_type": "code",
   "execution_count": 111,
   "metadata": {},
   "outputs": [],
   "source": [
    "subset_text = \"\\n\\n\".join(subset[\"stanza\"])\n",
    "with open(\"poem_subset\", \"w+\") as f:\n",
    "    f.write(subset_text)"
   ]
  },
  {
   "cell_type": "markdown",
   "metadata": {},
   "source": [
    "##  Number of possible unique rhyme pairs"
   ]
  },
  {
   "cell_type": "code",
   "execution_count": 28,
   "metadata": {},
   "outputs": [
    {
     "data": {
      "text/plain": [
       "12631.0"
      ]
     },
     "execution_count": 28,
     "metadata": {},
     "output_type": "execute_result"
    }
   ],
   "source": [
    "def no_rhyme(scheme):\n",
    "    return len(scheme) == len(set(scheme))\n",
    "\n",
    "def get_edges(vertices):\n",
    "    return (vertices*(vertices-1))/2\n",
    "\n",
    "tot_word_pairs = 0\n",
    "for scheme, count in l2:\n",
    "    c = Counter(scheme)\n",
    "    tot_word_pairs += sum(get_edges(v) for v in c.values())*count\n",
    "    \n",
    "tot_word_pairs"
   ]
  },
  {
   "cell_type": "markdown",
   "metadata": {},
   "source": [
    "## Count unique line ending words"
   ]
  },
  {
   "cell_type": "code",
   "execution_count": 13,
   "metadata": {},
   "outputs": [],
   "source": [
    "def get_line_ending_words(pathlib_file):\n",
    "    # TODO: USE TOKENIZER\n",
    "    stanzas = pathlib_file.read_text().split(\"\\n\\n\")[:-1]\n",
    "    #schemes = [stanza.split(\"\\n\")[0] for stanza in stanzas]\n",
    "    line_ending_words = [line.split(\" \")[-1] for stanza in stanzas for line in stanza.split(\"\\n\")[1:]] \n",
    "    return line_ending_words\n",
    "    #flatten_matrix = [val for sublist in matrix for val in sublist]\n",
    "\n",
    "line_ending_words = []    \n",
    "    \n",
    "for e in dst.iterdir():\n",
    "    line_ending_words += get_line_ending_words(e)"
   ]
  },
  {
   "cell_type": "code",
   "execution_count": 204,
   "metadata": {},
   "outputs": [
    {
     "data": {
      "text/plain": [
       "(26198, 12524)"
      ]
     },
     "execution_count": 204,
     "metadata": {},
     "output_type": "execute_result"
    }
   ],
   "source": [
    "len(line_ending_words), len(set(line_ending_words))"
   ]
  }
 ],
 "metadata": {
  "kernelspec": {
   "display_name": "Python 3",
   "language": "python",
   "name": "python3"
  },
  "language_info": {
   "codemirror_mode": {
    "name": "ipython",
    "version": 3
   },
   "file_extension": ".py",
   "mimetype": "text/x-python",
   "name": "python",
   "nbconvert_exporter": "python",
   "pygments_lexer": "ipython3",
   "version": "3.8.10"
  }
 },
 "nbformat": 4,
 "nbformat_minor": 4
}
