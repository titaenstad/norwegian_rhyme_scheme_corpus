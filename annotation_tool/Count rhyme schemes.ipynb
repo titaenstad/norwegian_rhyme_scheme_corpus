{
 "cells": [
  {
   "cell_type": "markdown",
   "metadata": {},
   "source": [
    "## Measure progress during annotation"
   ]
  },
  {
   "cell_type": "code",
   "execution_count": 1,
   "metadata": {},
   "outputs": [
    {
     "name": "stdout",
     "output_type": "stream",
     "text": [
      "Annotated 508 of 508, aka 100.0%\n"
     ]
    }
   ],
   "source": [
    "from pathlib import Path\n",
    "\n",
    "sc = Path(\"poems/bokmål\")\n",
    "dst = Path(\"tita\")\n",
    "\n",
    "tot = len(list(sc.iterdir()))\n",
    "done = len(list(dst.iterdir()))\n",
    "\n",
    "print(f\"Annotated {done} of {tot}, aka {(done/tot)*100}%\")"
   ]
  },
  {
   "cell_type": "markdown",
   "metadata": {},
   "source": [
    "## Compare source and annotation\n",
    "I made some mistakes during substitution of danish words, script to check/repair"
   ]
  },
  {
   "cell_type": "code",
   "execution_count": 29,
   "metadata": {
    "scrolled": true
   },
   "outputs": [],
   "source": [
    "# from pathlib import Path\n",
    "\n",
    "# sc = Path(\"poems/bokmål\")\n",
    "# dst = Path(\"tita\")\n",
    "\n",
    "\n",
    "# sc_list = sorted(sc.iterdir(), key = lambda x: x.name[:-4])\n",
    "# dst_list = sorted(dst.iterdir(), key = lambda x: x.name[:-14])\n",
    "\n",
    "\n",
    "# for sc_file, dst_file in zip(sc_list, dst_list):\n",
    "#     sc_stanzas = sc_file.read_text().split(\"\\n\\n\")\n",
    "#     dst_stanzas = dst_file.read_text().split(\"\\n\\n\")\n",
    "#     for sc_s, dst_s in zip(sc_stanzas, dst_stanzas):\n",
    "#         dst_lines = dst_s.split(\"\\n\")\n",
    "#         rhyme_code = dst_lines[0]\n",
    "#         dst_lines = dst_lines[1:]\n",
    "#         sc_lines = sc_s.split(\"\\n\")[:-1]\n",
    "\n",
    "#         for i, (l1, l2) in enumerate(zip(sc_lines, dst_lines)):\n",
    "#             if l1 != l2:\n",
    "#                 print(f\"{l1}\\n{l2}\\n\\n\")\n"
   ]
  },
  {
   "cell_type": "markdown",
   "metadata": {},
   "source": [
    "## Count stanzas and lines"
   ]
  },
  {
   "cell_type": "code",
   "execution_count": 18,
   "metadata": {},
   "outputs": [],
   "source": [
    "from pathlib import Path\n",
    "\n",
    "dst = Path(\"tita\")\n",
    "\n",
    "poems = len(list(dst.iterdir()))\n",
    "\n",
    "stanzas = 0\n",
    "lines = 0\n",
    "for e in dst.iterdir():\n",
    "    st = e.read_text().split(\"\\n\\n\")[:-1]\n",
    "    stanzas += len(st)\n",
    "    for s in st:\n",
    "        #-1 because the first line is the rhyme code\n",
    "        lines += (len(s.split(\"\\n\"))-1)    \n"
   ]
  },
  {
   "cell_type": "code",
   "execution_count": 7,
   "metadata": {
    "scrolled": false
   },
   "outputs": [
    {
     "data": {
      "text/plain": [
       "(5158, 26198, 508)"
      ]
     },
     "execution_count": 7,
     "metadata": {},
     "output_type": "execute_result"
    }
   ],
   "source": [
    "stanzas, lines, poems"
   ]
  },
  {
   "cell_type": "code",
   "execution_count": 63,
   "metadata": {
    "scrolled": false
   },
   "outputs": [
    {
     "data": {
      "text/html": [
       "<div>\n",
       "<style scoped>\n",
       "    .dataframe tbody tr th:only-of-type {\n",
       "        vertical-align: middle;\n",
       "    }\n",
       "\n",
       "    .dataframe tbody tr th {\n",
       "        vertical-align: top;\n",
       "    }\n",
       "\n",
       "    .dataframe thead th {\n",
       "        text-align: right;\n",
       "    }\n",
       "</style>\n",
       "<table border=\"1\" class=\"dataframe\">\n",
       "  <thead>\n",
       "    <tr style=\"text-align: right;\">\n",
       "      <th></th>\n",
       "      <th>rhyme scheme</th>\n",
       "      <th>stanza</th>\n",
       "      <th>filename</th>\n",
       "      <th>stanza number (in file)</th>\n",
       "    </tr>\n",
       "  </thead>\n",
       "  <tbody>\n",
       "    <tr>\n",
       "      <th>0</th>\n",
       "      <td>AABCCBI</td>\n",
       "      <td>Gud, la oss i din kunnskap fremmes,\\nså det vi...</td>\n",
       "      <td>2009013000065_1_annotated.txt</td>\n",
       "      <td>0</td>\n",
       "    </tr>\n",
       "    <tr>\n",
       "      <th>1</th>\n",
       "      <td>TAABCCB</td>\n",
       "      <td>ANNEN SANG\\nFra Landego seiles mot Skrova i no...</td>\n",
       "      <td>2007011001018_11_annotated.txt</td>\n",
       "      <td>0</td>\n",
       "    </tr>\n",
       "    <tr>\n",
       "      <th>2</th>\n",
       "      <td>AABCCB</td>\n",
       "      <td>Og er det en høstkveld når mørket står på\\nså ...</td>\n",
       "      <td>2007011001018_11_annotated.txt</td>\n",
       "      <td>1</td>\n",
       "    </tr>\n",
       "    <tr>\n",
       "      <th>3</th>\n",
       "      <td>AABCCB</td>\n",
       "      <td>Snart ligger og kaien der dyngvåt av regn,\\nog...</td>\n",
       "      <td>2007011001018_11_annotated.txt</td>\n",
       "      <td>2</td>\n",
       "    </tr>\n",
       "    <tr>\n",
       "      <th>4</th>\n",
       "      <td>AABCCB</td>\n",
       "      <td>Og rett bort i øst ligger Svinøya gård\\nhvor B...</td>\n",
       "      <td>2007011001018_11_annotated.txt</td>\n",
       "      <td>3</td>\n",
       "    </tr>\n",
       "    <tr>\n",
       "      <th>...</th>\n",
       "      <td>...</td>\n",
       "      <td>...</td>\n",
       "      <td>...</td>\n",
       "      <td>...</td>\n",
       "    </tr>\n",
       "    <tr>\n",
       "      <th>5153</th>\n",
       "      <td>AABB</td>\n",
       "      <td>Lukket! Lukket! Øde veier! Gledens vinger brut...</td>\n",
       "      <td>2011041408091_18_annotated.txt</td>\n",
       "      <td>5</td>\n",
       "    </tr>\n",
       "    <tr>\n",
       "      <th>5154</th>\n",
       "      <td>AABB</td>\n",
       "      <td>Og nå stod han her som fremmed i et fremmed la...</td>\n",
       "      <td>2011041408091_18_annotated.txt</td>\n",
       "      <td>6</td>\n",
       "    </tr>\n",
       "    <tr>\n",
       "      <th>5155</th>\n",
       "      <td>AABB</td>\n",
       "      <td>Opp av havets blanke bølger, som en vårfrisk m...</td>\n",
       "      <td>2011041408091_18_annotated.txt</td>\n",
       "      <td>7</td>\n",
       "    </tr>\n",
       "    <tr>\n",
       "      <th>5156</th>\n",
       "      <td>AABB</td>\n",
       "      <td>Til Europa! Tanken slår ham plutselig som lyn,...</td>\n",
       "      <td>2011041408091_18_annotated.txt</td>\n",
       "      <td>8</td>\n",
       "    </tr>\n",
       "    <tr>\n",
       "      <th>5157</th>\n",
       "      <td>AABB</td>\n",
       "      <td>Ei han nøler med å følge veiens nye spor.\\nI d...</td>\n",
       "      <td>2011041408091_18_annotated.txt</td>\n",
       "      <td>9</td>\n",
       "    </tr>\n",
       "  </tbody>\n",
       "</table>\n",
       "<p>5158 rows × 4 columns</p>\n",
       "</div>"
      ],
      "text/plain": [
       "     rhyme scheme                                             stanza  \\\n",
       "0         AABCCBI  Gud, la oss i din kunnskap fremmes,\\nså det vi...   \n",
       "1         TAABCCB  ANNEN SANG\\nFra Landego seiles mot Skrova i no...   \n",
       "2          AABCCB  Og er det en høstkveld når mørket står på\\nså ...   \n",
       "3          AABCCB  Snart ligger og kaien der dyngvåt av regn,\\nog...   \n",
       "4          AABCCB  Og rett bort i øst ligger Svinøya gård\\nhvor B...   \n",
       "...           ...                                                ...   \n",
       "5153         AABB  Lukket! Lukket! Øde veier! Gledens vinger brut...   \n",
       "5154         AABB  Og nå stod han her som fremmed i et fremmed la...   \n",
       "5155         AABB  Opp av havets blanke bølger, som en vårfrisk m...   \n",
       "5156         AABB  Til Europa! Tanken slår ham plutselig som lyn,...   \n",
       "5157         AABB  Ei han nøler med å følge veiens nye spor.\\nI d...   \n",
       "\n",
       "                            filename  stanza number (in file)  \n",
       "0      2009013000065_1_annotated.txt                        0  \n",
       "1     2007011001018_11_annotated.txt                        0  \n",
       "2     2007011001018_11_annotated.txt                        1  \n",
       "3     2007011001018_11_annotated.txt                        2  \n",
       "4     2007011001018_11_annotated.txt                        3  \n",
       "...                              ...                      ...  \n",
       "5153  2011041408091_18_annotated.txt                        5  \n",
       "5154  2011041408091_18_annotated.txt                        6  \n",
       "5155  2011041408091_18_annotated.txt                        7  \n",
       "5156  2011041408091_18_annotated.txt                        8  \n",
       "5157  2011041408091_18_annotated.txt                        9  \n",
       "\n",
       "[5158 rows x 4 columns]"
      ]
     },
     "execution_count": 63,
     "metadata": {},
     "output_type": "execute_result"
    }
   ],
   "source": [
    "import pandas as pd\n",
    "\n",
    "dst = Path(\"tita\")\n",
    "\n",
    "poem_df = pd.read_csv(f\"tsvs/{dst.name}_rhymes_poems.tsv\", sep=\"\\t\")\n",
    "poem_df"
   ]
  },
  {
   "cell_type": "markdown",
   "metadata": {},
   "source": [
    "## Count rhyme schemes"
   ]
  },
  {
   "cell_type": "code",
   "execution_count": 64,
   "metadata": {
    "scrolled": false
   },
   "outputs": [
    {
     "name": "stdout",
     "output_type": "stream",
     "text": [
      "Schemes with title: 349\n",
      "schemes with info: 81\n",
      "schemes with noise: 2\n"
     ]
    },
    {
     "data": {
      "text/html": [
       "<div>\n",
       "<style scoped>\n",
       "    .dataframe tbody tr th:only-of-type {\n",
       "        vertical-align: middle;\n",
       "    }\n",
       "\n",
       "    .dataframe tbody tr th {\n",
       "        vertical-align: top;\n",
       "    }\n",
       "\n",
       "    .dataframe thead th {\n",
       "        text-align: right;\n",
       "    }\n",
       "</style>\n",
       "<table border=\"1\" class=\"dataframe\">\n",
       "  <thead>\n",
       "    <tr style=\"text-align: right;\">\n",
       "      <th></th>\n",
       "      <th>scheme</th>\n",
       "      <th>count</th>\n",
       "    </tr>\n",
       "  </thead>\n",
       "  <tbody>\n",
       "    <tr>\n",
       "      <th>0</th>\n",
       "      <td>ABAB</td>\n",
       "      <td>1059</td>\n",
       "    </tr>\n",
       "    <tr>\n",
       "      <th>1</th>\n",
       "      <td>ABCB</td>\n",
       "      <td>699</td>\n",
       "    </tr>\n",
       "    <tr>\n",
       "      <th>2</th>\n",
       "      <td>AABB</td>\n",
       "      <td>571</td>\n",
       "    </tr>\n",
       "    <tr>\n",
       "      <th>3</th>\n",
       "      <td>AABCCB</td>\n",
       "      <td>336</td>\n",
       "    </tr>\n",
       "    <tr>\n",
       "      <th>4</th>\n",
       "      <td>ABBA</td>\n",
       "      <td>170</td>\n",
       "    </tr>\n",
       "    <tr>\n",
       "      <th>...</th>\n",
       "      <td>...</td>\n",
       "      <td>...</td>\n",
       "    </tr>\n",
       "    <tr>\n",
       "      <th>593</th>\n",
       "      <td>ABCDBEC</td>\n",
       "      <td>1</td>\n",
       "    </tr>\n",
       "    <tr>\n",
       "      <th>594</th>\n",
       "      <td>ABAAC</td>\n",
       "      <td>1</td>\n",
       "    </tr>\n",
       "    <tr>\n",
       "      <th>595</th>\n",
       "      <td>TABBACC</td>\n",
       "      <td>1</td>\n",
       "    </tr>\n",
       "    <tr>\n",
       "      <th>596</th>\n",
       "      <td>TIABAC</td>\n",
       "      <td>1</td>\n",
       "    </tr>\n",
       "    <tr>\n",
       "      <th>597</th>\n",
       "      <td>ABABCDEDC</td>\n",
       "      <td>1</td>\n",
       "    </tr>\n",
       "  </tbody>\n",
       "</table>\n",
       "<p>598 rows × 2 columns</p>\n",
       "</div>"
      ],
      "text/plain": [
       "        scheme  count\n",
       "0         ABAB   1059\n",
       "1         ABCB    699\n",
       "2         AABB    571\n",
       "3       AABCCB    336\n",
       "4         ABBA    170\n",
       "..         ...    ...\n",
       "593    ABCDBEC      1\n",
       "594      ABAAC      1\n",
       "595    TABBACC      1\n",
       "596     TIABAC      1\n",
       "597  ABABCDEDC      1\n",
       "\n",
       "[598 rows x 2 columns]"
      ]
     },
     "execution_count": 64,
     "metadata": {},
     "output_type": "execute_result"
    }
   ],
   "source": [
    "from pathlib import Path\n",
    "from collections import Counter\n",
    "import pandas as pd\n",
    "\n",
    "rhyme_schemes = list(poem_df[\"rhyme scheme\"])\n",
    "\n",
    "c = Counter(rhyme_schemes)\n",
    "l = list(c.items())\n",
    "l.sort(key = lambda x: x[1], reverse = True)\n",
    "\n",
    "title_schemes = [s for s in rhyme_schemes if \"T\" in s]\n",
    "info_schemes = [s for s in rhyme_schemes if \"I\" in s]\n",
    "noise_schemes = [s for s in rhyme_schemes if \"N\" in s]\n",
    "\n",
    "print(f\"Schemes with title: {len(title_schemes)}\\nschemes with info: {len(info_schemes)}\\nschemes with noise: {len(noise_schemes)}\")\n",
    "df = pd.DataFrame(l, columns = [\"scheme\", \"count\"])\n",
    "df"
   ]
  },
  {
   "cell_type": "markdown",
   "metadata": {},
   "source": [
    "## Remove title, info and noise code for rhyme scheme statistics"
   ]
  },
  {
   "cell_type": "code",
   "execution_count": 25,
   "metadata": {
    "scrolled": true
   },
   "outputs": [
    {
     "data": {
      "text/html": [
       "<div>\n",
       "<style scoped>\n",
       "    .dataframe tbody tr th:only-of-type {\n",
       "        vertical-align: middle;\n",
       "    }\n",
       "\n",
       "    .dataframe tbody tr th {\n",
       "        vertical-align: top;\n",
       "    }\n",
       "\n",
       "    .dataframe thead th {\n",
       "        text-align: right;\n",
       "    }\n",
       "</style>\n",
       "<table border=\"1\" class=\"dataframe\">\n",
       "  <thead>\n",
       "    <tr style=\"text-align: right;\">\n",
       "      <th></th>\n",
       "      <th>scheme</th>\n",
       "      <th>count</th>\n",
       "    </tr>\n",
       "  </thead>\n",
       "  <tbody>\n",
       "    <tr>\n",
       "      <th>0</th>\n",
       "      <td>ABAB</td>\n",
       "      <td>1142</td>\n",
       "    </tr>\n",
       "    <tr>\n",
       "      <th>1</th>\n",
       "      <td>ABCB</td>\n",
       "      <td>749</td>\n",
       "    </tr>\n",
       "    <tr>\n",
       "      <th>2</th>\n",
       "      <td>AABB</td>\n",
       "      <td>611</td>\n",
       "    </tr>\n",
       "    <tr>\n",
       "      <th>3</th>\n",
       "      <td>AABCCB</td>\n",
       "      <td>360</td>\n",
       "    </tr>\n",
       "    <tr>\n",
       "      <th>4</th>\n",
       "      <td>ABBA</td>\n",
       "      <td>181</td>\n",
       "    </tr>\n",
       "    <tr>\n",
       "      <th>...</th>\n",
       "      <td>...</td>\n",
       "      <td>...</td>\n",
       "    </tr>\n",
       "    <tr>\n",
       "      <th>485</th>\n",
       "      <td>ABCDEFGHG</td>\n",
       "      <td>1</td>\n",
       "    </tr>\n",
       "    <tr>\n",
       "      <th>486</th>\n",
       "      <td>ABCDCEA</td>\n",
       "      <td>1</td>\n",
       "    </tr>\n",
       "    <tr>\n",
       "      <th>487</th>\n",
       "      <td>ABCDBEC</td>\n",
       "      <td>1</td>\n",
       "    </tr>\n",
       "    <tr>\n",
       "      <th>488</th>\n",
       "      <td>ABAAC</td>\n",
       "      <td>1</td>\n",
       "    </tr>\n",
       "    <tr>\n",
       "      <th>489</th>\n",
       "      <td>ABABCDEDC</td>\n",
       "      <td>1</td>\n",
       "    </tr>\n",
       "  </tbody>\n",
       "</table>\n",
       "<p>490 rows × 2 columns</p>\n",
       "</div>"
      ],
      "text/plain": [
       "        scheme  count\n",
       "0         ABAB   1142\n",
       "1         ABCB    749\n",
       "2         AABB    611\n",
       "3       AABCCB    360\n",
       "4         ABBA    181\n",
       "..         ...    ...\n",
       "485  ABCDEFGHG      1\n",
       "486    ABCDCEA      1\n",
       "487    ABCDBEC      1\n",
       "488      ABAAC      1\n",
       "489  ABABCDEDC      1\n",
       "\n",
       "[490 rows x 2 columns]"
      ]
     },
     "execution_count": 25,
     "metadata": {},
     "output_type": "execute_result"
    }
   ],
   "source": [
    "new_rhyme_schemes = [scheme.replace(\"T\", \"\").replace(\"I\", \"\").replace(\"N\", \"\") for scheme in rhyme_schemes]\n",
    "c2 = Counter(new_rhyme_schemes)\n",
    "l2 = list(c2.items())\n",
    "l2.sort(key = lambda x: x[1], reverse = True)\n",
    "df2 = pd.DataFrame(l2, columns = [\"scheme\", \"count\"])\n",
    "df2"
   ]
  },
  {
   "cell_type": "code",
   "execution_count": 26,
   "metadata": {
    "scrolled": true
   },
   "outputs": [
    {
     "data": {
      "text/html": [
       "<div>\n",
       "<style scoped>\n",
       "    .dataframe tbody tr th:only-of-type {\n",
       "        vertical-align: middle;\n",
       "    }\n",
       "\n",
       "    .dataframe tbody tr th {\n",
       "        vertical-align: top;\n",
       "    }\n",
       "\n",
       "    .dataframe thead th {\n",
       "        text-align: right;\n",
       "    }\n",
       "</style>\n",
       "<table border=\"1\" class=\"dataframe\">\n",
       "  <thead>\n",
       "    <tr style=\"text-align: right;\">\n",
       "      <th></th>\n",
       "      <th>scheme</th>\n",
       "      <th>count</th>\n",
       "    </tr>\n",
       "  </thead>\n",
       "  <tbody>\n",
       "    <tr>\n",
       "      <th>187</th>\n",
       "      <td>AABCDEFD</td>\n",
       "      <td>1</td>\n",
       "    </tr>\n",
       "    <tr>\n",
       "      <th>188</th>\n",
       "      <td>ABACBDCD</td>\n",
       "      <td>1</td>\n",
       "    </tr>\n",
       "    <tr>\n",
       "      <th>189</th>\n",
       "      <td>ABABBB</td>\n",
       "      <td>1</td>\n",
       "    </tr>\n",
       "    <tr>\n",
       "      <th>190</th>\n",
       "      <td>ABBBA</td>\n",
       "      <td>1</td>\n",
       "    </tr>\n",
       "    <tr>\n",
       "      <th>191</th>\n",
       "      <td>AABCCDDA</td>\n",
       "      <td>1</td>\n",
       "    </tr>\n",
       "    <tr>\n",
       "      <th>...</th>\n",
       "      <td>...</td>\n",
       "      <td>...</td>\n",
       "    </tr>\n",
       "    <tr>\n",
       "      <th>485</th>\n",
       "      <td>ABCDEFGHG</td>\n",
       "      <td>1</td>\n",
       "    </tr>\n",
       "    <tr>\n",
       "      <th>486</th>\n",
       "      <td>ABCDCEA</td>\n",
       "      <td>1</td>\n",
       "    </tr>\n",
       "    <tr>\n",
       "      <th>487</th>\n",
       "      <td>ABCDBEC</td>\n",
       "      <td>1</td>\n",
       "    </tr>\n",
       "    <tr>\n",
       "      <th>488</th>\n",
       "      <td>ABAAC</td>\n",
       "      <td>1</td>\n",
       "    </tr>\n",
       "    <tr>\n",
       "      <th>489</th>\n",
       "      <td>ABABCDEDC</td>\n",
       "      <td>1</td>\n",
       "    </tr>\n",
       "  </tbody>\n",
       "</table>\n",
       "<p>303 rows × 2 columns</p>\n",
       "</div>"
      ],
      "text/plain": [
       "        scheme  count\n",
       "187   AABCDEFD      1\n",
       "188   ABACBDCD      1\n",
       "189     ABABBB      1\n",
       "190      ABBBA      1\n",
       "191   AABCCDDA      1\n",
       "..         ...    ...\n",
       "485  ABCDEFGHG      1\n",
       "486    ABCDCEA      1\n",
       "487    ABCDBEC      1\n",
       "488      ABAAC      1\n",
       "489  ABABCDEDC      1\n",
       "\n",
       "[303 rows x 2 columns]"
      ]
     },
     "execution_count": 26,
     "metadata": {},
     "output_type": "execute_result"
    }
   ],
   "source": [
    "one_occurence = df2.loc[df2[\"count\"]==1]\n",
    "one_occurence"
   ]
  },
  {
   "cell_type": "markdown",
   "metadata": {},
   "source": [
    "## Create subset for inter-annotator agreement"
   ]
  },
  {
   "cell_type": "code",
   "execution_count": 96,
   "metadata": {
    "scrolled": true
   },
   "outputs": [
    {
     "name": "stdout",
     "output_type": "stream",
     "text": [
      "100\n"
     ]
    },
    {
     "name": "stderr",
     "output_type": "stream",
     "text": [
      "<ipython-input-96-be22ccc4725b>:3: SettingWithCopyWarning: \n",
      "A value is trying to be set on a copy of a slice from a DataFrame.\n",
      "Try using .loc[row_indexer,col_indexer] = value instead\n",
      "\n",
      "See the caveats in the documentation: https://pandas.pydata.org/pandas-docs/stable/user_guide/indexing.html#returning-a-view-versus-a-copy\n",
      "  top_ten[\"selection\"] = top_ten[\"count\"]/100*2.8\n",
      "<ipython-input-96-be22ccc4725b>:4: SettingWithCopyWarning: \n",
      "A value is trying to be set on a copy of a slice from a DataFrame.\n",
      "Try using .loc[row_indexer,col_indexer] = value instead\n",
      "\n",
      "See the caveats in the documentation: https://pandas.pydata.org/pandas-docs/stable/user_guide/indexing.html#returning-a-view-versus-a-copy\n",
      "  top_ten[\"selection\"] = top_ten[\"selection\"].apply(round)\n"
     ]
    },
    {
     "data": {
      "text/html": [
       "<div>\n",
       "<style scoped>\n",
       "    .dataframe tbody tr th:only-of-type {\n",
       "        vertical-align: middle;\n",
       "    }\n",
       "\n",
       "    .dataframe tbody tr th {\n",
       "        vertical-align: top;\n",
       "    }\n",
       "\n",
       "    .dataframe thead th {\n",
       "        text-align: right;\n",
       "    }\n",
       "</style>\n",
       "<table border=\"1\" class=\"dataframe\">\n",
       "  <thead>\n",
       "    <tr style=\"text-align: right;\">\n",
       "      <th></th>\n",
       "      <th>scheme</th>\n",
       "      <th>count</th>\n",
       "      <th>selection</th>\n",
       "    </tr>\n",
       "  </thead>\n",
       "  <tbody>\n",
       "    <tr>\n",
       "      <th>0</th>\n",
       "      <td>ABAB</td>\n",
       "      <td>1142</td>\n",
       "      <td>32</td>\n",
       "    </tr>\n",
       "    <tr>\n",
       "      <th>1</th>\n",
       "      <td>ABCB</td>\n",
       "      <td>749</td>\n",
       "      <td>21</td>\n",
       "    </tr>\n",
       "    <tr>\n",
       "      <th>2</th>\n",
       "      <td>AABB</td>\n",
       "      <td>611</td>\n",
       "      <td>17</td>\n",
       "    </tr>\n",
       "    <tr>\n",
       "      <th>3</th>\n",
       "      <td>AABCCB</td>\n",
       "      <td>360</td>\n",
       "      <td>10</td>\n",
       "    </tr>\n",
       "    <tr>\n",
       "      <th>4</th>\n",
       "      <td>ABBA</td>\n",
       "      <td>181</td>\n",
       "      <td>5</td>\n",
       "    </tr>\n",
       "    <tr>\n",
       "      <th>5</th>\n",
       "      <td>AABBCC</td>\n",
       "      <td>162</td>\n",
       "      <td>5</td>\n",
       "    </tr>\n",
       "    <tr>\n",
       "      <th>6</th>\n",
       "      <td>AAA</td>\n",
       "      <td>152</td>\n",
       "      <td>4</td>\n",
       "    </tr>\n",
       "    <tr>\n",
       "      <th>7</th>\n",
       "      <td>ABAAB</td>\n",
       "      <td>73</td>\n",
       "      <td>2</td>\n",
       "    </tr>\n",
       "    <tr>\n",
       "      <th>8</th>\n",
       "      <td>AABCBC</td>\n",
       "      <td>70</td>\n",
       "      <td>2</td>\n",
       "    </tr>\n",
       "    <tr>\n",
       "      <th>9</th>\n",
       "      <td>ABABCC</td>\n",
       "      <td>58</td>\n",
       "      <td>2</td>\n",
       "    </tr>\n",
       "  </tbody>\n",
       "</table>\n",
       "</div>"
      ],
      "text/plain": [
       "   scheme  count  selection\n",
       "0    ABAB   1142         32\n",
       "1    ABCB    749         21\n",
       "2    AABB    611         17\n",
       "3  AABCCB    360         10\n",
       "4    ABBA    181          5\n",
       "5  AABBCC    162          5\n",
       "6     AAA    152          4\n",
       "7   ABAAB     73          2\n",
       "8  AABCBC     70          2\n",
       "9  ABABCC     58          2"
      ]
     },
     "execution_count": 96,
     "metadata": {},
     "output_type": "execute_result"
    }
   ],
   "source": [
    "# Find how many stanzas from each rhyme scheme\n",
    "top_ten = df2[:10]\n",
    "top_ten[\"selection\"] = top_ten[\"count\"]/100*2.8\n",
    "top_ten[\"selection\"] = top_ten[\"selection\"].apply(round)\n",
    "print(sum(top_ten[\"selection\"]))\n",
    "top_ten"
   ]
  },
  {
   "cell_type": "code",
   "execution_count": 97,
   "metadata": {
    "scrolled": false
   },
   "outputs": [
    {
     "name": "stdout",
     "output_type": "stream",
     "text": [
      "32\n",
      "21\n",
      "17\n",
      "10\n",
      "5\n",
      "5\n",
      "4\n",
      "2\n",
      "2\n",
      "2\n"
     ]
    }
   ],
   "source": [
    "seed = 420\n",
    "\n",
    "subset = poem_df.loc[poem_df[\"rhyme scheme\"] == \"\"]\n",
    "\n",
    "for e in top_ten.itertuples():\n",
    "    _df = poem_df.loc[poem_df[\"rhyme scheme\"] == e.scheme]\n",
    "    selection = _df.sample(n=e.selection, random_state=seed)\n",
    "    print(len(selection))\n",
    "    subset = pd.concat((subset, selection))"
   ]
  },
  {
   "cell_type": "code",
   "execution_count": 98,
   "metadata": {
    "scrolled": true
   },
   "outputs": [
    {
     "data": {
      "text/html": [
       "<div>\n",
       "<style scoped>\n",
       "    .dataframe tbody tr th:only-of-type {\n",
       "        vertical-align: middle;\n",
       "    }\n",
       "\n",
       "    .dataframe tbody tr th {\n",
       "        vertical-align: top;\n",
       "    }\n",
       "\n",
       "    .dataframe thead th {\n",
       "        text-align: right;\n",
       "    }\n",
       "</style>\n",
       "<table border=\"1\" class=\"dataframe\">\n",
       "  <thead>\n",
       "    <tr style=\"text-align: right;\">\n",
       "      <th></th>\n",
       "      <th>rhyme scheme</th>\n",
       "      <th>stanza</th>\n",
       "      <th>filename</th>\n",
       "      <th>stanza number (in file)</th>\n",
       "    </tr>\n",
       "  </thead>\n",
       "  <tbody>\n",
       "    <tr>\n",
       "      <th>2249</th>\n",
       "      <td>ABAB</td>\n",
       "      <td>Å, så ramme også meg din vrede.\\nLa meg dø! Ta...</td>\n",
       "      <td>2011042608056_9_annotated.txt</td>\n",
       "      <td>12</td>\n",
       "    </tr>\n",
       "    <tr>\n",
       "      <th>4752</th>\n",
       "      <td>ABAB</td>\n",
       "      <td>I jubel flyr toget avsted.\\nSe grensen! En lin...</td>\n",
       "      <td>2011102708082_46_annotated.txt</td>\n",
       "      <td>1</td>\n",
       "    </tr>\n",
       "    <tr>\n",
       "      <th>2471</th>\n",
       "      <td>ABAB</td>\n",
       "      <td>Sangen har evighet, derfor den skyter\\nfortid ...</td>\n",
       "      <td>2006081000055_38_annotated.txt</td>\n",
       "      <td>1</td>\n",
       "    </tr>\n",
       "    <tr>\n",
       "      <th>3042</th>\n",
       "      <td>ABAB</td>\n",
       "      <td>Har jeg ikke sett dem de hellige trær\\nher i s...</td>\n",
       "      <td>2014102306006_38_annotated.txt</td>\n",
       "      <td>16</td>\n",
       "    </tr>\n",
       "    <tr>\n",
       "      <th>2138</th>\n",
       "      <td>ABAB</td>\n",
       "      <td>Jeg ser hans dag. Jeg ser ham komme,\\nden seir...</td>\n",
       "      <td>2011041408047_30_annotated.txt</td>\n",
       "      <td>19</td>\n",
       "    </tr>\n",
       "    <tr>\n",
       "      <th>...</th>\n",
       "      <td>...</td>\n",
       "      <td>...</td>\n",
       "      <td>...</td>\n",
       "      <td>...</td>\n",
       "    </tr>\n",
       "    <tr>\n",
       "      <th>1082</th>\n",
       "      <td>ABAAB</td>\n",
       "      <td>Dog — nå er hans time inne.\\nLyset er til jord...</td>\n",
       "      <td>2011041408091_22_annotated.txt</td>\n",
       "      <td>19</td>\n",
       "    </tr>\n",
       "    <tr>\n",
       "      <th>4064</th>\n",
       "      <td>AABCBC</td>\n",
       "      <td>Det har Paiulus ikke glemt.\\nDerfor er hans ne...</td>\n",
       "      <td>2011041408091_17_annotated.txt</td>\n",
       "      <td>24</td>\n",
       "    </tr>\n",
       "    <tr>\n",
       "      <th>4950</th>\n",
       "      <td>AABCBC</td>\n",
       "      <td>Så til Rom! Det er hans håb forvisst\\nalt tilt...</td>\n",
       "      <td>2011041408091_27_annotated.txt</td>\n",
       "      <td>29</td>\n",
       "    </tr>\n",
       "    <tr>\n",
       "      <th>4478</th>\n",
       "      <td>ABABCC</td>\n",
       "      <td>Uskyldig! Uskyldig! Jeg gjorde ille!\\nTa sølve...</td>\n",
       "      <td>2011042608056_38_annotated.txt</td>\n",
       "      <td>42</td>\n",
       "    </tr>\n",
       "    <tr>\n",
       "      <th>810</th>\n",
       "      <td>ABABCC</td>\n",
       "      <td>Vover han?\\nI selve templet?\\nAv de lærde er h...</td>\n",
       "      <td>2011042608056_32_annotated.txt</td>\n",
       "      <td>9</td>\n",
       "    </tr>\n",
       "  </tbody>\n",
       "</table>\n",
       "<p>100 rows × 4 columns</p>\n",
       "</div>"
      ],
      "text/plain": [
       "     rhyme scheme                                             stanza  \\\n",
       "2249         ABAB  Å, så ramme også meg din vrede.\\nLa meg dø! Ta...   \n",
       "4752         ABAB  I jubel flyr toget avsted.\\nSe grensen! En lin...   \n",
       "2471         ABAB  Sangen har evighet, derfor den skyter\\nfortid ...   \n",
       "3042         ABAB  Har jeg ikke sett dem de hellige trær\\nher i s...   \n",
       "2138         ABAB  Jeg ser hans dag. Jeg ser ham komme,\\nden seir...   \n",
       "...           ...                                                ...   \n",
       "1082        ABAAB  Dog — nå er hans time inne.\\nLyset er til jord...   \n",
       "4064       AABCBC  Det har Paiulus ikke glemt.\\nDerfor er hans ne...   \n",
       "4950       AABCBC  Så til Rom! Det er hans håb forvisst\\nalt tilt...   \n",
       "4478       ABABCC  Uskyldig! Uskyldig! Jeg gjorde ille!\\nTa sølve...   \n",
       "810        ABABCC  Vover han?\\nI selve templet?\\nAv de lærde er h...   \n",
       "\n",
       "                            filename  stanza number (in file)  \n",
       "2249   2011042608056_9_annotated.txt                       12  \n",
       "4752  2011102708082_46_annotated.txt                        1  \n",
       "2471  2006081000055_38_annotated.txt                        1  \n",
       "3042  2014102306006_38_annotated.txt                       16  \n",
       "2138  2011041408047_30_annotated.txt                       19  \n",
       "...                              ...                      ...  \n",
       "1082  2011041408091_22_annotated.txt                       19  \n",
       "4064  2011041408091_17_annotated.txt                       24  \n",
       "4950  2011041408091_27_annotated.txt                       29  \n",
       "4478  2011042608056_38_annotated.txt                       42  \n",
       "810   2011042608056_32_annotated.txt                        9  \n",
       "\n",
       "[100 rows x 4 columns]"
      ]
     },
     "execution_count": 98,
     "metadata": {},
     "output_type": "execute_result"
    }
   ],
   "source": [
    "subset"
   ]
  },
  {
   "cell_type": "code",
   "execution_count": 102,
   "metadata": {},
   "outputs": [],
   "source": [
    "subset_text = \"\\n\\n\".join(subset[\"stanza\"])\n",
    "with open(\"poem_subset\", \"w+\") as f:\n",
    "    f.write(subset_text)"
   ]
  },
  {
   "cell_type": "code",
   "execution_count": 101,
   "metadata": {},
   "outputs": [
    {
     "data": {
      "text/plain": [
       "'Å, så ramme også meg din vrede.\\nLa meg dø! Ta fra meg livets ve.\\nHvorfor skal jeg jordens grønnsvær trede,\\nhvorfor skal jeg solens stråler se?\\n\\nI jubel flyr toget avsted.\\nSe grensen! En linje av ild.\\nBak den er det gamle brendt ned.\\nBak den er det nye blitt til.\\n\\nSangen har evighet, derfor den skyter\\nfortid og fremtid i hop for ditt syn,\\ntenner uendelig attrå og flyter\\nbort i et lys-hav av lengsler og lyn.\\n\\nHar jeg ikke sett dem de hellige trær\\nher i sin jordiske velde\\nså vet jeg dog visst jeg skal finne dem der\\nhvor øks ingen eker kan felle!\\n\\nJeg ser hans dag. Jeg ser ham komme,\\nden seirens fyrste, stor og vis.\\nRettferdig er hans ferd, hans domme —\\nall jorden fylles av hans pris.\\n\\nNed i det er vi senket, og vi vet det så vel\\nat alt det der ute i drømmenes lande,\\nvåre huser, vår jord og de skinnende fjell,\\ndet er skygger som står mellom oss og det sande.\\n\\nEller vanens sløve makt\\nsom den beste vilje lammer?\\nMåler han den ringeakt\\nsom fra tusen øyner flammer?\\n\\nHan sådde frø hvis blomster kroner\\ntil denne dag hans sunkne grav.\\nHans harpes klang, hans sanger toner\\ni slektens bryst fra hav til hav.\\n\\nNo sitter han bøyd og er høyt bedaget\\nog kan sin ætt omkring arnen samle,\\nno sitter han ofte med sagn i laget\\nog korter tiden for unge og gamle.\\n\\nDe skjeldte videre på forbudstvangen,\\nsom skapte mordere av alle mann.\\nMan burde gripe radikalt til tangen\\nog trekke roten på den syke tann.\\n\\nMen hør! — hva er det som kan runge\\nmed malmens klang i granetopp?\\nDet er kapellets gamle tunge\\nsom, rørt av pilen, lukkes opp.\\n\\nOg år gikk hen.\\nHan ble en yngling sterk og fager,\\nog enkens sorg svant bort igjen —\\ntil takk seg vendte hennes klager.\\n\\nRegn, regn!\\nropte skog og mark,\\nregn, regn!\\nalt levende fra Noahs ark.\\n\\nReis derfor ingen tårne,\\nbygg ingen verdensby.\\nDe rette hus er bårne\\nav vind og hav og sky.\\n\\n«Hvem tør våge å va over?»\\nropte i sin vånde Knut;\\n«Den, som prøver det jeg lover\\nViumsåsens beste stut.»\\n\\nJeg stirrer på dette bilde\\nog hvisker til stenens ånd:\\nHolder jeg her en kilde\\ntil troen i min hånd?\\n\\nog som tross i alt som stengte\\nbrøt sin vei mot stjerneland!\\nFor å nøyes med å lengte\\ner det somme ikke kan.\\n\\nJeg ser deg stanse litt en gang iblandt\\nog rette ryggen, mens du ser i skyen:\\nDet regnet gjorde godt, ja det var sant!\\nNå har du glemt de lange, onde år i byen.\\n\\nJeg ser vår led en sommerkveld\\nmed grønt om li og daler,\\nnår solen i et blått pastell\\nsin midnattsfarve maler.\\n\\nÅ, de gjør presis det samme\\nDeres makt er like stor!\\nMose gud må stå til skamme,\\ndårer kun hans kunster tror.\\n\\nHer ligger det ennå det første kyss\\nog gløder i vårens luft,\\nog hjertene hamrer som ravet de nyss\\ni favntakets tunge duft.\\n\\nOveralt han har spioner —\\nkongen lytter, lurer, søker.\\nHatets heslige visjoner\\ni hans hjerne stadig spøker.\\n\\nSå jages de to fra sted til sted\\nrundt Lykaoniens bjergfaulle sletter,\\nog sår overalt den levende sæd,\\ni savn og i farer, dager og netter.\\n\\nMen ett er visst og kan ei glemmes\\ndu tidens barn, betenk det vel!\\nEn helligdom i sjelen gjemmes\\ndypt inne, som bak skog og fjell.\\n\\nAv det som du drømte er allting sant,\\nbåde livet og døden er mitt.\\nHvert eneste pust av den storm som svant\\nhar reist seg i mine skritt.\\n\\nDenne gang er saken klar,\\nsynderen er kjent og funnen,\\ndet er Nabot  åpenbar\\nblir hans skyld, nå straks på stunden.\\n\\nHva var det for en død som jeg der hadde sett\\ntriumfere over hele naturen?\\nDet grublet jeg på, mens jeg blunnede lett,\\ntil jeg vektes av et oterpip fra uren ...\\n\\njeg kjenner også vannene og fjordens mørke bunn;\\ni drømmene jeg går\\npå skyggeløse sletter, hvor livet er en blund\\nuten værlag eller år.\\n\\nOg jeg vidner, intet har jeg sparet;\\njeg er ren idag for alles blod.\\nAlt Guds råd jeg dere har forklaret,\\nfast i striden jeg for alle stod.\\n\\nI den falt gnisten av min moders lyse\\nog varme sjel; og ekteskapets lykke\\nble ei alene deres alders-smykke;\\nmen den vil lenge etter døden lyse.\\n\\nMens trett og uvant hun med barnet leser\\nog skriver store tall,\\nhun husker på at deigen står og eser,\\nog at hun snart igjen i fjøset skal.\\n\\nI fjellets ly der stein har mæle,\\nog dalen åpnes for ditt blikk,\\nder innbyr sagnet deg å dvele\\nog bringer deg den klare drikk.\\n\\nOg den må slite orntli\\nsom driver på akkord\\nog har som mål i livet\\nå kjøpe seg en Ford!\\n\\nGlorød går jordens akse rundt.\\nHvem stanser vanviddet? Vi vet\\nden hånd som griper, svies av.\\nDyrt koster nå rettferdighet.\\n\\nOg kongens styrke viker,\\nhans arm er matt og vek.\\nHans bryst er fylt av kvaler,\\nhans kinn av gråt er blek.\\n\\nOg bort fra det rasende folk han går\\nalene ved strandens siv,\\nder bøyer den sterke sitt ansikt mot jord\\nog kjemper for folkets liv.\\n\\nOg rundt om hviler egnen\\nså stille, så forlatt\\nsom under falkens rede\\ndet lydløse kratt.\\n\\nHans hjem er bjergenes huler,\\nrovdyrs og røveres bo —\\nHver dag bringer nye farer,\\nog natten har ingen ro.\\n\\nOg fugleskyen i lysets flod,\\nden dype stønning\\nom klippens fot\\nog strandens glassklare dønning\\n\\nEn fest er hver morgen som rinner,\\nog natten er sval og lind,\\nden vever de slumrende tanker\\ni drømmens féverden inn.\\n\\nDet skvetter med snevann og søle,\\nså kvinnene løfter på kjolen.\\nIdag er det sol over byen\\nog allting er nytt under solen!\\n\\nEvig står nå striden\\nom den usle grav\\nmellom minnets makter\\nog det mørke hav.\\n\\nLyset er tørst etter menneskenes sved,\\nrommet er sultent på skrik.\\nTalløse tunger roper på brød,\\nog havet roper på lik.\\n\\nFilisternes hær omringer mitt folk,\\nvi knuses av deres hender.\\nHva skal jeg dog gjøre? Forbarm deg! Tall\\nDu ene Guds veier kjenner.»\\n\\nMen midt i ære og lykke\\nei David glemmer sin Gud.\\nVed dag og ved natt han gransker\\nden Eviges vei og bud.\\n\\nHva nevnes dog den smerte,\\nden sorgens bitre rot,\\nsom røver ham hans krefter\\nog huler ut hans mot?\\n\\nHebreerne samles ved Sivhavets bredd,\\nen vrimmel av store og små,\\nav trekkdyr og kveg og gjeter og får\\nsom tygger det tørre strå.\\n\\nEn vestlands-gutt var han\\npå vel et snes år.\\nnå verden ham eier;\\nmen gutten var vår.\\n\\nVel klager det trette hjerte\\ni mismot så mangen gang,\\nti tiden så langsomt skrider,\\nog dyster blir strengenes klang.\\n\\nHan går hvor Herren kaller,\\nsinVei, sitt mål han vet.\\nHva enn vil skje, ham bærer\\nGuds sterke kjærlighet.\\n\\nHan vet ikke ennu på hvilken vis\\nde frelses, kun ett han vet:\\nat Israels folk skal synge Guds pris\\nfør neste dags sol går ned.\\n\\nSå kan vi slippe å tro på\\nat han som sitter i land\\nog kriger som ingen annen\\nskal være fremtidens mann.\\n\\nKong Saul går ut i den mørke natt,\\nhans drakt er smussig og slitt.\\nTo menn er med ham, de viser ham vei\\nog leder hans vaklende skritt.\\n\\nNå rekker atter den mot lyset opp\\nmed friske knopper i den myke topp:\\ndin kraft har rettet den, din troskaps kilde\\nhar mettet den inn i din aften silde.\\n\\nDa så han den unge rabbinernes sønn\\nen skikkelse, martret og blodig, men skjønn.\\nMed klarhet om pannen, skyldfri og fin,\\ni stenregnens gru, under hopens hvin.\\n\\nSå vet Elias. Milde ord\\nfor folket nå er gift og mord. \\nDen kjærlighet som her har verd,\\nei kjæle må, men bruke sverd.\\n\\nKjenner han det lette sinn,\\nflagrende som vær og vind?\\nKjenner han begjærets gift,\\nlidenskapens ville drift ?\\n\\nDet var en stille, solklar dag\\nmed skyfri luft og lerkeslag.\\nDa kimte det til pinsefest,\\nog templet bød hver mann til gjest.\\n\\nI deres sinn, av deres håp og kval,\\nhar hun fått reist sin drømte katedral.\\nVar deres hjerter utbrente og øde,\\nhar deres ansvar for et verk som døde.\\n\\nHva er hendt? Hva strengeklang?\\nHva er det for fest og sang?\\nEr det Herrens pris han hører,\\nstrenger man i seier rører?\\n\\nWessel og de norske gutter\\npå den lille sorte kutter\\nfikk den svenske flaggfregatt\\njaget over Kattegat.\\n\\nDen kom på ny til enkens gård.\\nDa grenseløs ble sorgen hård;\\ndet var som solen sank derinne\\nog aldri mere kunde rinne.\\n\\nHan prøvde å slite seg løs med et kast,\\nmen hånden i armen grep hårdere fast.\\nIgjen gikk hans øyne fra blomst til blomst.\\nSå sleptes han opp for å få sin bekomst.\\n\\nTil slutning svevde over vang\\nde klare kirkeklokkers klang,\\nog sølvet skalv i huldras sal\\nved dette bud fra Eivinds dal.\\n\\nUt jeg ruller mine hvite faner,\\ndypets dønninger til strid jeg maner,\\nskrider over dem med metktig brus\\nbedre kjent enn de i stormens hus!\\n\\nDere ham må følge, ikke jeg\\nskal være deres mester. Nei!\\nHan åndens kraft dere skjenke vil;\\nmin dåp er vann; men hans er ild.\\n\\nkun knivens snitt i sårets indre\\nkan dødens morderverk forhindre.\\nEi bønn, ei tårer den må røre\\nhvis hånd skal livets sonde føre.\\n\\nmen jeg vil tenne en hatets brann\\ni menneskers bryst fra land til land.\\nMed skanser og bommer hans vei jeg stenger,\\ngir tommevis tapt hvor frem han trenger;\\n\\nDu er den friske iling i\\nvårt trege vane-gjengeri.\\nDu er den salte hav-strøm som\\ni våre lumre fjorder kom.\\n\\nJeg går det imøte og atter engang\\nblir stien jeg går på forvandlet til sang.\\nOg atter må døden gi drømmene fri\\nog slippe meg frem til et hav bak en li.\\n\\nHer seilet Hans Egede ut fra sitt land\\ntil Bergen og så til den navngjetne strand\\nhvor Grønland av havet seg hever.\\nHer hviler de skyhøie fjellag i ro,\\nder vilde den djerve ved isbreen bo,\\nskjønt folket i snegammer lever !\\n\\nJa løsner så berget sitt vingede skred\\nog storflokken styrter fra fjellveggen ned\\nmed småbåter like innunder\\nMed englenes hærskarer liknes da må\\nde fjærede skarer som skygger det blå\\ndet talløse himlens vidunder !\\n\\nEller båter med lina mens leken går vill\\nsom slipper mot egga sin angel med sild\\nsom gluntene kveilet og egnet.\\nDen settes hvor juksa fikk rikeste napp\\nom fangsten vel ofte av hendene glapp\\nhvor meget man strevde og regnet\\n\\nVelkommen vår sommer bak ploger av gjess,\\nnår kua og smalen blir sloppet på gress\\nog bærer sin bjelle i fjellet !\\nSnart modnes vårt høy og vårt korn over strå\\nog bonden begynner å kvesse sin ljå\\nog slå over bakkehellet !\\n\\nDa samler og ofte om rorbuas bord\\nen høvedsmann hele sitt mannskap til kor\\nmed boken og hjemlige salmer.\\nDa stiger i sinnet en lengselens sang\\nfra landet hvis blomster er tare og tang\\ntil kyster med brusende palmer !\\n\\nTi jeg har svoret til mitt folk og sagt,\\njeg vil oprette det en evig pakt,\\nsom intet anslag i opløsning bringer.\\nTil landet hvor dets fedre først fant ro,\\ndit vil jeg føre det — og det skal bo\\ni fredens hegn og under Herrens vinger.\\n\\nHer ved den laurbæromkransede strøm\\ndrømte en yngling sin stolteste drøm:\\nAleksander den unge, susende ørn.\\nHer tendtes hans ånd, her vokste hans vinger,\\nher ble han den store verdensbetvinger,\\nher fulgte ham hjemlandets tapre børn.\\n\\nDa virkes ei bare med l1jåen på orv,\\nda kastes må også den myrvåte torv\\nav dammen med trenede armer.\\nMen stikkes og skjæres og raukes den må,\\nså såtes og lagres bak hus og i skjå,\\nfør antendt i ovnen den varmer!\\n\\nVel sitter her ennu en stund i vårt fjell\\nen gaule, en rødneset, høybenet kjell,\\nmens sæingen blir for bestandig.\\nMen ærfuglen, kjære hvem glemte vel den,\\nhvor fant du i havet en likere venn\\nså rent overmåte forstandig ?\\n\\nOg når solsommerkvelden har strøket sin rust\\npå skjæret og fjæren, da tar han sin pust\\nmed måsegg og mackøl og skiver.\\nSå koker han kaffen og skjøtter sin tarv\\nog nikker til lunden, til æfugl og skarv,\\nmens solen i havskorpen driver.\\n\\nOg mitt unge jomfrubryst\\nkunde nesten ikke bære\\ndenne gådefulle ære,\\ndenne sødmes himmellyst.\\n\\nOg deres gjerning krever billig bod.\\nSå slippes koblet løs, og byttet jages,\\nfra hjem og arne menn og kvinner drages.\\nOg Rom blir drukken av de kristnes blod.\\n\\nOg Nabots vakre have\\nfor ham lå\\nså trist og grå\\nmed lukt av lik og grave.\\n\\nEr han ei lenger den armes beskytter,\\nharmes han ei over urett og svik?\\nRører ham ikke de sukke og skrik\\nsom stiger mot himlen fra fattige hytter?\\n\\nOver støvets lave bo\\nhimlens stjerner rolig smiler;\\njordens barn på leiet hviler,\\ntrette træl har funnet ro.\\n\\n«Din fagre bygd er sovnet inn,\\ndet ligger lik bak bjørk og lind;\\nmen huldra drikker livets vell,\\nsom risler gjennom sølv i fjell.\\nHun visner ei som dalens mø,\\nhun kan ei sykne, kan ei dø.\\n\\nMen ved arnens matte flammer\\nsitter i det stille kammer\\nén av dem og ydmykt grunder\\npå det gåtefulle under,\\nsom lå skjult i barnets tale,\\nsom den lød i templets sale.\\n\\nTa den vekk,\\ndenne maske med tusen trekk\\nHvor er forhenget for denne scene,\\nog hvorfor sitter jeg her alene\\nmed dette mareritt tre skritt fra meg i det tomme,\\naldri begynt og aldri omme.\\n\\nI Efesus han står som hjordens vakt,\\nmen kuet under hedenskapets makt.\\nAv tidens tåker lett hans øye hildes,\\nav løgnens skrik hans hjerte lett forvilles.\\nSå skriver Paulus. Sterke, ømme ord;\\nsom far til elsket sønn, som bror til bror.\\n\\nHan bønfalt på ny, mere sterkt enn før.\\nMen himlen var klar, og luften tørr.\\nOg om igjen bad han, på ny og på ny.\\nEndelig steg der av havet en sky.\\nDa reiste han seg — Gud hørte hans bønn.\\nFor år i kval denne sky var lønn.\\n\\nOg alle tider går oss flimrende forbi\\nfra før vår klode hadde vei og sti.\\nSå rikt et eventyr kan filmen gi!\\n\\nGi meg de brennende hjerter, som aldri gir tapt for tvil,\\nsom aldri kan kues av mismot og trues av sorger til hvil,\\nmen møter hver seier, hvert nederlag med det samme usårlige smil.\\n\\nGudssønnen sukker på korset: Se dette lam,\\nslik skal du bære din lidelse, bære din synd og skam.\\nRiv ham fra korset! Vi vil ikke lide for ham!\\n\\nGi meg de kolde og kloke, men kjenner min virkelighet.\\nBedre enn mange som sier de tror, trenger jeg noen som vet.\\nIntet er mere som skrift i sand enn løfter om kjærlighet.\\n\\nI krematoriet vil min hvite ild\\ntilslutt,\\nnår hjertet flammer i det siste spill,\\nforkynne stolt for den som lytter til:\\nJeg var en gategutt.\\n\\nDog — nå er hans time inne.\\nLyset er til jorden sendt,\\nalle folk skal veien finne,\\ningen famle skal i blinde\\nlivets morgenglans er tent.\\n\\nDet har Paiulus ikke glemt.\\nDerfor er hans nei bestemt.\\nDen som kjempe skal mot løver,\\nmå ei skjelve for en skygge.\\nÅndens rankhet den behøver\\nsom skal åndens tempel bygge.\\n\\nSå til Rom! Det er hans håb forvisst\\nalt tiltross, å nå sitt mål til sist.\\nAlt er ferdig. Ved den nære strand\\nseilklart ligger skipet som skal bære\\nPaulus over havets bølgehære\\nmot det første av hans lengslers land.\\n\\nUskyldig! Uskyldig! Jeg gjorde ille!\\nTa sølvet, prestert Øk deres skatter!\\nO helveds pine det er forsilde !\\nDet hvisler omkring ham som djevlers latter\\n— Da solen tok jorden ved gry i favn,\\nlå Judas som åtsel for gribb og ravn.\\n\\nVover han?\\nI selve templet?\\nAv de lærde er han\\nsom ens Vert mer stemplet.\\nSe, han taler fritt,\\nsom han gjorde før så titt !'"
      ]
     },
     "execution_count": 101,
     "metadata": {},
     "output_type": "execute_result"
    }
   ],
   "source": []
  },
  {
   "cell_type": "markdown",
   "metadata": {},
   "source": [
    "##  Number of possible unique rhyme pairs"
   ]
  },
  {
   "cell_type": "code",
   "execution_count": 28,
   "metadata": {},
   "outputs": [
    {
     "data": {
      "text/plain": [
       "12631.0"
      ]
     },
     "execution_count": 28,
     "metadata": {},
     "output_type": "execute_result"
    }
   ],
   "source": [
    "def no_rhyme(scheme):\n",
    "    return len(scheme) == len(set(scheme))\n",
    "\n",
    "def get_edges(vertices):\n",
    "    return (vertices*(vertices-1))/2\n",
    "\n",
    "tot_word_pairs = 0\n",
    "for scheme, count in l2:\n",
    "    c = Counter(scheme)\n",
    "    tot_word_pairs += sum(get_edges(v) for v in c.values())*count\n",
    "    \n",
    "tot_word_pairs"
   ]
  },
  {
   "cell_type": "markdown",
   "metadata": {},
   "source": [
    "## Count unique line ending words"
   ]
  },
  {
   "cell_type": "code",
   "execution_count": 13,
   "metadata": {},
   "outputs": [],
   "source": [
    "def get_line_ending_words(pathlib_file):\n",
    "    # TODO: USE TOKENIZER\n",
    "    stanzas = pathlib_file.read_text().split(\"\\n\\n\")[:-1]\n",
    "    #schemes = [stanza.split(\"\\n\")[0] for stanza in stanzas]\n",
    "    line_ending_words = [line.split(\" \")[-1] for stanza in stanzas for line in stanza.split(\"\\n\")[1:]] \n",
    "    return line_ending_words\n",
    "    #flatten_matrix = [val for sublist in matrix for val in sublist]\n",
    "\n",
    "line_ending_words = []    \n",
    "    \n",
    "for e in dst.iterdir():\n",
    "    line_ending_words += get_line_ending_words(e)"
   ]
  },
  {
   "cell_type": "code",
   "execution_count": 204,
   "metadata": {},
   "outputs": [
    {
     "data": {
      "text/plain": [
       "(26198, 12524)"
      ]
     },
     "execution_count": 204,
     "metadata": {},
     "output_type": "execute_result"
    }
   ],
   "source": [
    "len(line_ending_words), len(set(line_ending_words))"
   ]
  }
 ],
 "metadata": {
  "kernelspec": {
   "display_name": "Python 3",
   "language": "python",
   "name": "python3"
  },
  "language_info": {
   "codemirror_mode": {
    "name": "ipython",
    "version": 3
   },
   "file_extension": ".py",
   "mimetype": "text/x-python",
   "name": "python",
   "nbconvert_exporter": "python",
   "pygments_lexer": "ipython3",
   "version": "3.8.10"
  }
 },
 "nbformat": 4,
 "nbformat_minor": 4
}
