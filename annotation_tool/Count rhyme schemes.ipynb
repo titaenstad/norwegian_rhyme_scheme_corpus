{
 "cells": [
  {
   "cell_type": "markdown",
   "metadata": {},
   "source": [
    "## Measure progress during annotation"
   ]
  },
  {
   "cell_type": "code",
   "execution_count": 36,
   "metadata": {},
   "outputs": [
    {
     "name": "stdout",
     "output_type": "stream",
     "text": [
      "Annotated 508 of 508, aka 100.0%\n"
     ]
    }
   ],
   "source": [
    "from pathlib import Path\n",
    "\n",
    "sc = Path(\"poems/bokmål\")\n",
    "dst = Path(\"tita\")\n",
    "\n",
    "tot = len(list(sc.iterdir()))\n",
    "done = len(list(dst.iterdir()))\n",
    "\n",
    "print(f\"Annotated {done} of {tot}, aka {(done/tot)*100}%\")"
   ]
  },
  {
   "cell_type": "markdown",
   "metadata": {},
   "source": [
    "## Compare source and annotation\n",
    "I made some mistakes during substitution of danish words, script to check/repair"
   ]
  },
  {
   "cell_type": "code",
   "execution_count": 29,
   "metadata": {
    "scrolled": true
   },
   "outputs": [],
   "source": [
    "# from pathlib import Path\n",
    "\n",
    "# sc = Path(\"poems/bokmål\")\n",
    "# dst = Path(\"tita\")\n",
    "\n",
    "\n",
    "# sc_list = sorted(sc.iterdir(), key = lambda x: x.name[:-4])\n",
    "# dst_list = sorted(dst.iterdir(), key = lambda x: x.name[:-14])\n",
    "\n",
    "\n",
    "# for sc_file, dst_file in zip(sc_list, dst_list):\n",
    "#     sc_stanzas = sc_file.read_text().split(\"\\n\\n\")\n",
    "#     dst_stanzas = dst_file.read_text().split(\"\\n\\n\")\n",
    "#     for sc_s, dst_s in zip(sc_stanzas, dst_stanzas):\n",
    "#         dst_lines = dst_s.split(\"\\n\")\n",
    "#         rhyme_code = dst_lines[0]\n",
    "#         dst_lines = dst_lines[1:]\n",
    "#         sc_lines = sc_s.split(\"\\n\")[:-1]\n",
    "\n",
    "#         for i, (l1, l2) in enumerate(zip(sc_lines, dst_lines)):\n",
    "#             if l1 != l2:\n",
    "#                 print(f\"{l1}\\n{l2}\\n\\n\")\n"
   ]
  },
  {
   "cell_type": "markdown",
   "metadata": {},
   "source": [
    "## Count stanzas and lines"
   ]
  },
  {
   "cell_type": "code",
   "execution_count": 5,
   "metadata": {},
   "outputs": [],
   "source": [
    "from pathlib import Path\n",
    "\n",
    "dst = Path(\"tita\")\n",
    "\n",
    "poems = len(list(dst.iterdir()))\n",
    "\n",
    "stanzas = 0\n",
    "lines = 0\n",
    "for e in dst.iterdir():\n",
    "    st = e.read_text().split(\"\\n\\n\")[:-1]\n",
    "    stanzas += len(st)\n",
    "    for s in st:\n",
    "        #-1 because the first line is the rhyme code\n",
    "        lines += (len(s.split(\"\\n\"))-1)    \n"
   ]
  },
  {
   "cell_type": "code",
   "execution_count": 7,
   "metadata": {
    "scrolled": true
   },
   "outputs": [
    {
     "data": {
      "text/plain": [
       "(5158, 26198, 508)"
      ]
     },
     "execution_count": 7,
     "metadata": {},
     "output_type": "execute_result"
    }
   ],
   "source": [
    "stanzas, lines, poems"
   ]
  },
  {
   "cell_type": "code",
   "execution_count": 51,
   "metadata": {},
   "outputs": [],
   "source": [
    "from pathlib import Path\n",
    "import pandas as pd\n",
    "\n",
    "codes = []\n",
    "stanzas = []\n",
    "\n",
    "for e in dst.iterdir():\n",
    "    if e.suffix == \".txt\":\n",
    "        st = e.read_text().split(\"\\n\\n\")[:-1]\n",
    "        for s in st:\n",
    "            #-1 because the first line is the rhyme code\n",
    "            lines = s.split(\"\\n\")\n",
    "            codes.append(lines[0])\n",
    "            stanzas.append(\"\\n\".join(lines[1:]))\n",
    "\n",
    "\n",
    "poem_df = pd.DataFrame({\"rhyme scheme\":codes, \"stanza\": stanzas})\n",
    "poem_df.to_csv(f\"tsvs/{dst.name}_rhymes_poems.tsv\", sep=\"\\t\", index=False)"
   ]
  },
  {
   "cell_type": "code",
   "execution_count": 52,
   "metadata": {},
   "outputs": [
    {
     "data": {
      "text/html": [
       "<div>\n",
       "<style scoped>\n",
       "    .dataframe tbody tr th:only-of-type {\n",
       "        vertical-align: middle;\n",
       "    }\n",
       "\n",
       "    .dataframe tbody tr th {\n",
       "        vertical-align: top;\n",
       "    }\n",
       "\n",
       "    .dataframe thead th {\n",
       "        text-align: right;\n",
       "    }\n",
       "</style>\n",
       "<table border=\"1\" class=\"dataframe\">\n",
       "  <thead>\n",
       "    <tr style=\"text-align: right;\">\n",
       "      <th></th>\n",
       "      <th>rhyme scheme</th>\n",
       "      <th>stanza</th>\n",
       "    </tr>\n",
       "  </thead>\n",
       "  <tbody>\n",
       "    <tr>\n",
       "      <th>0</th>\n",
       "      <td>AABCCBI</td>\n",
       "      <td>Gud, la oss i din kunnskap fremmes,\\nså det vi...</td>\n",
       "    </tr>\n",
       "    <tr>\n",
       "      <th>1</th>\n",
       "      <td>TAABCCB</td>\n",
       "      <td>ANNEN SANG\\nFra Landego seiles mot Skrova i no...</td>\n",
       "    </tr>\n",
       "    <tr>\n",
       "      <th>2</th>\n",
       "      <td>AABCCB</td>\n",
       "      <td>Og er det en høstkveld når mørket står på\\nså ...</td>\n",
       "    </tr>\n",
       "    <tr>\n",
       "      <th>3</th>\n",
       "      <td>AABCCB</td>\n",
       "      <td>Snart ligger og kaien der dyngvåt av regn,\\nog...</td>\n",
       "    </tr>\n",
       "    <tr>\n",
       "      <th>4</th>\n",
       "      <td>AABCCB</td>\n",
       "      <td>Og rett bort i øst ligger Svinøya gård\\nhvor B...</td>\n",
       "    </tr>\n",
       "    <tr>\n",
       "      <th>...</th>\n",
       "      <td>...</td>\n",
       "      <td>...</td>\n",
       "    </tr>\n",
       "    <tr>\n",
       "      <th>5153</th>\n",
       "      <td>AABB</td>\n",
       "      <td>Lukket! Lukket! Øde veier! Gledens vinger brut...</td>\n",
       "    </tr>\n",
       "    <tr>\n",
       "      <th>5154</th>\n",
       "      <td>AABB</td>\n",
       "      <td>Og nå stod han her som fremmed i et fremmed la...</td>\n",
       "    </tr>\n",
       "    <tr>\n",
       "      <th>5155</th>\n",
       "      <td>AABB</td>\n",
       "      <td>Opp av havets blanke bølger, som en vårfrisk m...</td>\n",
       "    </tr>\n",
       "    <tr>\n",
       "      <th>5156</th>\n",
       "      <td>AABB</td>\n",
       "      <td>Til Europa! Tanken slår ham plutselig som lyn,...</td>\n",
       "    </tr>\n",
       "    <tr>\n",
       "      <th>5157</th>\n",
       "      <td>AABB</td>\n",
       "      <td>Ei han nøler med å følge veiens nye spor.\\nI d...</td>\n",
       "    </tr>\n",
       "  </tbody>\n",
       "</table>\n",
       "<p>5158 rows × 2 columns</p>\n",
       "</div>"
      ],
      "text/plain": [
       "     rhyme scheme                                             stanza\n",
       "0         AABCCBI  Gud, la oss i din kunnskap fremmes,\\nså det vi...\n",
       "1         TAABCCB  ANNEN SANG\\nFra Landego seiles mot Skrova i no...\n",
       "2          AABCCB  Og er det en høstkveld når mørket står på\\nså ...\n",
       "3          AABCCB  Snart ligger og kaien der dyngvåt av regn,\\nog...\n",
       "4          AABCCB  Og rett bort i øst ligger Svinøya gård\\nhvor B...\n",
       "...           ...                                                ...\n",
       "5153         AABB  Lukket! Lukket! Øde veier! Gledens vinger brut...\n",
       "5154         AABB  Og nå stod han her som fremmed i et fremmed la...\n",
       "5155         AABB  Opp av havets blanke bølger, som en vårfrisk m...\n",
       "5156         AABB  Til Europa! Tanken slår ham plutselig som lyn,...\n",
       "5157         AABB  Ei han nøler med å følge veiens nye spor.\\nI d...\n",
       "\n",
       "[5158 rows x 2 columns]"
      ]
     },
     "execution_count": 52,
     "metadata": {},
     "output_type": "execute_result"
    }
   ],
   "source": [
    "poem_df = pd.read_csv(f\"tsvs/{dst.name}_rhymes_poems.tsv\", sep=\"\\t\")\n",
    "poem_df"
   ]
  },
  {
   "cell_type": "markdown",
   "metadata": {},
   "source": [
    "## Count rhyme schemes"
   ]
  },
  {
   "cell_type": "code",
   "execution_count": 12,
   "metadata": {},
   "outputs": [],
   "source": [
    "import string \n",
    "\n",
    "letters = \"---\"+string.ascii_uppercase.replace(\"T\", \"\").replace(\"I\",\"\").replace(\"N\",\"\")\n",
    "\n",
    "def scheme_to_numeric(scheme):\n",
    "    scheme = scheme.replace(\"T\", \"0\")\n",
    "    scheme = scheme.replace(\"I\", \"1\")\n",
    "    scheme = scheme.replace(\"N\", \"2\")\n",
    "    unique_chars = sorted(list(set(scheme) - {\"0\", \"1\", \"2\"}))\n",
    "    scheme = \"-\".join(scheme)\n",
    "    for i, c in enumerate(unique_chars, start=3):\n",
    "        scheme = scheme.replace(c, str(i))\n",
    "    return scheme\n",
    "\n",
    "def numeric_to_scheme(scheme):\n",
    "    unique_chars = sorted(list(set(scheme.split(\"-\")) - {\"0\", \"1\", \"2\"}))\n",
    "    for i, c in enumerate(unique_chars, start=3):\n",
    "        scheme = scheme.replace(c, letters[i])\n",
    "    scheme = scheme.replace(\"-\", \"\")\n",
    "    scheme = scheme.replace(\"0\", \"T\")\n",
    "    scheme = scheme.replace(\"1\", \"I\")\n",
    "    scheme = scheme.replace(\"2\", \"N\")\n",
    "    return scheme\n",
    "\n",
    "def clean_scheme(scheme):\n",
    "    scheme = scheme_to_numeric(scheme)\n",
    "    scheme = numeric_to_scheme(scheme)\n",
    "    return scheme"
   ]
  },
  {
   "cell_type": "code",
   "execution_count": 43,
   "metadata": {
    "scrolled": true
   },
   "outputs": [
    {
     "name": "stdout",
     "output_type": "stream",
     "text": [
      "Schemes with title: 349\n",
      "schemes with info: 80\n",
      "schemes with noise: 2\n"
     ]
    },
    {
     "data": {
      "text/html": [
       "<div>\n",
       "<style scoped>\n",
       "    .dataframe tbody tr th:only-of-type {\n",
       "        vertical-align: middle;\n",
       "    }\n",
       "\n",
       "    .dataframe tbody tr th {\n",
       "        vertical-align: top;\n",
       "    }\n",
       "\n",
       "    .dataframe thead th {\n",
       "        text-align: right;\n",
       "    }\n",
       "</style>\n",
       "<table border=\"1\" class=\"dataframe\">\n",
       "  <thead>\n",
       "    <tr style=\"text-align: right;\">\n",
       "      <th></th>\n",
       "      <th>scheme</th>\n",
       "      <th>count</th>\n",
       "    </tr>\n",
       "  </thead>\n",
       "  <tbody>\n",
       "    <tr>\n",
       "      <th>0</th>\n",
       "      <td>ABAB</td>\n",
       "      <td>1059</td>\n",
       "    </tr>\n",
       "    <tr>\n",
       "      <th>1</th>\n",
       "      <td>ABCB</td>\n",
       "      <td>699</td>\n",
       "    </tr>\n",
       "    <tr>\n",
       "      <th>2</th>\n",
       "      <td>AABB</td>\n",
       "      <td>571</td>\n",
       "    </tr>\n",
       "    <tr>\n",
       "      <th>3</th>\n",
       "      <td>AABCCB</td>\n",
       "      <td>336</td>\n",
       "    </tr>\n",
       "    <tr>\n",
       "      <th>4</th>\n",
       "      <td>ABBA</td>\n",
       "      <td>170</td>\n",
       "    </tr>\n",
       "    <tr>\n",
       "      <th>...</th>\n",
       "      <td>...</td>\n",
       "      <td>...</td>\n",
       "    </tr>\n",
       "    <tr>\n",
       "      <th>594</th>\n",
       "      <td>ABCDBEC</td>\n",
       "      <td>1</td>\n",
       "    </tr>\n",
       "    <tr>\n",
       "      <th>595</th>\n",
       "      <td>ABAAC</td>\n",
       "      <td>1</td>\n",
       "    </tr>\n",
       "    <tr>\n",
       "      <th>596</th>\n",
       "      <td>TABBACC</td>\n",
       "      <td>1</td>\n",
       "    </tr>\n",
       "    <tr>\n",
       "      <th>597</th>\n",
       "      <td>TIABAC</td>\n",
       "      <td>1</td>\n",
       "    </tr>\n",
       "    <tr>\n",
       "      <th>598</th>\n",
       "      <td>ABABCDEDC</td>\n",
       "      <td>1</td>\n",
       "    </tr>\n",
       "  </tbody>\n",
       "</table>\n",
       "<p>599 rows × 2 columns</p>\n",
       "</div>"
      ],
      "text/plain": [
       "        scheme  count\n",
       "0         ABAB   1059\n",
       "1         ABCB    699\n",
       "2         AABB    571\n",
       "3       AABCCB    336\n",
       "4         ABBA    170\n",
       "..         ...    ...\n",
       "594    ABCDBEC      1\n",
       "595      ABAAC      1\n",
       "596    TABBACC      1\n",
       "597     TIABAC      1\n",
       "598  ABABCDEDC      1\n",
       "\n",
       "[599 rows x 2 columns]"
      ]
     },
     "execution_count": 43,
     "metadata": {},
     "output_type": "execute_result"
    }
   ],
   "source": [
    "from pathlib import Path\n",
    "from collections import Counter\n",
    "import pandas as pd\n",
    "\n",
    "dst = Path(\"tita\")\n",
    "\n",
    "rhyme_schemes = [clean_scheme(scheme) for scheme in poem_df[\"rhyme scheme\"]]\n",
    "\n",
    "c = Counter(rhyme_schemes)\n",
    "l = list(c.items())\n",
    "l.sort(key = lambda x: x[1], reverse = True)\n",
    "\n",
    "title_schemes = [s for s in rhyme_schemes if \"T\" in s]\n",
    "info_schemes = [s for s in rhyme_schemes if \"I\" in s]\n",
    "noise_schemes = [s for s in rhyme_schemes if \"N\" in s]\n",
    "\n",
    "print(f\"Schemes with title: {len(title_schemes)}\\nschemes with info: {len(info_schemes)}\\nschemes with noise: {len(noise_schemes)}\")\n",
    "df = pd.DataFrame(l, columns = [\"scheme\", \"count\"])\n",
    "df"
   ]
  },
  {
   "cell_type": "markdown",
   "metadata": {},
   "source": [
    "## Remove title, info and noise code for rhyme scheme statistics"
   ]
  },
  {
   "cell_type": "code",
   "execution_count": 44,
   "metadata": {},
   "outputs": [
    {
     "data": {
      "text/html": [
       "<div>\n",
       "<style scoped>\n",
       "    .dataframe tbody tr th:only-of-type {\n",
       "        vertical-align: middle;\n",
       "    }\n",
       "\n",
       "    .dataframe tbody tr th {\n",
       "        vertical-align: top;\n",
       "    }\n",
       "\n",
       "    .dataframe thead th {\n",
       "        text-align: right;\n",
       "    }\n",
       "</style>\n",
       "<table border=\"1\" class=\"dataframe\">\n",
       "  <thead>\n",
       "    <tr style=\"text-align: right;\">\n",
       "      <th></th>\n",
       "      <th>scheme</th>\n",
       "      <th>count</th>\n",
       "    </tr>\n",
       "  </thead>\n",
       "  <tbody>\n",
       "    <tr>\n",
       "      <th>0</th>\n",
       "      <td>ABAB</td>\n",
       "      <td>1142</td>\n",
       "    </tr>\n",
       "    <tr>\n",
       "      <th>1</th>\n",
       "      <td>ABCB</td>\n",
       "      <td>749</td>\n",
       "    </tr>\n",
       "    <tr>\n",
       "      <th>2</th>\n",
       "      <td>AABB</td>\n",
       "      <td>611</td>\n",
       "    </tr>\n",
       "    <tr>\n",
       "      <th>3</th>\n",
       "      <td>AABCCB</td>\n",
       "      <td>360</td>\n",
       "    </tr>\n",
       "    <tr>\n",
       "      <th>4</th>\n",
       "      <td>ABBA</td>\n",
       "      <td>181</td>\n",
       "    </tr>\n",
       "    <tr>\n",
       "      <th>...</th>\n",
       "      <td>...</td>\n",
       "      <td>...</td>\n",
       "    </tr>\n",
       "    <tr>\n",
       "      <th>486</th>\n",
       "      <td>BCDEFGHAH</td>\n",
       "      <td>1</td>\n",
       "    </tr>\n",
       "    <tr>\n",
       "      <th>487</th>\n",
       "      <td>ABCDCEA</td>\n",
       "      <td>1</td>\n",
       "    </tr>\n",
       "    <tr>\n",
       "      <th>488</th>\n",
       "      <td>ABCDBEC</td>\n",
       "      <td>1</td>\n",
       "    </tr>\n",
       "    <tr>\n",
       "      <th>489</th>\n",
       "      <td>ABAAC</td>\n",
       "      <td>1</td>\n",
       "    </tr>\n",
       "    <tr>\n",
       "      <th>490</th>\n",
       "      <td>ABABCDEDC</td>\n",
       "      <td>1</td>\n",
       "    </tr>\n",
       "  </tbody>\n",
       "</table>\n",
       "<p>491 rows × 2 columns</p>\n",
       "</div>"
      ],
      "text/plain": [
       "        scheme  count\n",
       "0         ABAB   1142\n",
       "1         ABCB    749\n",
       "2         AABB    611\n",
       "3       AABCCB    360\n",
       "4         ABBA    181\n",
       "..         ...    ...\n",
       "486  BCDEFGHAH      1\n",
       "487    ABCDCEA      1\n",
       "488    ABCDBEC      1\n",
       "489      ABAAC      1\n",
       "490  ABABCDEDC      1\n",
       "\n",
       "[491 rows x 2 columns]"
      ]
     },
     "execution_count": 44,
     "metadata": {},
     "output_type": "execute_result"
    }
   ],
   "source": [
    "new_rhyme_schemes = [scheme.replace(\"T\", \"\").replace(\"I\", \"\").replace(\"N\", \"\") for scheme in rhyme_schemes]\n",
    "c2 = Counter(new_rhyme_schemes)\n",
    "l2 = list(c2.items())\n",
    "l2.sort(key = lambda x: x[1], reverse = True)\n",
    "df2 = pd.DataFrame(l2, columns = [\"scheme\", \"count\"])\n",
    "df2"
   ]
  },
  {
   "cell_type": "code",
   "execution_count": 45,
   "metadata": {
    "scrolled": true
   },
   "outputs": [
    {
     "data": {
      "text/html": [
       "<div>\n",
       "<style scoped>\n",
       "    .dataframe tbody tr th:only-of-type {\n",
       "        vertical-align: middle;\n",
       "    }\n",
       "\n",
       "    .dataframe tbody tr th {\n",
       "        vertical-align: top;\n",
       "    }\n",
       "\n",
       "    .dataframe thead th {\n",
       "        text-align: right;\n",
       "    }\n",
       "</style>\n",
       "<table border=\"1\" class=\"dataframe\">\n",
       "  <thead>\n",
       "    <tr style=\"text-align: right;\">\n",
       "      <th></th>\n",
       "      <th>scheme</th>\n",
       "      <th>count</th>\n",
       "    </tr>\n",
       "  </thead>\n",
       "  <tbody>\n",
       "    <tr>\n",
       "      <th>187</th>\n",
       "      <td>AABCDEFD</td>\n",
       "      <td>1</td>\n",
       "    </tr>\n",
       "    <tr>\n",
       "      <th>188</th>\n",
       "      <td>ABACBDCD</td>\n",
       "      <td>1</td>\n",
       "    </tr>\n",
       "    <tr>\n",
       "      <th>189</th>\n",
       "      <td>ABABBB</td>\n",
       "      <td>1</td>\n",
       "    </tr>\n",
       "    <tr>\n",
       "      <th>190</th>\n",
       "      <td>ABBBA</td>\n",
       "      <td>1</td>\n",
       "    </tr>\n",
       "    <tr>\n",
       "      <th>191</th>\n",
       "      <td>AABCCDDA</td>\n",
       "      <td>1</td>\n",
       "    </tr>\n",
       "    <tr>\n",
       "      <th>...</th>\n",
       "      <td>...</td>\n",
       "      <td>...</td>\n",
       "    </tr>\n",
       "    <tr>\n",
       "      <th>486</th>\n",
       "      <td>BCDEFGHAH</td>\n",
       "      <td>1</td>\n",
       "    </tr>\n",
       "    <tr>\n",
       "      <th>487</th>\n",
       "      <td>ABCDCEA</td>\n",
       "      <td>1</td>\n",
       "    </tr>\n",
       "    <tr>\n",
       "      <th>488</th>\n",
       "      <td>ABCDBEC</td>\n",
       "      <td>1</td>\n",
       "    </tr>\n",
       "    <tr>\n",
       "      <th>489</th>\n",
       "      <td>ABAAC</td>\n",
       "      <td>1</td>\n",
       "    </tr>\n",
       "    <tr>\n",
       "      <th>490</th>\n",
       "      <td>ABABCDEDC</td>\n",
       "      <td>1</td>\n",
       "    </tr>\n",
       "  </tbody>\n",
       "</table>\n",
       "<p>304 rows × 2 columns</p>\n",
       "</div>"
      ],
      "text/plain": [
       "        scheme  count\n",
       "187   AABCDEFD      1\n",
       "188   ABACBDCD      1\n",
       "189     ABABBB      1\n",
       "190      ABBBA      1\n",
       "191   AABCCDDA      1\n",
       "..         ...    ...\n",
       "486  BCDEFGHAH      1\n",
       "487    ABCDCEA      1\n",
       "488    ABCDBEC      1\n",
       "489      ABAAC      1\n",
       "490  ABABCDEDC      1\n",
       "\n",
       "[304 rows x 2 columns]"
      ]
     },
     "execution_count": 45,
     "metadata": {},
     "output_type": "execute_result"
    }
   ],
   "source": [
    "one_occurence = df2.loc[df2[\"count\"]==1]\n",
    "one_occurence"
   ]
  },
  {
   "cell_type": "markdown",
   "metadata": {},
   "source": [
    "##  Number of possible unique rhyme pairs"
   ]
  },
  {
   "cell_type": "code",
   "execution_count": 28,
   "metadata": {},
   "outputs": [
    {
     "data": {
      "text/plain": [
       "12627.0"
      ]
     },
     "execution_count": 28,
     "metadata": {},
     "output_type": "execute_result"
    }
   ],
   "source": [
    "def no_rhyme(scheme):\n",
    "    return len(scheme) == len(set(scheme))\n",
    "\n",
    "def get_edges(vertices):\n",
    "    return (vertices*(vertices-1))/2\n",
    "\n",
    "tot_word_pairs = 0\n",
    "for scheme, count in l2:\n",
    "    c = Counter(scheme)\n",
    "    tot_word_pairs += sum(get_edges(v) for v in c.values())*count\n",
    "    \n",
    "tot_word_pairs"
   ]
  },
  {
   "cell_type": "markdown",
   "metadata": {},
   "source": [
    "## Count unique line ending words"
   ]
  },
  {
   "cell_type": "code",
   "execution_count": 13,
   "metadata": {},
   "outputs": [],
   "source": [
    "def get_line_ending_words(pathlib_file):\n",
    "    # TODO: USE TOKENIZER\n",
    "    stanzas = pathlib_file.read_text().split(\"\\n\\n\")[:-1]\n",
    "    #schemes = [stanza.split(\"\\n\")[0] for stanza in stanzas]\n",
    "    line_ending_words = [line.split(\" \")[-1] for stanza in stanzas for line in stanza.split(\"\\n\")[1:]] \n",
    "    return line_ending_words\n",
    "    #flatten_matrix = [val for sublist in matrix for val in sublist]\n",
    "\n",
    "line_ending_words = []    \n",
    "    \n",
    "for e in dst.iterdir():\n",
    "    line_ending_words += get_line_ending_words(e)"
   ]
  },
  {
   "cell_type": "code",
   "execution_count": 204,
   "metadata": {},
   "outputs": [
    {
     "data": {
      "text/plain": [
       "(26198, 12524)"
      ]
     },
     "execution_count": 204,
     "metadata": {},
     "output_type": "execute_result"
    }
   ],
   "source": [
    "len(line_ending_words), len(set(line_ending_words))"
   ]
  }
 ],
 "metadata": {
  "kernelspec": {
   "display_name": "Python 3",
   "language": "python",
   "name": "python3"
  },
  "language_info": {
   "codemirror_mode": {
    "name": "ipython",
    "version": 3
   },
   "file_extension": ".py",
   "mimetype": "text/x-python",
   "name": "python",
   "nbconvert_exporter": "python",
   "pygments_lexer": "ipython3",
   "version": "3.8.10"
  }
 },
 "nbformat": 4,
 "nbformat_minor": 4
}
